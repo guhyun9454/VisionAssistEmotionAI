{
 "cells": [
  {
   "cell_type": "code",
   "execution_count": 1,
   "metadata": {},
   "outputs": [
    {
     "name": "stdout",
     "output_type": "stream",
     "text": [
      "Found 78413 images belonging to 7 classes.\n",
      "Found 16803 images belonging to 7 classes.\n",
      "Found 16803 images belonging to 7 classes.\n"
     ]
    }
   ],
   "source": [
    "import tensorflow as tf\n",
    "from tensorflow.keras.preprocessing.image import ImageDataGenerator\n",
    "from tensorflow.keras.models import Sequential\n",
    "from tensorflow.keras.layers import Conv2D, MaxPooling2D, Flatten, Dense, Dropout\n",
    "\n",
    "# 이미지 데이터 생성기 설정\n",
    "train_dir = '../데이터셋/한국인 감정인식을 위한 복합 영상/Training/split_data/train'\n",
    "val_dir = '../데이터셋/한국인 감정인식을 위한 복합 영상/Training/split_data/val'\n",
    "test_dir = '../데이터셋/한국인 감정인식을 위한 복합 영상/Training/split_data/test'\n",
    "\n",
    "train_datagen = ImageDataGenerator(rescale=1./255)\n",
    "val_datagen = ImageDataGenerator(rescale=1./255)\n",
    "test_datagen = ImageDataGenerator(rescale=1./255)\n",
    "\n",
    "# 데이터 생성기\n",
    "train_generator = train_datagen.flow_from_directory(\n",
    "    train_dir,\n",
    "    target_size=(100, 100),\n",
    "    batch_size=32,\n",
    "    class_mode='categorical',\n",
    "    color_mode='grayscale')\n",
    "\n",
    "val_generator = val_datagen.flow_from_directory(\n",
    "    val_dir,\n",
    "    target_size=(100, 100),\n",
    "    batch_size=32,\n",
    "    class_mode='categorical'\n",
    "    ,color_mode='grayscale')\n",
    "\n",
    "test_generator = test_datagen.flow_from_directory(\n",
    "    test_dir,\n",
    "    target_size=(100, 100),\n",
    "    batch_size=32,\n",
    "    class_mode='categorical',\n",
    "    color_mode='grayscale')\n",
    "\n"
   ]
  },
  {
   "cell_type": "code",
   "execution_count": 2,
   "metadata": {},
   "outputs": [
    {
     "name": "stdout",
     "output_type": "stream",
     "text": [
      "2.10.0\n"
     ]
    }
   ],
   "source": [
    "print(tf.__version__)"
   ]
  },
  {
   "cell_type": "code",
   "execution_count": 3,
   "metadata": {},
   "outputs": [
    {
     "name": "stdout",
     "output_type": "stream",
     "text": [
      "[name: \"/device:CPU:0\"\n",
      "device_type: \"CPU\"\n",
      "memory_limit: 268435456\n",
      "locality {\n",
      "}\n",
      "incarnation: 9644699734844623339\n",
      "xla_global_id: -1\n",
      ", name: \"/device:GPU:0\"\n",
      "device_type: \"GPU\"\n",
      "memory_limit: 5758779392\n",
      "locality {\n",
      "  bus_id: 1\n",
      "  links {\n",
      "  }\n",
      "}\n",
      "incarnation: 12891183814797424588\n",
      "physical_device_desc: \"device: 0, name: NVIDIA GeForce RTX 3060 Ti, pci bus id: 0000:01:00.0, compute capability: 8.6\"\n",
      "xla_global_id: 416903419\n",
      "]\n"
     ]
    }
   ],
   "source": [
    "from tensorflow.python.client import device_lib\n",
    "print(device_lib.list_local_devices())"
   ]
  },
  {
   "cell_type": "code",
   "execution_count": 4,
   "metadata": {},
   "outputs": [
    {
     "data": {
      "text/plain": [
       "True"
      ]
     },
     "execution_count": 4,
     "metadata": {},
     "output_type": "execute_result"
    }
   ],
   "source": [
    "tf.test.is_built_with_cuda()"
   ]
  },
  {
   "cell_type": "code",
   "execution_count": 5,
   "metadata": {},
   "outputs": [
    {
     "name": "stdout",
     "output_type": "stream",
     "text": [
      "Num GPUs Available:  1\n"
     ]
    }
   ],
   "source": [
    "print(\"Num GPUs Available: \", len(tf.config.list_physical_devices('GPU')))\n"
   ]
  },
  {
   "cell_type": "code",
   "execution_count": 6,
   "metadata": {},
   "outputs": [],
   "source": [
    "import os\n",
    "os.environ[\"CUDA_VISIBLE_DEVICES\"] = \"0\"\n"
   ]
  },
  {
   "cell_type": "code",
   "execution_count": 7,
   "metadata": {},
   "outputs": [
    {
     "name": "stdout",
     "output_type": "stream",
     "text": [
      "Model: \"sequential\"\n",
      "_________________________________________________________________\n",
      " Layer (type)                Output Shape              Param #   \n",
      "=================================================================\n",
      " conv2d (Conv2D)             (None, 100, 100, 64)      1664      \n",
      "                                                                 \n",
      " batch_normalization (BatchN  (None, 100, 100, 64)     256       \n",
      " ormalization)                                                   \n",
      "                                                                 \n",
      " activation (Activation)     (None, 100, 100, 64)      0         \n",
      "                                                                 \n",
      " max_pooling2d (MaxPooling2D  (None, 50, 50, 64)       0         \n",
      " )                                                               \n",
      "                                                                 \n",
      " dropout (Dropout)           (None, 50, 50, 64)        0         \n",
      "                                                                 \n",
      " conv2d_1 (Conv2D)           (None, 50, 50, 128)       401536    \n",
      "                                                                 \n",
      " batch_normalization_1 (Batc  (None, 50, 50, 128)      512       \n",
      " hNormalization)                                                 \n",
      "                                                                 \n",
      " activation_1 (Activation)   (None, 50, 50, 128)       0         \n",
      "                                                                 \n",
      " max_pooling2d_1 (MaxPooling  (None, 25, 25, 128)      0         \n",
      " 2D)                                                             \n",
      "                                                                 \n",
      " dropout_1 (Dropout)         (None, 25, 25, 128)       0         \n",
      "                                                                 \n",
      " conv2d_2 (Conv2D)           (None, 25, 25, 512)       1638912   \n",
      "                                                                 \n",
      " batch_normalization_2 (Batc  (None, 25, 25, 512)      2048      \n",
      " hNormalization)                                                 \n",
      "                                                                 \n",
      " activation_2 (Activation)   (None, 25, 25, 512)       0         \n",
      "                                                                 \n",
      " max_pooling2d_2 (MaxPooling  (None, 12, 12, 512)      0         \n",
      " 2D)                                                             \n",
      "                                                                 \n",
      " dropout_2 (Dropout)         (None, 12, 12, 512)       0         \n",
      "                                                                 \n",
      " conv2d_3 (Conv2D)           (None, 12, 12, 512)       6554112   \n",
      "                                                                 \n",
      " batch_normalization_3 (Batc  (None, 12, 12, 512)      2048      \n",
      " hNormalization)                                                 \n",
      "                                                                 \n",
      " activation_3 (Activation)   (None, 12, 12, 512)       0         \n",
      "                                                                 \n",
      " max_pooling2d_3 (MaxPooling  (None, 6, 6, 512)        0         \n",
      " 2D)                                                             \n",
      "                                                                 \n",
      " dropout_3 (Dropout)         (None, 6, 6, 512)         0         \n",
      "                                                                 \n",
      " flatten (Flatten)           (None, 18432)             0         \n",
      "                                                                 \n",
      " dense (Dense)               (None, 256)               4718848   \n",
      "                                                                 \n",
      " batch_normalization_4 (Batc  (None, 256)              1024      \n",
      " hNormalization)                                                 \n",
      "                                                                 \n",
      " activation_4 (Activation)   (None, 256)               0         \n",
      "                                                                 \n",
      " dropout_4 (Dropout)         (None, 256)               0         \n",
      "                                                                 \n",
      " dense_1 (Dense)             (None, 512)               131584    \n",
      "                                                                 \n",
      " batch_normalization_5 (Batc  (None, 512)              2048      \n",
      " hNormalization)                                                 \n",
      "                                                                 \n",
      " activation_5 (Activation)   (None, 512)               0         \n",
      "                                                                 \n",
      " dropout_5 (Dropout)         (None, 512)               0         \n",
      "                                                                 \n",
      " dense_2 (Dense)             (None, 7)                 3591      \n",
      "                                                                 \n",
      "=================================================================\n",
      "Total params: 13,458,183\n",
      "Trainable params: 13,454,215\n",
      "Non-trainable params: 3,968\n",
      "_________________________________________________________________\n"
     ]
    }
   ],
   "source": [
    "from keras.layers import Dense, Input, Dropout, GlobalAveragePooling2D, Flatten, Conv2D, BatchNormalization, Activation, MaxPooling2D\n",
    "from keras.models import Model, Sequential\n",
    "\n",
    "\n",
    "# CNN 모델 구성\n",
    "model = Sequential()\n",
    "\n",
    "# 1 - Convolution\n",
    "model.add(Conv2D(64,(5,5), padding='same', input_shape=(100, 100,1)))\n",
    "model.add(BatchNormalization())\n",
    "model.add(Activation('relu'))\n",
    "model.add(MaxPooling2D(pool_size=(2, 2)))\n",
    "model.add(Dropout(0.25))\n",
    "\n",
    "# 2nd Convolution layer\n",
    "model.add(Conv2D(128,(7,7), padding='same'))\n",
    "model.add(BatchNormalization())\n",
    "model.add(Activation('relu'))\n",
    "model.add(MaxPooling2D(pool_size=(2, 2)))\n",
    "model.add(Dropout(0.25))\n",
    "\n",
    "# 3rd Convolution layer\n",
    "model.add(Conv2D(512,(5,5), padding='same'))\n",
    "model.add(BatchNormalization())\n",
    "model.add(Activation('relu'))\n",
    "model.add(MaxPooling2D(pool_size=(2, 2)))\n",
    "model.add(Dropout(0.25))\n",
    "\n",
    "# 4th Convolution layer\n",
    "model.add(Conv2D(512,(5,5), padding='same'))\n",
    "model.add(BatchNormalization())\n",
    "model.add(Activation('relu'))\n",
    "model.add(MaxPooling2D(pool_size=(2, 2)))\n",
    "model.add(Dropout(0.25))\n",
    "\n",
    "# Flattening\n",
    "model.add(Flatten())\n",
    "\n",
    "# Fully connected layer 1st layer\n",
    "model.add(Dense(256))\n",
    "model.add(BatchNormalization())\n",
    "model.add(Activation('relu'))\n",
    "model.add(Dropout(0.25))\n",
    "\n",
    "# Fully connected layer 2nd layer\n",
    "model.add(Dense(512))\n",
    "model.add(BatchNormalization())\n",
    "model.add(Activation('relu'))\n",
    "model.add(Dropout(0.25))\n",
    "model.add(Dense(7, activation='softmax'))\n",
    "\n",
    "# 모델 컴파일\n",
    "model.compile(optimizer='adam', loss='categorical_crossentropy', metrics=['accuracy'])\n",
    "\n",
    "# 모델 요약 출력\n",
    "model.summary()\n",
    "\n"
   ]
  },
  {
   "cell_type": "code",
   "execution_count": 8,
   "metadata": {},
   "outputs": [
    {
     "name": "stdout",
     "output_type": "stream",
     "text": [
      "Epoch 1/25\n",
      "2450/2450 [==============================] - 245s 97ms/step - loss: 1.6084 - accuracy: 0.3725 - val_loss: 1.3482 - val_accuracy: 0.4696\n",
      "Epoch 2/25\n",
      "2450/2450 [==============================] - 230s 94ms/step - loss: 1.2827 - accuracy: 0.4977 - val_loss: 1.3682 - val_accuracy: 0.4627\n",
      "Epoch 3/25\n",
      "2450/2450 [==============================] - 230s 94ms/step - loss: 1.1598 - accuracy: 0.5502 - val_loss: 1.5816 - val_accuracy: 0.4119\n",
      "Epoch 4/25\n",
      "2450/2450 [==============================] - 225s 92ms/step - loss: 1.0550 - accuracy: 0.5948 - val_loss: 1.1581 - val_accuracy: 0.5502\n",
      "Epoch 5/25\n",
      "2450/2450 [==============================] - 221s 90ms/step - loss: 0.9707 - accuracy: 0.6290 - val_loss: 1.1199 - val_accuracy: 0.5910\n",
      "Epoch 6/25\n",
      "2450/2450 [==============================] - 221s 90ms/step - loss: 0.8862 - accuracy: 0.6610 - val_loss: 0.9309 - val_accuracy: 0.6481\n",
      "Epoch 7/25\n",
      "2450/2450 [==============================] - 228s 93ms/step - loss: 0.8106 - accuracy: 0.6915 - val_loss: 1.0527 - val_accuracy: 0.5989\n",
      "Epoch 8/25\n",
      "2450/2450 [==============================] - 231s 94ms/step - loss: 0.7413 - accuracy: 0.7182 - val_loss: 0.9542 - val_accuracy: 0.6424\n",
      "Epoch 9/25\n",
      "2450/2450 [==============================] - 222s 91ms/step - loss: 0.6746 - accuracy: 0.7442 - val_loss: 0.9090 - val_accuracy: 0.6610\n",
      "Epoch 10/25\n",
      "2450/2450 [==============================] - 221s 90ms/step - loss: 0.6136 - accuracy: 0.7701 - val_loss: 0.9376 - val_accuracy: 0.6603\n",
      "Epoch 11/25\n",
      "2450/2450 [==============================] - 223s 91ms/step - loss: 0.5528 - accuracy: 0.7938 - val_loss: 0.9619 - val_accuracy: 0.6571\n",
      "Epoch 12/25\n",
      "2450/2450 [==============================] - 220s 90ms/step - loss: 0.5009 - accuracy: 0.8150 - val_loss: 0.9773 - val_accuracy: 0.6640\n",
      "Epoch 13/25\n",
      "2450/2450 [==============================] - 220s 90ms/step - loss: 0.4495 - accuracy: 0.8341 - val_loss: 0.9774 - val_accuracy: 0.6464\n",
      "Epoch 14/25\n",
      "2450/2450 [==============================] - 221s 90ms/step - loss: 0.4068 - accuracy: 0.8513 - val_loss: 1.0911 - val_accuracy: 0.6658\n",
      "Epoch 15/25\n",
      "2450/2450 [==============================] - 222s 90ms/step - loss: 0.3699 - accuracy: 0.8673 - val_loss: 1.0778 - val_accuracy: 0.6557\n",
      "Epoch 16/25\n",
      "2450/2450 [==============================] - 221s 90ms/step - loss: 0.3385 - accuracy: 0.8778 - val_loss: 1.1059 - val_accuracy: 0.6669\n",
      "Epoch 17/25\n",
      "2450/2450 [==============================] - 220s 90ms/step - loss: 0.3102 - accuracy: 0.8884 - val_loss: 1.1462 - val_accuracy: 0.6348\n",
      "Epoch 18/25\n",
      "2450/2450 [==============================] - 220s 90ms/step - loss: 0.2838 - accuracy: 0.8991 - val_loss: 1.2653 - val_accuracy: 0.6633\n",
      "Epoch 19/25\n",
      "2450/2450 [==============================] - 220s 90ms/step - loss: 0.2647 - accuracy: 0.9056 - val_loss: 1.2400 - val_accuracy: 0.6507\n",
      "Epoch 20/25\n",
      "2450/2450 [==============================] - 220s 90ms/step - loss: 0.2476 - accuracy: 0.9126 - val_loss: 1.3111 - val_accuracy: 0.6499\n",
      "Epoch 21/25\n",
      "2450/2450 [==============================] - 220s 90ms/step - loss: 0.2322 - accuracy: 0.9174 - val_loss: 1.2735 - val_accuracy: 0.6579\n",
      "Epoch 22/25\n",
      "2450/2450 [==============================] - 220s 90ms/step - loss: 0.2199 - accuracy: 0.9219 - val_loss: 1.3439 - val_accuracy: 0.6546\n",
      "Epoch 23/25\n",
      "2450/2450 [==============================] - 222s 90ms/step - loss: 0.2077 - accuracy: 0.9260 - val_loss: 1.3768 - val_accuracy: 0.6726\n",
      "Epoch 24/25\n",
      "2450/2450 [==============================] - 220s 90ms/step - loss: 0.1992 - accuracy: 0.9299 - val_loss: 1.3519 - val_accuracy: 0.6596\n",
      "Epoch 25/25\n",
      "2450/2450 [==============================] - 222s 90ms/step - loss: 0.1876 - accuracy: 0.9343 - val_loss: 1.4017 - val_accuracy: 0.6685\n"
     ]
    }
   ],
   "source": [
    "history = model.fit(\n",
    "    train_generator,\n",
    "    steps_per_epoch=train_generator.samples // train_generator.batch_size,\n",
    "    epochs=25,\n",
    "    validation_data=val_generator,\n",
    "    validation_steps=val_generator.samples // val_generator.batch_size)"
   ]
  },
  {
   "cell_type": "code",
   "execution_count": 9,
   "metadata": {},
   "outputs": [
    {
     "name": "stdout",
     "output_type": "stream",
     "text": [
      "526/526 [==============================] - 26s 49ms/step - loss: 1.4210 - accuracy: 0.6685\n"
     ]
    },
    {
     "data": {
      "text/plain": [
       "[1.4209973812103271, 0.6685115694999695]"
      ]
     },
     "execution_count": 9,
     "metadata": {},
     "output_type": "execute_result"
    }
   ],
   "source": [
    "model.evaluate(test_generator)\n"
   ]
  },
  {
   "cell_type": "code",
   "execution_count": 10,
   "metadata": {},
   "outputs": [
    {
     "data": {
      "image/png": "[encoded data removed]",
      "text/plain": [
       "<Figure size 640x480 with 1 Axes>"
      ]
     },
     "metadata": {},
     "output_type": "display_data"
    }
   ],
   "source": [
    "import matplotlib.pyplot as plt\n",
    "plt.plot(history.history[\"loss\"])\n",
    "plt.plot(history.history[\"val_loss\"])\n",
    "plt.xlabel(\"epoch\")\n",
    "plt.ylabel(\"loss\")\n",
    "\n",
    "plt.show()"
   ]
  }
 ],
 "metadata": {
  "kernelspec": {
   "display_name": "Python 3",
   "language": "python",
   "name": "python3"
  },
  "language_info": {
   "codemirror_mode": {
    "name": "ipython",
    "version": 3
   },
   "file_extension": ".py",
   "mimetype": "text/x-python",
   "name": "python",
   "nbconvert_exporter": "python",
   "pygments_lexer": "ipython3",
   "version": "3.10.11"
  }
 },
 "nbformat": 4,
 "nbformat_minor": 2
}
