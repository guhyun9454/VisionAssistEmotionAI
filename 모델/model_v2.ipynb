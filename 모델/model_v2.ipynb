{
 "cells": [
  {
   "cell_type": "code",
   "execution_count": 1,
   "metadata": {},
   "outputs": [
    {
     "name": "stdout",
     "output_type": "stream",
     "text": [
      "Found 51328 images belonging to 7 classes.\n",
      "Found 10999 images belonging to 7 classes.\n",
      "Found 10999 images belonging to 7 classes.\n"
     ]
    }
   ],
   "source": [
    "import tensorflow as tf\n",
    "from tensorflow.keras.preprocessing.image import ImageDataGenerator\n",
    "from tensorflow.keras.models import Sequential\n",
    "from tensorflow.keras.layers import Conv2D, MaxPooling2D, Flatten, Dense, Dropout\n",
    "\n",
    "train_dir = \"../데이터셋/한국인 감정인식을 위한 복합 영상/최종데이터셋/train\"\n",
    "val_dir = \"../데이터셋/한국인 감정인식을 위한 복합 영상/최종데이터셋/val\"\n",
    "test_dir = \"../데이터셋/한국인 감정인식을 위한 복합 영상/최종데이터셋/test\"\n",
    "\n",
    "train_datagen = ImageDataGenerator(rescale=1./255\n",
    "                                   horizontal_flip=True)\n",
    "val_datagen = ImageDataGenerator(rescale=1./255)\n",
    "test_datagen = ImageDataGenerator(rescale=1./255)\n",
    "\n",
    "train_generator = train_datagen.flow_from_directory(\n",
    "    train_dir,\n",
    "    target_size=(48, 48),\n",
    "    batch_size=32,\n",
    "    class_mode='categorical',\n",
    "    color_mode='grayscale')\n",
    "\n",
    "val_generator = val_datagen.flow_from_directory(\n",
    "    val_dir,\n",
    "    target_size=(48, 48),\n",
    "    batch_size=32,\n",
    "    class_mode='categorical'\n",
    "    ,color_mode='grayscale')\n",
    "\n",
    "test_generator = test_datagen.flow_from_directory(\n",
    "    test_dir,\n",
    "    target_size=(48, 48),\n",
    "    batch_size=32,\n",
    "    class_mode='categorical',\n",
    "    color_mode='grayscale')"
   ]
  },
  {
   "cell_type": "code",
   "execution_count": 2,
   "metadata": {},
   "outputs": [
    {
     "name": "stdout",
     "output_type": "stream",
     "text": [
      "2.10.0\n"
     ]
    }
   ],
   "source": [
    "print(tf.__version__)"
   ]
  },
  {
   "cell_type": "code",
   "execution_count": 3,
   "metadata": {},
   "outputs": [
    {
     "data": {
      "text/plain": [
       "True"
      ]
     },
     "execution_count": 3,
     "metadata": {},
     "output_type": "execute_result"
    }
   ],
   "source": [
    "tf.test.is_built_with_cuda()"
   ]
  },
  {
   "cell_type": "code",
   "execution_count": 4,
   "metadata": {},
   "outputs": [
    {
     "name": "stdout",
     "output_type": "stream",
     "text": [
      "Num GPUs Available:  1\n"
     ]
    }
   ],
   "source": [
    "print(\"Num GPUs Available: \", len(tf.config.list_physical_devices('GPU')))\n"
   ]
  },
  {
   "cell_type": "code",
   "execution_count": 5,
   "metadata": {},
   "outputs": [],
   "source": [
    "import os\n",
    "os.environ[\"CUDA_VISIBLE_DEVICES\"] = \"0\""
   ]
  },
  {
   "cell_type": "code",
   "execution_count": 6,
   "metadata": {},
   "outputs": [
    {
     "name": "stdout",
     "output_type": "stream",
     "text": [
      "Model: \"sequential\"\n",
      "_________________________________________________________________\n",
      " Layer (type)                Output Shape              Param #   \n",
      "=================================================================\n",
      " conv2d (Conv2D)             (None, 48, 48, 64)        640       \n",
      "                                                                 \n",
      " batch_normalization (BatchN  (None, 48, 48, 64)       256       \n",
      " ormalization)                                                   \n",
      "                                                                 \n",
      " activation (Activation)     (None, 48, 48, 64)        0         \n",
      "                                                                 \n",
      " max_pooling2d (MaxPooling2D  (None, 24, 24, 64)       0         \n",
      " )                                                               \n",
      "                                                                 \n",
      " dropout (Dropout)           (None, 24, 24, 64)        0         \n",
      "                                                                 \n",
      " conv2d_1 (Conv2D)           (None, 24, 24, 128)       204928    \n",
      "                                                                 \n",
      " batch_normalization_1 (Batc  (None, 24, 24, 128)      512       \n",
      " hNormalization)                                                 \n",
      "                                                                 \n",
      " activation_1 (Activation)   (None, 24, 24, 128)       0         \n",
      "                                                                 \n",
      " max_pooling2d_1 (MaxPooling  (None, 12, 12, 128)      0         \n",
      " 2D)                                                             \n",
      "                                                                 \n",
      " dropout_1 (Dropout)         (None, 12, 12, 128)       0         \n",
      "                                                                 \n",
      " conv2d_2 (Conv2D)           (None, 12, 12, 512)       590336    \n",
      "                                                                 \n",
      " batch_normalization_2 (Batc  (None, 12, 12, 512)      2048      \n",
      " hNormalization)                                                 \n",
      "                                                                 \n",
      " activation_2 (Activation)   (None, 12, 12, 512)       0         \n",
      "                                                                 \n",
      " max_pooling2d_2 (MaxPooling  (None, 6, 6, 512)        0         \n",
      " 2D)                                                             \n",
      "                                                                 \n",
      " dropout_2 (Dropout)         (None, 6, 6, 512)         0         \n",
      "                                                                 \n",
      " conv2d_3 (Conv2D)           (None, 6, 6, 512)         2359808   \n",
      "                                                                 \n",
      " batch_normalization_3 (Batc  (None, 6, 6, 512)        2048      \n",
      " hNormalization)                                                 \n",
      "                                                                 \n",
      " activation_3 (Activation)   (None, 6, 6, 512)         0         \n",
      "                                                                 \n",
      " max_pooling2d_3 (MaxPooling  (None, 3, 3, 512)        0         \n",
      " 2D)                                                             \n",
      "                                                                 \n",
      " dropout_3 (Dropout)         (None, 3, 3, 512)         0         \n",
      "                                                                 \n",
      " flatten (Flatten)           (None, 4608)              0         \n",
      "                                                                 \n",
      " dense (Dense)               (None, 256)               1179904   \n",
      "                                                                 \n",
      " batch_normalization_4 (Batc  (None, 256)              1024      \n",
      " hNormalization)                                                 \n",
      "                                                                 \n",
      " activation_4 (Activation)   (None, 256)               0         \n",
      "                                                                 \n",
      " dropout_4 (Dropout)         (None, 256)               0         \n",
      "                                                                 \n",
      " dense_1 (Dense)             (None, 512)               131584    \n",
      "                                                                 \n",
      " batch_normalization_5 (Batc  (None, 512)              2048      \n",
      " hNormalization)                                                 \n",
      "                                                                 \n",
      " activation_5 (Activation)   (None, 512)               0         \n",
      "                                                                 \n",
      " dropout_5 (Dropout)         (None, 512)               0         \n",
      "                                                                 \n",
      " dense_2 (Dense)             (None, 7)                 3591      \n",
      "                                                                 \n",
      "=================================================================\n",
      "Total params: 4,478,727\n",
      "Trainable params: 4,474,759\n",
      "Non-trainable params: 3,968\n",
      "_________________________________________________________________\n"
     ]
    }
   ],
   "source": [
    "from keras.layers import Dense, Input, Dropout, GlobalAveragePooling2D, Flatten, Conv2D, BatchNormalization, Activation, MaxPooling2D\n",
    "from keras.models import Model, Sequential\n",
    "\n",
    "\n",
    "# CNN 모델 구성\n",
    "model = Sequential()\n",
    "\n",
    "model.add(Conv2D(64,(3,3), padding='same', input_shape=(48, 48,1)))\n",
    "model.add(BatchNormalization())\n",
    "model.add(Activation('relu'))\n",
    "model.add(MaxPooling2D(pool_size=(2, 2)))\n",
    "model.add(Dropout(0.25))\n",
    "\n",
    "model.add(Conv2D(128,(5,5), padding='same'))\n",
    "model.add(BatchNormalization())\n",
    "model.add(Activation('relu'))\n",
    "model.add(MaxPooling2D(pool_size=(2, 2)))\n",
    "model.add(Dropout(0.25))\n",
    "\n",
    "model.add(Conv2D(512,(3,3), padding='same'))\n",
    "model.add(BatchNormalization())\n",
    "model.add(Activation('relu'))\n",
    "model.add(MaxPooling2D(pool_size=(2, 2)))\n",
    "model.add(Dropout(0.25))\n",
    "\n",
    "model.add(Conv2D(512,(3,3), padding='same'))\n",
    "model.add(BatchNormalization())\n",
    "model.add(Activation('relu'))\n",
    "model.add(MaxPooling2D(pool_size=(2, 2)))\n",
    "model.add(Dropout(0.25))\n",
    "\n",
    "model.add(Flatten())\n",
    "\n",
    "model.add(Dense(256))\n",
    "model.add(BatchNormalization())\n",
    "model.add(Activation('relu'))\n",
    "model.add(Dropout(0.25))\n",
    "\n",
    "model.add(Dense(512))\n",
    "model.add(BatchNormalization())\n",
    "model.add(Activation('relu'))\n",
    "model.add(Dropout(0.25))\n",
    "\n",
    "\n",
    "model.add(Dense(7, activation='softmax'))\n",
    "\n",
    "# 모델 컴파일\n",
    "model.compile(optimizer='adam', loss='categorical_crossentropy', metrics=['accuracy'])\n",
    "\n",
    "# 모델 요약 출력\n",
    "model.summary()"
   ]
  },
  {
   "cell_type": "code",
   "execution_count": 7,
   "metadata": {},
   "outputs": [],
   "source": [
    "from keras.callbacks import ModelCheckpoint, EarlyStopping\n",
    "checkpoint_path = \"saved_models/v2_with_new_data_best_model_2.hdf5\"\n",
    "checkpoint_cb = ModelCheckpoint(checkpoint_path, verbose=1, save_best_only=True,monitor='val_loss')\n",
    "early_stop_cb = EarlyStopping(patience=10,restore_best_weights=True)"
   ]
  },
  {
   "cell_type": "code",
   "execution_count": 8,
   "metadata": {},
   "outputs": [
    {
     "name": "stdout",
     "output_type": "stream",
     "text": [
      "Epoch 1/50\n",
      "1604/1604 [==============================] - ETA: 0s - loss: 1.4602 - accuracy: 0.4445\n",
      "Epoch 1: val_loss improved from inf to 1.14356, saving model to saved_models\\v2_with_new_data_best_model_2.hdf5\n",
      "1604/1604 [==============================] - 112s 67ms/step - loss: 1.4602 - accuracy: 0.4445 - val_loss: 1.1436 - val_accuracy: 0.5687\n",
      "Epoch 2/50\n",
      "1603/1604 [============================>.] - ETA: 0s - loss: 1.1331 - accuracy: 0.5756\n",
      "Epoch 2: val_loss improved from 1.14356 to 1.01429, saving model to saved_models\\v2_with_new_data_best_model_2.hdf5\n",
      "1604/1604 [==============================] - 71s 44ms/step - loss: 1.1332 - accuracy: 0.5755 - val_loss: 1.0143 - val_accuracy: 0.6213\n",
      "Epoch 3/50\n",
      "1603/1604 [============================>.] - ETA: 0s - loss: 1.0301 - accuracy: 0.6140\n",
      "Epoch 3: val_loss did not improve from 1.01429\n",
      "1604/1604 [==============================] - 71s 44ms/step - loss: 1.0300 - accuracy: 0.6141 - val_loss: 1.1235 - val_accuracy: 0.5768\n",
      "Epoch 4/50\n",
      "1603/1604 [============================>.] - ETA: 0s - loss: 0.9559 - accuracy: 0.6441\n",
      "Epoch 4: val_loss improved from 1.01429 to 0.93912, saving model to saved_models\\v2_with_new_data_best_model_2.hdf5\n",
      "1604/1604 [==============================] - 70s 44ms/step - loss: 0.9559 - accuracy: 0.6441 - val_loss: 0.9391 - val_accuracy: 0.6534\n",
      "Epoch 5/50\n",
      "1603/1604 [============================>.] - ETA: 0s - loss: 0.8951 - accuracy: 0.6690\n",
      "Epoch 5: val_loss improved from 0.93912 to 0.85383, saving model to saved_models\\v2_with_new_data_best_model_2.hdf5\n",
      "1604/1604 [==============================] - 69s 43ms/step - loss: 0.8950 - accuracy: 0.6690 - val_loss: 0.8538 - val_accuracy: 0.6860\n",
      "Epoch 6/50\n",
      "1604/1604 [==============================] - ETA: 0s - loss: 0.8347 - accuracy: 0.6912\n",
      "Epoch 6: val_loss did not improve from 0.85383\n",
      "1604/1604 [==============================] - 68s 42ms/step - loss: 0.8347 - accuracy: 0.6912 - val_loss: 0.8836 - val_accuracy: 0.6784\n",
      "Epoch 7/50\n",
      "1603/1604 [============================>.] - ETA: 0s - loss: 0.7837 - accuracy: 0.7121\n",
      "Epoch 7: val_loss did not improve from 0.85383\n",
      "1604/1604 [==============================] - 67s 42ms/step - loss: 0.7836 - accuracy: 0.7122 - val_loss: 0.9240 - val_accuracy: 0.6618\n",
      "Epoch 8/50\n",
      "1603/1604 [============================>.] - ETA: 0s - loss: 0.7305 - accuracy: 0.7291\n",
      "Epoch 8: val_loss improved from 0.85383 to 0.82241, saving model to saved_models\\v2_with_new_data_best_model_2.hdf5\n",
      "1604/1604 [==============================] - 68s 42ms/step - loss: 0.7305 - accuracy: 0.7292 - val_loss: 0.8224 - val_accuracy: 0.7002\n",
      "Epoch 9/50\n",
      "1604/1604 [==============================] - ETA: 0s - loss: 0.6912 - accuracy: 0.7447\n",
      "Epoch 9: val_loss improved from 0.82241 to 0.69087, saving model to saved_models\\v2_with_new_data_best_model_2.hdf5\n",
      "1604/1604 [==============================] - 68s 42ms/step - loss: 0.6912 - accuracy: 0.7447 - val_loss: 0.6909 - val_accuracy: 0.7492\n",
      "Epoch 10/50\n",
      "1603/1604 [============================>.] - ETA: 0s - loss: 0.6556 - accuracy: 0.7590\n",
      "Epoch 10: val_loss did not improve from 0.69087\n",
      "1604/1604 [==============================] - 68s 42ms/step - loss: 0.6556 - accuracy: 0.7590 - val_loss: 0.7082 - val_accuracy: 0.7448\n",
      "Epoch 11/50\n",
      "1604/1604 [==============================] - ETA: 0s - loss: 0.6154 - accuracy: 0.7739\n",
      "Epoch 11: val_loss improved from 0.69087 to 0.67619, saving model to saved_models\\v2_with_new_data_best_model_2.hdf5\n",
      "1604/1604 [==============================] - 68s 42ms/step - loss: 0.6154 - accuracy: 0.7739 - val_loss: 0.6762 - val_accuracy: 0.7555\n",
      "Epoch 12/50\n",
      "1604/1604 [==============================] - ETA: 0s - loss: 0.5845 - accuracy: 0.7869\n",
      "Epoch 12: val_loss did not improve from 0.67619\n",
      "1604/1604 [==============================] - 67s 41ms/step - loss: 0.5845 - accuracy: 0.7869 - val_loss: 0.6781 - val_accuracy: 0.7517\n",
      "Epoch 13/50\n",
      "1604/1604 [==============================] - ETA: 0s - loss: 0.5532 - accuracy: 0.7984\n",
      "Epoch 13: val_loss did not improve from 0.67619\n",
      "1604/1604 [==============================] - 64s 40ms/step - loss: 0.5532 - accuracy: 0.7984 - val_loss: 0.7819 - val_accuracy: 0.7227\n",
      "Epoch 14/50\n",
      "1603/1604 [============================>.] - ETA: 0s - loss: 0.5280 - accuracy: 0.8073\n",
      "Epoch 14: val_loss did not improve from 0.67619\n",
      "1604/1604 [==============================] - 65s 40ms/step - loss: 0.5280 - accuracy: 0.8073 - val_loss: 0.6764 - val_accuracy: 0.7585\n",
      "Epoch 15/50\n",
      "1604/1604 [==============================] - ETA: 0s - loss: 0.4991 - accuracy: 0.8186\n",
      "Epoch 15: val_loss improved from 0.67619 to 0.65720, saving model to saved_models\\v2_with_new_data_best_model_2.hdf5\n",
      "1604/1604 [==============================] - 64s 40ms/step - loss: 0.4991 - accuracy: 0.8186 - val_loss: 0.6572 - val_accuracy: 0.7675\n",
      "Epoch 16/50\n",
      "1604/1604 [==============================] - ETA: 0s - loss: 0.4747 - accuracy: 0.8251\n",
      "Epoch 16: val_loss did not improve from 0.65720\n",
      "1604/1604 [==============================] - 64s 40ms/step - loss: 0.4747 - accuracy: 0.8251 - val_loss: 0.7725 - val_accuracy: 0.7367\n",
      "Epoch 17/50\n",
      "1604/1604 [==============================] - ETA: 0s - loss: 0.4605 - accuracy: 0.8308\n",
      "Epoch 17: val_loss improved from 0.65720 to 0.65677, saving model to saved_models\\v2_with_new_data_best_model_2.hdf5\n",
      "1604/1604 [==============================] - 64s 40ms/step - loss: 0.4605 - accuracy: 0.8308 - val_loss: 0.6568 - val_accuracy: 0.7697\n",
      "Epoch 18/50\n",
      "1604/1604 [==============================] - ETA: 0s - loss: 0.4387 - accuracy: 0.8402\n",
      "Epoch 18: val_loss did not improve from 0.65677\n",
      "1604/1604 [==============================] - 64s 40ms/step - loss: 0.4387 - accuracy: 0.8402 - val_loss: 0.7180 - val_accuracy: 0.7652\n",
      "Epoch 19/50\n",
      "1603/1604 [============================>.] - ETA: 0s - loss: 0.4140 - accuracy: 0.8496\n",
      "Epoch 19: val_loss did not improve from 0.65677\n",
      "1604/1604 [==============================] - 64s 40ms/step - loss: 0.4139 - accuracy: 0.8496 - val_loss: 0.8007 - val_accuracy: 0.7398\n",
      "Epoch 20/50\n",
      "1603/1604 [============================>.] - ETA: 0s - loss: 0.4005 - accuracy: 0.8522\n",
      "Epoch 20: val_loss did not improve from 0.65677\n",
      "1604/1604 [==============================] - 64s 40ms/step - loss: 0.4005 - accuracy: 0.8522 - val_loss: 0.6923 - val_accuracy: 0.7714\n",
      "Epoch 21/50\n",
      "1603/1604 [============================>.] - ETA: 0s - loss: 0.3867 - accuracy: 0.8584\n",
      "Epoch 21: val_loss did not improve from 0.65677\n",
      "1604/1604 [==============================] - 73s 45ms/step - loss: 0.3867 - accuracy: 0.8583 - val_loss: 0.7374 - val_accuracy: 0.7562\n",
      "Epoch 22/50\n",
      "1604/1604 [==============================] - ETA: 0s - loss: 0.3724 - accuracy: 0.8637\n",
      "Epoch 22: val_loss did not improve from 0.65677\n",
      "1604/1604 [==============================] - 66s 41ms/step - loss: 0.3724 - accuracy: 0.8637 - val_loss: 0.7307 - val_accuracy: 0.7716\n",
      "Epoch 23/50\n",
      "1603/1604 [============================>.] - ETA: 0s - loss: 0.3555 - accuracy: 0.8701\n",
      "Epoch 23: val_loss did not improve from 0.65677\n",
      "1604/1604 [==============================] - 66s 41ms/step - loss: 0.3554 - accuracy: 0.8701 - val_loss: 0.7455 - val_accuracy: 0.7672\n",
      "Epoch 24/50\n",
      "1604/1604 [==============================] - ETA: 0s - loss: 0.3462 - accuracy: 0.8737\n",
      "Epoch 24: val_loss did not improve from 0.65677\n",
      "1604/1604 [==============================] - 67s 41ms/step - loss: 0.3462 - accuracy: 0.8737 - val_loss: 0.8012 - val_accuracy: 0.7496\n",
      "Epoch 25/50\n",
      "1603/1604 [============================>.] - ETA: 0s - loss: 0.3337 - accuracy: 0.8771\n",
      "Epoch 25: val_loss did not improve from 0.65677\n",
      "1604/1604 [==============================] - 67s 42ms/step - loss: 0.3338 - accuracy: 0.8771 - val_loss: 0.8334 - val_accuracy: 0.7507\n",
      "Epoch 26/50\n",
      "1603/1604 [============================>.] - ETA: 0s - loss: 0.3254 - accuracy: 0.8822\n",
      "Epoch 26: val_loss did not improve from 0.65677\n",
      "1604/1604 [==============================] - 67s 42ms/step - loss: 0.3254 - accuracy: 0.8821 - val_loss: 0.7466 - val_accuracy: 0.7737\n",
      "Epoch 27/50\n",
      "1604/1604 [==============================] - ETA: 0s - loss: 0.3131 - accuracy: 0.8865\n",
      "Epoch 27: val_loss did not improve from 0.65677\n",
      "1604/1604 [==============================] - 67s 41ms/step - loss: 0.3131 - accuracy: 0.8865 - val_loss: 0.7170 - val_accuracy: 0.7766\n"
     ]
    }
   ],
   "source": [
    "history = model.fit(\n",
    "    train_generator,\n",
    "    steps_per_epoch=train_generator.samples // train_generator.batch_size,\n",
    "    epochs=50,\n",
    "    validation_data=val_generator,\n",
    "    validation_steps=val_generator.samples // val_generator.batch_size,\n",
    "    callbacks=[checkpoint_cb,early_stop_cb])"
   ]
  },
  {
   "cell_type": "code",
   "execution_count": 9,
   "metadata": {},
   "outputs": [
    {
     "name": "stdout",
     "output_type": "stream",
     "text": [
      "344/344 [==============================] - 19s 53ms/step - loss: 0.6611 - accuracy: 0.7723\n"
     ]
    },
    {
     "data": {
      "text/plain": [
       "[0.6610718369483948, 0.7722520232200623]"
      ]
     },
     "execution_count": 9,
     "metadata": {},
     "output_type": "execute_result"
    }
   ],
   "source": [
    "model.evaluate(test_generator)\n"
   ]
  },
  {
   "cell_type": "code",
   "execution_count": 10,
   "metadata": {},
   "outputs": [
    {
     "data": {
      "image/png": "[encoded data removed]",
      "text/plain": [
       "<Figure size 640x480 with 1 Axes>"
      ]
     },
     "metadata": {},
     "output_type": "display_data"
    }
   ],
   "source": [
    "import matplotlib.pyplot as plt\n",
    "plt.plot(history.history[\"loss\"])\n",
    "plt.plot(history.history[\"val_loss\"])\n",
    "plt.xlabel(\"epoch\")\n",
    "plt.ylabel(\"loss\")\n",
    "\n",
    "plt.show()"
   ]
  },
  {
   "cell_type": "code",
   "execution_count": 16,
   "metadata": {},
   "outputs": [
    {
     "name": "stdout",
     "output_type": "stream",
     "text": [
      "1/1 [==============================] - 0s 25ms/step\n",
      "[[2.9638849e-04 6.7701675e-02 8.4385854e-01 5.0272100e-02 2.0759452e-02\n",
      "  1.7067680e-02 4.4132848e-05]]\n",
      "불안\n"
     ]
    }
   ],
   "source": [
    "from PIL import Image\n",
    "import numpy as np\n",
    "classes = [\"분노\",\"슬픔\",\"불안\",\"상처\",\"당황\",\"기쁨\",\"중립\"]\n",
    "img = Image.open('test_images\\jin_young1.png')\n",
    "img = img.resize((48, 48)).convert('L')\n",
    "img_array = np.array(img) / 255.0 \n",
    "img_array = img_array.reshape(1, 48, 48, 1)\n",
    "prediction = model.predict(img_array)\n",
    "print(prediction)\n",
    "result = classes[np.argmax(prediction, axis=1)[0]]\n",
    "\n",
    "print(result)\n"
   ]
  }
 ],
 "metadata": {
  "kernelspec": {
   "display_name": "Python 3",
   "language": "python",
   "name": "python3"
  },
  "language_info": {
   "codemirror_mode": {
    "name": "ipython",
    "version": 3
   },
   "file_extension": ".py",
   "mimetype": "text/x-python",
   "name": "python",
   "nbconvert_exporter": "python",
   "pygments_lexer": "ipython3",
   "version": "3.10.11"
  }
 },
 "nbformat": 4,
 "nbformat_minor": 2
}
