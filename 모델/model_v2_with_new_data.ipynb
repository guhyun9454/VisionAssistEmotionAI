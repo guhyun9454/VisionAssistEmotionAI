{
 "cells": [
  {
   "cell_type": "code",
   "execution_count": 1,
   "metadata": {},
   "outputs": [
    {
     "name": "stdout",
     "output_type": "stream",
     "text": [
      "Found 51454 images belonging to 7 classes.\n",
      "Found 11026 images belonging to 7 classes.\n",
      "Found 11026 images belonging to 7 classes.\n"
     ]
    }
   ],
   "source": [
    "import tensorflow as tf\n",
    "from tensorflow.keras.preprocessing.image import ImageDataGenerator\n",
    "from tensorflow.keras.models import Sequential\n",
    "from tensorflow.keras.layers import Conv2D, MaxPooling2D, Flatten, Dense, Dropout\n",
    "\n",
    "# 이미지 데이터 생성기 설정\n",
    "train_dir = \"../데이터셋/한국인 감정인식을 위한 복합 영상/Training/1차 검수/split_data/train\"\n",
    "val_dir = \"../데이터셋/한국인 감정인식을 위한 복합 영상/Training/1차 검수/split_data/val\"\n",
    "test_dir = \"../데이터셋/한국인 감정인식을 위한 복합 영상/Training/1차 검수/split_data/test\"\n",
    "\n",
    "train_datagen = ImageDataGenerator(rescale=1./255)\n",
    "val_datagen = ImageDataGenerator(rescale=1./255)\n",
    "test_datagen = ImageDataGenerator(rescale=1./255)\n",
    "\n",
    "# 데이터 생성기\n",
    "train_generator = train_datagen.flow_from_directory(\n",
    "    train_dir,\n",
    "    target_size=(48, 48),\n",
    "    batch_size=32,\n",
    "    class_mode='categorical',\n",
    "    color_mode='grayscale')\n",
    "\n",
    "val_generator = val_datagen.flow_from_directory(\n",
    "    val_dir,\n",
    "    target_size=(48, 48),\n",
    "    batch_size=32,\n",
    "    class_mode='categorical'\n",
    "    ,color_mode='grayscale')\n",
    "\n",
    "test_generator = test_datagen.flow_from_directory(\n",
    "    test_dir,\n",
    "    target_size=(48, 48),\n",
    "    batch_size=32,\n",
    "    class_mode='categorical',\n",
    "    color_mode='grayscale')\n",
    "\n"
   ]
  },
  {
   "cell_type": "code",
   "execution_count": 2,
   "metadata": {},
   "outputs": [
    {
     "name": "stdout",
     "output_type": "stream",
     "text": [
      "2.10.0\n"
     ]
    }
   ],
   "source": [
    "print(tf.__version__)"
   ]
  },
  {
   "cell_type": "code",
   "execution_count": 3,
   "metadata": {},
   "outputs": [
    {
     "name": "stdout",
     "output_type": "stream",
     "text": [
      "[name: \"/device:CPU:0\"\n",
      "device_type: \"CPU\"\n",
      "memory_limit: 268435456\n",
      "locality {\n",
      "}\n",
      "incarnation: 6315959283707105124\n",
      "xla_global_id: -1\n",
      ", name: \"/device:GPU:0\"\n",
      "device_type: \"GPU\"\n",
      "memory_limit: 5758779392\n",
      "locality {\n",
      "  bus_id: 1\n",
      "  links {\n",
      "  }\n",
      "}\n",
      "incarnation: 3253755745423860738\n",
      "physical_device_desc: \"device: 0, name: NVIDIA GeForce RTX 3060 Ti, pci bus id: 0000:01:00.0, compute capability: 8.6\"\n",
      "xla_global_id: 416903419\n",
      "]\n"
     ]
    }
   ],
   "source": [
    "from tensorflow.python.client import device_lib\n",
    "print(device_lib.list_local_devices())"
   ]
  },
  {
   "cell_type": "code",
   "execution_count": 4,
   "metadata": {},
   "outputs": [
    {
     "data": {
      "text/plain": [
       "True"
      ]
     },
     "execution_count": 4,
     "metadata": {},
     "output_type": "execute_result"
    }
   ],
   "source": [
    "tf.test.is_built_with_cuda()"
   ]
  },
  {
   "cell_type": "code",
   "execution_count": 5,
   "metadata": {},
   "outputs": [
    {
     "name": "stdout",
     "output_type": "stream",
     "text": [
      "Num GPUs Available:  1\n"
     ]
    }
   ],
   "source": [
    "print(\"Num GPUs Available: \", len(tf.config.list_physical_devices('GPU')))\n"
   ]
  },
  {
   "cell_type": "code",
   "execution_count": 6,
   "metadata": {},
   "outputs": [],
   "source": [
    "import os\n",
    "os.environ[\"CUDA_VISIBLE_DEVICES\"] = \"0\"\n"
   ]
  },
  {
   "cell_type": "code",
   "execution_count": 7,
   "metadata": {},
   "outputs": [
    {
     "name": "stdout",
     "output_type": "stream",
     "text": [
      "Model: \"sequential\"\n",
      "_________________________________________________________________\n",
      " Layer (type)                Output Shape              Param #   \n",
      "=================================================================\n",
      " conv2d (Conv2D)             (None, 48, 48, 64)        640       \n",
      "                                                                 \n",
      " batch_normalization (BatchN  (None, 48, 48, 64)       256       \n",
      " ormalization)                                                   \n",
      "                                                                 \n",
      " activation (Activation)     (None, 48, 48, 64)        0         \n",
      "                                                                 \n",
      " max_pooling2d (MaxPooling2D  (None, 24, 24, 64)       0         \n",
      " )                                                               \n",
      "                                                                 \n",
      " dropout (Dropout)           (None, 24, 24, 64)        0         \n",
      "                                                                 \n",
      " conv2d_1 (Conv2D)           (None, 24, 24, 128)       204928    \n",
      "                                                                 \n",
      " batch_normalization_1 (Batc  (None, 24, 24, 128)      512       \n",
      " hNormalization)                                                 \n",
      "                                                                 \n",
      " activation_1 (Activation)   (None, 24, 24, 128)       0         \n",
      "                                                                 \n",
      " max_pooling2d_1 (MaxPooling  (None, 12, 12, 128)      0         \n",
      " 2D)                                                             \n",
      "                                                                 \n",
      " dropout_1 (Dropout)         (None, 12, 12, 128)       0         \n",
      "                                                                 \n",
      " conv2d_2 (Conv2D)           (None, 12, 12, 512)       590336    \n",
      "                                                                 \n",
      " batch_normalization_2 (Batc  (None, 12, 12, 512)      2048      \n",
      " hNormalization)                                                 \n",
      "                                                                 \n",
      " activation_2 (Activation)   (None, 12, 12, 512)       0         \n",
      "                                                                 \n",
      " max_pooling2d_2 (MaxPooling  (None, 6, 6, 512)        0         \n",
      " 2D)                                                             \n",
      "                                                                 \n",
      " dropout_2 (Dropout)         (None, 6, 6, 512)         0         \n",
      "                                                                 \n",
      " conv2d_3 (Conv2D)           (None, 6, 6, 512)         2359808   \n",
      "                                                                 \n",
      " batch_normalization_3 (Batc  (None, 6, 6, 512)        2048      \n",
      " hNormalization)                                                 \n",
      "                                                                 \n",
      " activation_3 (Activation)   (None, 6, 6, 512)         0         \n",
      "                                                                 \n",
      " max_pooling2d_3 (MaxPooling  (None, 3, 3, 512)        0         \n",
      " 2D)                                                             \n",
      "                                                                 \n",
      " dropout_3 (Dropout)         (None, 3, 3, 512)         0         \n",
      "                                                                 \n",
      " flatten (Flatten)           (None, 4608)              0         \n",
      "                                                                 \n",
      " dense (Dense)               (None, 256)               1179904   \n",
      "                                                                 \n",
      " batch_normalization_4 (Batc  (None, 256)              1024      \n",
      " hNormalization)                                                 \n",
      "                                                                 \n",
      " activation_4 (Activation)   (None, 256)               0         \n",
      "                                                                 \n",
      " dropout_4 (Dropout)         (None, 256)               0         \n",
      "                                                                 \n",
      " dense_1 (Dense)             (None, 512)               131584    \n",
      "                                                                 \n",
      " batch_normalization_5 (Batc  (None, 512)              2048      \n",
      " hNormalization)                                                 \n",
      "                                                                 \n",
      " activation_5 (Activation)   (None, 512)               0         \n",
      "                                                                 \n",
      " dropout_5 (Dropout)         (None, 512)               0         \n",
      "                                                                 \n",
      " dense_2 (Dense)             (None, 7)                 3591      \n",
      "                                                                 \n",
      "=================================================================\n",
      "Total params: 4,478,727\n",
      "Trainable params: 4,474,759\n",
      "Non-trainable params: 3,968\n",
      "_________________________________________________________________\n"
     ]
    }
   ],
   "source": [
    "from keras.layers import Dense, Input, Dropout, GlobalAveragePooling2D, Flatten, Conv2D, BatchNormalization, Activation, MaxPooling2D\n",
    "from keras.models import Model, Sequential\n",
    "\n",
    "\n",
    "# CNN 모델 구성\n",
    "model = Sequential()\n",
    "\n",
    "# 1 - Convolution\n",
    "model.add(Conv2D(64,(3,3), padding='same', input_shape=(48, 48,1)))\n",
    "model.add(BatchNormalization())\n",
    "model.add(Activation('relu'))\n",
    "model.add(MaxPooling2D(pool_size=(2, 2)))\n",
    "model.add(Dropout(0.25))\n",
    "\n",
    "# 2nd Convolution layer\n",
    "model.add(Conv2D(128,(5,5), padding='same'))\n",
    "model.add(BatchNormalization())\n",
    "model.add(Activation('relu'))\n",
    "model.add(MaxPooling2D(pool_size=(2, 2)))\n",
    "model.add(Dropout(0.25))\n",
    "\n",
    "# 3rd Convolution layer\n",
    "model.add(Conv2D(512,(3,3), padding='same'))\n",
    "model.add(BatchNormalization())\n",
    "model.add(Activation('relu'))\n",
    "model.add(MaxPooling2D(pool_size=(2, 2)))\n",
    "model.add(Dropout(0.25))\n",
    "\n",
    "# 4th Convolution layer\n",
    "model.add(Conv2D(512,(3,3), padding='same'))\n",
    "model.add(BatchNormalization())\n",
    "model.add(Activation('relu'))\n",
    "model.add(MaxPooling2D(pool_size=(2, 2)))\n",
    "model.add(Dropout(0.25))\n",
    "\n",
    "# Flattening\n",
    "model.add(Flatten())\n",
    "\n",
    "# Fully connected layer 1st layer\n",
    "model.add(Dense(256))\n",
    "model.add(BatchNormalization())\n",
    "model.add(Activation('relu'))\n",
    "model.add(Dropout(0.25))\n",
    "\n",
    "# Fully connected layer 2nd layer\n",
    "model.add(Dense(512))\n",
    "model.add(BatchNormalization())\n",
    "model.add(Activation('relu'))\n",
    "model.add(Dropout(0.25))\n",
    "model.add(Dense(7, activation='softmax'))\n",
    "\n",
    "# 모델 컴파일\n",
    "model.compile(optimizer='adam', loss='categorical_crossentropy', metrics=['accuracy'])\n",
    "\n",
    "# 모델 요약 출력\n",
    "model.summary()\n",
    "\n"
   ]
  },
  {
   "cell_type": "code",
   "execution_count": 9,
   "metadata": {},
   "outputs": [],
   "source": [
    "from keras.callbacks import ModelCheckpoint, EarlyStopping\n",
    "checkpoint_path = \"saved_models/v2_with_new_data_best_model.hdf5\"\n",
    "checkpoint_cb = ModelCheckpoint(checkpoint_path, verbose=1, save_best_only=True,monitor='val_loss')\n",
    "early_stop_cb = EarlyStopping(patience=10,restore_best_weights=True)"
   ]
  },
  {
   "cell_type": "code",
   "execution_count": 10,
   "metadata": {},
   "outputs": [
    {
     "name": "stdout",
     "output_type": "stream",
     "text": [
      "Epoch 1/50\n",
      "1606/1607 [============================>.] - ETA: 0s - loss: 1.4927 - accuracy: 0.4317\n",
      "Epoch 1: val_loss improved from inf to 1.50130, saving model to saved_models\\v2_with_new_data_best_model.hdf5\n",
      "1607/1607 [==============================] - 82s 46ms/step - loss: 1.4925 - accuracy: 0.4318 - val_loss: 1.5013 - val_accuracy: 0.4654\n",
      "Epoch 2/50\n",
      "1607/1607 [==============================] - ETA: 0s - loss: 1.1376 - accuracy: 0.5716\n",
      "Epoch 2: val_loss improved from 1.50130 to 1.09130, saving model to saved_models\\v2_with_new_data_best_model.hdf5\n",
      "1607/1607 [==============================] - 69s 43ms/step - loss: 1.1376 - accuracy: 0.5716 - val_loss: 1.0913 - val_accuracy: 0.6001\n",
      "Epoch 3/50\n",
      "1607/1607 [==============================] - ETA: 0s - loss: 1.0287 - accuracy: 0.6163\n",
      "Epoch 3: val_loss improved from 1.09130 to 1.01678, saving model to saved_models\\v2_with_new_data_best_model.hdf5\n",
      "1607/1607 [==============================] - 68s 42ms/step - loss: 1.0287 - accuracy: 0.6163 - val_loss: 1.0168 - val_accuracy: 0.6188\n",
      "Epoch 4/50\n",
      "1606/1607 [============================>.] - ETA: 0s - loss: 0.9533 - accuracy: 0.6443\n",
      "Epoch 4: val_loss improved from 1.01678 to 0.95671, saving model to saved_models\\v2_with_new_data_best_model.hdf5\n",
      "1607/1607 [==============================] - 72s 45ms/step - loss: 0.9533 - accuracy: 0.6443 - val_loss: 0.9567 - val_accuracy: 0.6432\n",
      "Epoch 5/50\n",
      "1607/1607 [==============================] - ETA: 0s - loss: 0.8873 - accuracy: 0.6713\n",
      "Epoch 5: val_loss improved from 0.95671 to 0.84091, saving model to saved_models\\v2_with_new_data_best_model.hdf5\n",
      "1607/1607 [==============================] - 71s 44ms/step - loss: 0.8873 - accuracy: 0.6713 - val_loss: 0.8409 - val_accuracy: 0.6903\n",
      "Epoch 6/50\n",
      "1607/1607 [==============================] - ETA: 0s - loss: 0.8327 - accuracy: 0.6943\n",
      "Epoch 6: val_loss improved from 0.84091 to 0.80175, saving model to saved_models\\v2_with_new_data_best_model.hdf5\n",
      "1607/1607 [==============================] - 66s 41ms/step - loss: 0.8327 - accuracy: 0.6943 - val_loss: 0.8018 - val_accuracy: 0.7033\n",
      "Epoch 7/50\n",
      "1607/1607 [==============================] - ETA: 0s - loss: 0.7809 - accuracy: 0.7106\n",
      "Epoch 7: val_loss did not improve from 0.80175\n",
      "1607/1607 [==============================] - 66s 41ms/step - loss: 0.7809 - accuracy: 0.7106 - val_loss: 0.8158 - val_accuracy: 0.6966\n",
      "Epoch 8/50\n",
      "1607/1607 [==============================] - ETA: 0s - loss: 0.7296 - accuracy: 0.7313\n",
      "Epoch 8: val_loss improved from 0.80175 to 0.78246, saving model to saved_models\\v2_with_new_data_best_model.hdf5\n",
      "1607/1607 [==============================] - 66s 41ms/step - loss: 0.7296 - accuracy: 0.7313 - val_loss: 0.7825 - val_accuracy: 0.7135\n",
      "Epoch 9/50\n",
      "1606/1607 [============================>.] - ETA: 0s - loss: 0.6872 - accuracy: 0.7457\n",
      "Epoch 9: val_loss did not improve from 0.78246\n",
      "1607/1607 [==============================] - 68s 42ms/step - loss: 0.6871 - accuracy: 0.7457 - val_loss: 0.8527 - val_accuracy: 0.6833\n",
      "Epoch 10/50\n",
      "1606/1607 [============================>.] - ETA: 0s - loss: 0.6497 - accuracy: 0.7628\n",
      "Epoch 10: val_loss improved from 0.78246 to 0.74657, saving model to saved_models\\v2_with_new_data_best_model.hdf5\n",
      "1607/1607 [==============================] - 70s 44ms/step - loss: 0.6500 - accuracy: 0.7627 - val_loss: 0.7466 - val_accuracy: 0.7277\n",
      "Epoch 11/50\n",
      "1606/1607 [============================>.] - ETA: 0s - loss: 0.6135 - accuracy: 0.7745\n",
      "Epoch 11: val_loss did not improve from 0.74657\n",
      "1607/1607 [==============================] - 70s 44ms/step - loss: 0.6135 - accuracy: 0.7746 - val_loss: 0.9222 - val_accuracy: 0.6618\n",
      "Epoch 12/50\n",
      "1607/1607 [==============================] - ETA: 0s - loss: 0.5811 - accuracy: 0.7870\n",
      "Epoch 12: val_loss improved from 0.74657 to 0.72101, saving model to saved_models\\v2_with_new_data_best_model.hdf5\n",
      "1607/1607 [==============================] - 70s 43ms/step - loss: 0.5811 - accuracy: 0.7870 - val_loss: 0.7210 - val_accuracy: 0.7371\n",
      "Epoch 13/50\n",
      "1606/1607 [============================>.] - ETA: 0s - loss: 0.5496 - accuracy: 0.7989\n",
      "Epoch 13: val_loss did not improve from 0.72101\n",
      "1607/1607 [==============================] - 71s 44ms/step - loss: 0.5496 - accuracy: 0.7988 - val_loss: 0.8185 - val_accuracy: 0.7106\n",
      "Epoch 14/50\n",
      "1607/1607 [==============================] - ETA: 0s - loss: 0.5202 - accuracy: 0.8091\n",
      "Epoch 14: val_loss did not improve from 0.72101\n",
      "1607/1607 [==============================] - 70s 44ms/step - loss: 0.5202 - accuracy: 0.8091 - val_loss: 0.7346 - val_accuracy: 0.7364\n",
      "Epoch 15/50\n",
      "1606/1607 [============================>.] - ETA: 0s - loss: 0.4973 - accuracy: 0.8192\n",
      "Epoch 15: val_loss did not improve from 0.72101\n",
      "1607/1607 [==============================] - 70s 43ms/step - loss: 0.4973 - accuracy: 0.8192 - val_loss: 0.7548 - val_accuracy: 0.7419\n",
      "Epoch 16/50\n",
      "1607/1607 [==============================] - ETA: 0s - loss: 0.4719 - accuracy: 0.8274\n",
      "Epoch 16: val_loss did not improve from 0.72101\n",
      "1607/1607 [==============================] - 70s 44ms/step - loss: 0.4719 - accuracy: 0.8274 - val_loss: 0.7882 - val_accuracy: 0.7280\n",
      "Epoch 17/50\n",
      "1606/1607 [============================>.] - ETA: 0s - loss: 0.4491 - accuracy: 0.8351\n",
      "Epoch 17: val_loss did not improve from 0.72101\n",
      "1607/1607 [==============================] - 70s 44ms/step - loss: 0.4492 - accuracy: 0.8351 - val_loss: 0.8011 - val_accuracy: 0.7298\n",
      "Epoch 18/50\n",
      "1606/1607 [============================>.] - ETA: 0s - loss: 0.4344 - accuracy: 0.8417\n",
      "Epoch 18: val_loss did not improve from 0.72101\n",
      "1607/1607 [==============================] - 70s 43ms/step - loss: 0.4344 - accuracy: 0.8417 - val_loss: 0.7611 - val_accuracy: 0.7519\n",
      "Epoch 19/50\n",
      "1606/1607 [============================>.] - ETA: 0s - loss: 0.4173 - accuracy: 0.8480\n",
      "Epoch 19: val_loss improved from 0.72101 to 0.71912, saving model to saved_models\\v2_with_new_data_best_model.hdf5\n",
      "1607/1607 [==============================] - 70s 44ms/step - loss: 0.4173 - accuracy: 0.8480 - val_loss: 0.7191 - val_accuracy: 0.7585\n",
      "Epoch 20/50\n",
      "1606/1607 [============================>.] - ETA: 0s - loss: 0.3976 - accuracy: 0.8541\n",
      "Epoch 20: val_loss improved from 0.71912 to 0.70387, saving model to saved_models\\v2_with_new_data_best_model.hdf5\n",
      "1607/1607 [==============================] - 71s 44ms/step - loss: 0.3978 - accuracy: 0.8541 - val_loss: 0.7039 - val_accuracy: 0.7701\n",
      "Epoch 21/50\n",
      "1607/1607 [==============================] - ETA: 0s - loss: 0.3826 - accuracy: 0.8620\n",
      "Epoch 21: val_loss did not improve from 0.70387\n",
      "1607/1607 [==============================] - 71s 44ms/step - loss: 0.3826 - accuracy: 0.8620 - val_loss: 0.8042 - val_accuracy: 0.7535\n",
      "Epoch 22/50\n",
      "1606/1607 [============================>.] - ETA: 0s - loss: 0.3700 - accuracy: 0.8634\n",
      "Epoch 22: val_loss did not improve from 0.70387\n",
      "1607/1607 [==============================] - 70s 44ms/step - loss: 0.3700 - accuracy: 0.8634 - val_loss: 0.7434 - val_accuracy: 0.7698\n",
      "Epoch 23/50\n",
      "1607/1607 [==============================] - ETA: 0s - loss: 0.3517 - accuracy: 0.8722\n",
      "Epoch 23: val_loss did not improve from 0.70387\n",
      "1607/1607 [==============================] - 72s 45ms/step - loss: 0.3517 - accuracy: 0.8722 - val_loss: 0.7947 - val_accuracy: 0.7551\n",
      "Epoch 24/50\n",
      "1606/1607 [============================>.] - ETA: 0s - loss: 0.3469 - accuracy: 0.8746\n",
      "Epoch 24: val_loss did not improve from 0.70387\n",
      "1607/1607 [==============================] - 70s 43ms/step - loss: 0.3468 - accuracy: 0.8747 - val_loss: 0.7501 - val_accuracy: 0.7670\n",
      "Epoch 25/50\n",
      "1606/1607 [============================>.] - ETA: 0s - loss: 0.3289 - accuracy: 0.8791\n",
      "Epoch 25: val_loss did not improve from 0.70387\n",
      "1607/1607 [==============================] - 70s 43ms/step - loss: 0.3289 - accuracy: 0.8792 - val_loss: 0.7586 - val_accuracy: 0.7663\n",
      "Epoch 26/50\n",
      "1607/1607 [==============================] - ETA: 0s - loss: 0.3201 - accuracy: 0.8834\n",
      "Epoch 26: val_loss did not improve from 0.70387\n",
      "1607/1607 [==============================] - 70s 44ms/step - loss: 0.3201 - accuracy: 0.8834 - val_loss: 0.7709 - val_accuracy: 0.7671\n",
      "Epoch 27/50\n",
      "1607/1607 [==============================] - ETA: 0s - loss: 0.3144 - accuracy: 0.8858\n",
      "Epoch 27: val_loss did not improve from 0.70387\n",
      "1607/1607 [==============================] - 67s 42ms/step - loss: 0.3144 - accuracy: 0.8858 - val_loss: 0.7688 - val_accuracy: 0.7733\n",
      "Epoch 28/50\n",
      "1606/1607 [============================>.] - ETA: 0s - loss: 0.2983 - accuracy: 0.8904\n",
      "Epoch 28: val_loss did not improve from 0.70387\n",
      "1607/1607 [==============================] - 72s 44ms/step - loss: 0.2982 - accuracy: 0.8904 - val_loss: 0.7953 - val_accuracy: 0.7662\n",
      "Epoch 29/50\n",
      "1607/1607 [==============================] - ETA: 0s - loss: 0.2912 - accuracy: 0.8958\n",
      "Epoch 29: val_loss did not improve from 0.70387\n",
      "1607/1607 [==============================] - 69s 43ms/step - loss: 0.2912 - accuracy: 0.8958 - val_loss: 0.7685 - val_accuracy: 0.7717\n",
      "Epoch 30/50\n",
      "1607/1607 [==============================] - ETA: 0s - loss: 0.2870 - accuracy: 0.8949\n",
      "Epoch 30: val_loss did not improve from 0.70387\n",
      "1607/1607 [==============================] - 69s 43ms/step - loss: 0.2870 - accuracy: 0.8949 - val_loss: 0.7824 - val_accuracy: 0.7698\n"
     ]
    }
   ],
   "source": [
    "history = model.fit(\n",
    "    train_generator,\n",
    "    steps_per_epoch=train_generator.samples // train_generator.batch_size,\n",
    "    epochs=50,\n",
    "    validation_data=val_generator,\n",
    "    validation_steps=val_generator.samples // val_generator.batch_size,\n",
    "    callbacks=[checkpoint_cb,early_stop_cb])"
   ]
  },
  {
   "cell_type": "code",
   "execution_count": 11,
   "metadata": {},
   "outputs": [
    {
     "name": "stdout",
     "output_type": "stream",
     "text": [
      "345/345 [==============================] - 13s 38ms/step - loss: 0.6975 - accuracy: 0.7672\n"
     ]
    },
    {
     "data": {
      "text/plain": [
       "[0.6975141167640686, 0.7671866416931152]"
      ]
     },
     "execution_count": 11,
     "metadata": {},
     "output_type": "execute_result"
    }
   ],
   "source": [
    "model.evaluate(test_generator)\n"
   ]
  },
  {
   "cell_type": "code",
   "execution_count": 12,
   "metadata": {},
   "outputs": [
    {
     "data": {
      "image/png": "[encoded data removed]",
      "text/plain": [
       "<Figure size 640x480 with 1 Axes>"
      ]
     },
     "metadata": {},
     "output_type": "display_data"
    }
   ],
   "source": [
    "import matplotlib.pyplot as plt\n",
    "plt.plot(history.history[\"loss\"])\n",
    "plt.plot(history.history[\"val_loss\"])\n",
    "plt.xlabel(\"epoch\")\n",
    "plt.ylabel(\"loss\")\n",
    "\n",
    "plt.show()"
   ]
  },
  {
   "cell_type": "code",
   "execution_count": 16,
   "metadata": {},
   "outputs": [
    {
     "name": "stdout",
     "output_type": "stream",
     "text": [
      "1/1 [==============================] - 0s 25ms/step\n",
      "[[2.9638849e-04 6.7701675e-02 8.4385854e-01 5.0272100e-02 2.0759452e-02\n",
      "  1.7067680e-02 4.4132848e-05]]\n",
      "불안\n"
     ]
    }
   ],
   "source": [
    "from PIL import Image\n",
    "import numpy as np\n",
    "classes = [\"분노\",\"슬픔\",\"불안\",\"상처\",\"당황\",\"기쁨\",\"중립\"]\n",
    "img = Image.open('test_images\\jin_young1.png')\n",
    "img = img.resize((48, 48)).convert('L')\n",
    "img_array = np.array(img) / 255.0 \n",
    "img_array = img_array.reshape(1, 48, 48, 1)\n",
    "prediction = model.predict(img_array)\n",
    "print(prediction)\n",
    "result = classes[np.argmax(prediction, axis=1)[0]]\n",
    "\n",
    "print(result)\n"
   ]
  }
 ],
 "metadata": {
  "kernelspec": {
   "display_name": "Python 3",
   "language": "python",
   "name": "python3"
  },
  "language_info": {
   "codemirror_mode": {
    "name": "ipython",
    "version": 3
   },
   "file_extension": ".py",
   "mimetype": "text/x-python",
   "name": "python",
   "nbconvert_exporter": "python",
   "pygments_lexer": "ipython3",
   "version": "3.10.11"
  }
 },
 "nbformat": 4,
 "nbformat_minor": 2
}
