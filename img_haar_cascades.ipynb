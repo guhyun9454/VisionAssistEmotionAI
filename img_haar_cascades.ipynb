{
 "cells": [
  {
   "cell_type": "code",
   "execution_count": 1,
   "metadata": {},
   "outputs": [],
   "source": [
    "import cv2\n",
    "from keras.models import load_model\n",
    "import numpy as np\n",
    "from PIL import Image, ImageDraw, ImageFont\n"
   ]
  },
  {
   "cell_type": "code",
   "execution_count": 2,
   "metadata": {},
   "outputs": [],
   "source": [
    "model_path = \"saved_models/v2_with_new_data_best_model.hdf5\"\n",
    "model = load_model(model_path)\n",
    "emotions_korean = [\"분노\",\"슬픔\",\"불안\",\"상처\",\"당황\",\"기쁨\",\"중립\"]"
   ]
  },
  {
   "cell_type": "code",
   "execution_count": 3,
   "metadata": {},
   "outputs": [],
   "source": [
    "face_cascade = cv2.CascadeClassifier(cv2.data.haarcascades + 'haarcascade_frontalface_default.xml')\n"
   ]
  },
  {
   "cell_type": "code",
   "execution_count": 24,
   "metadata": {},
   "outputs": [],
   "source": [
    "image_path = \"test_images/test3.jpg\"\n",
    "\n",
    "img = cv2.imread(image_path)\n",
    "gray = cv2.cvtColor(img, cv2.COLOR_BGR2GRAY)\n"
   ]
  },
  {
   "cell_type": "code",
   "execution_count": 25,
   "metadata": {},
   "outputs": [],
   "source": [
    "img_pil = Image.fromarray(cv2.cvtColor(img, cv2.COLOR_BGR2RGB))\n",
    "draw = ImageDraw.Draw(img_pil)"
   ]
  },
  {
   "cell_type": "code",
   "execution_count": 26,
   "metadata": {},
   "outputs": [],
   "source": [
    "font = ImageFont.truetype(\"korean_font/NanumGothic.ttf\", 100)"
   ]
  },
  {
   "cell_type": "code",
   "execution_count": 30,
   "metadata": {},
   "outputs": [
    {
     "data": {
      "text/plain": [
       "array([[1324, 2464,   47,   47],\n",
       "       [1010, 1480,  192,  192]])"
      ]
     },
     "execution_count": 30,
     "metadata": {},
     "output_type": "execute_result"
    }
   ],
   "source": [
    "faces = face_cascade.detectMultiScale(gray, 1.15, 5)\n",
    "faces"
   ]
  },
  {
   "cell_type": "code",
   "execution_count": 31,
   "metadata": {},
   "outputs": [
    {
     "name": "stdout",
     "output_type": "stream",
     "text": [
      "1/1 [==============================] - 0s 29ms/step\n",
      "1/1 [==============================] - 0s 19ms/step\n"
     ]
    }
   ],
   "source": [
    "for (x, y, w, h) in faces:\n",
    "    face = gray[y:y+h, x:x+w]\n",
    "    face = cv2.resize(face, (48, 48))\n",
    "    face = face / 255.0\n",
    "    face = face.reshape(1, 48, 48, 1)   \n",
    "\n",
    "    prediction = model.predict(face)\n",
    "    emotion = emotions_korean[np.argmax(prediction)]\n",
    "\n",
    "    draw.rectangle(((x, y), (x+w, y+h)), outline=\"green\", width=10)\n",
    "    draw.text((x, y - 100), emotion, font=font, fill=(255, 255, 255, 255))\n",
    "\n"
   ]
  },
  {
   "cell_type": "code",
   "execution_count": 32,
   "metadata": {},
   "outputs": [
    {
     "name": "stderr",
     "output_type": "stream",
     "text": [
      "C:\\Users\\guhyu\\AppData\\Local\\Temp\\ipykernel_10872\\3800092539.py:4: DeprecationWarning: ANTIALIAS is deprecated and will be removed in Pillow 10 (2023-07-01). Use LANCZOS or Resampling.LANCZOS instead.\n",
      "  resized_img_pil = img_pil.resize((new_width, new_height), Image.ANTIALIAS)\n"
     ]
    }
   ],
   "source": [
    "new_width = 800\n",
    "ratio = new_width / img_pil.width\n",
    "new_height = int(img_pil.height * ratio)\n",
    "resized_img_pil = img_pil.resize((new_width, new_height), Image.ANTIALIAS)"
   ]
  },
  {
   "cell_type": "code",
   "execution_count": 21,
   "metadata": {},
   "outputs": [],
   "source": [
    "img_with_text = cv2.cvtColor(np.array(resized_img_pil), cv2.COLOR_RGB2BGR)\n"
   ]
  },
  {
   "cell_type": "code",
   "execution_count": 22,
   "metadata": {},
   "outputs": [],
   "source": [
    "cv2.imshow('Emotion Detection', img_with_text)\n",
    "cv2.waitKey(0)\n",
    "cv2.destroyAllWindows()"
   ]
  }
 ],
 "metadata": {
  "kernelspec": {
   "display_name": "base",
   "language": "python",
   "name": "python3"
  },
  "language_info": {
   "codemirror_mode": {
    "name": "ipython",
    "version": 3
   },
   "file_extension": ".py",
   "mimetype": "text/x-python",
   "name": "python",
   "nbconvert_exporter": "python",
   "pygments_lexer": "ipython3",
   "version": "3.10.11"
  }
 },
 "nbformat": 4,
 "nbformat_minor": 2
}
