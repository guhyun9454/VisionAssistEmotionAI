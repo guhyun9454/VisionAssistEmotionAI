{
 "cells": [
  {
   "cell_type": "code",
   "execution_count": 7,
   "metadata": {},
   "outputs": [],
   "source": [
    "import os\n",
    "import random\n",
    "from PIL import Image\n",
    "from tqdm import tqdm\n",
    "\n",
    "def random_transform(image):\n",
    "    # -10,10도 사이에서 랜덤으로 회전\n",
    "    image = image.rotate(random.randint(-10, 10))\n",
    "\n",
    "    # -10,10픽셀 사이에서 랜덤으로 픽셀을 이동\n",
    "    x_translation = random.randint(-10, 10)\n",
    "    y_translation = random.randint(-10, 10)\n",
    "    image = image.transform(image.size, Image.AFFINE, (1, 0, x_translation, 0, 1, y_translation))\n",
    "\n",
    "    return image\n",
    "\n",
    "def process_and_save_images(input_folder, output_folder, times):\n",
    "    if not os.path.exists(output_folder):\n",
    "        os.makedirs(output_folder)\n",
    "\n",
    "    for filename in tqdm(os.listdir(input_folder)):\n",
    "        if filename.lower().endswith(('.jpg', '.jpeg')):\n",
    "            file_path = os.path.join(input_folder, filename)\n",
    "            image = Image.open(file_path)\n",
    "\n",
    "            # times배 만큼 데이터 증강\n",
    "            for i in range(times):\n",
    "                transformed_image = random_transform(image)\n",
    "                transformed_image = transformed_image.resize((224,224))\n",
    "                transformed_image.save(os.path.join(output_folder, f\"{filename.split('.')[0]}_{i}.{filename.split('.')[1]}\"))"
   ]
  },
  {
   "cell_type": "code",
   "execution_count": 13,
   "metadata": {},
   "outputs": [
    {
     "name": "stderr",
     "output_type": "stream",
     "text": [
      "100%|██████████| 3270/3270 [00:22<00:00, 147.19it/s]\n"
     ]
    }
   ],
   "source": [
    "before = \"train/3\"\n",
    "after = \"../최종 데이터셋/train/3\"\n",
    "\n",
    "process_and_save_images(before, after,times=2)"
   ]
  },
  {
   "cell_type": "code",
   "execution_count": 11,
   "metadata": {},
   "outputs": [
    {
     "name": "stderr",
     "output_type": "stream",
     "text": [
      "  0%|          | 0/5714 [00:00<?, ?it/s]"
     ]
    },
    {
     "name": "stderr",
     "output_type": "stream",
     "text": [
      "100%|██████████| 5714/5714 [00:35<00:00, 160.36it/s]\n"
     ]
    }
   ],
   "source": [
    "before = \"train/2\"\n",
    "after = \"../최종 데이터셋/train/2\"\n",
    "\n",
    "process_and_save_images(before, after,times=2)"
   ]
  }
 ],
 "metadata": {
  "kernelspec": {
   "display_name": "base",
   "language": "python",
   "name": "python3"
  },
  "language_info": {
   "codemirror_mode": {
    "name": "ipython",
    "version": 3
   },
   "file_extension": ".py",
   "mimetype": "text/x-python",
   "name": "python",
   "nbconvert_exporter": "python",
   "pygments_lexer": "ipython3",
   "version": "3.10.11"
  }
 },
 "nbformat": 4,
 "nbformat_minor": 2
}
