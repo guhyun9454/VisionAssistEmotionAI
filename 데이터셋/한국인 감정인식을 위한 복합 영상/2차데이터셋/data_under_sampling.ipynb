{
 "cells": [
  {
   "cell_type": "code",
   "execution_count": 4,
   "metadata": {},
   "outputs": [],
   "source": [
    "import os\n",
    "import random\n",
    "import shutil\n",
    "from tqdm import tqdm\n",
    "\n",
    "def random_undersampling(input_folder, output_folder, counts):\n",
    "    if not os.path.exists(output_folder):\n",
    "        os.makedirs(output_folder)\n",
    "\n",
    "    files = [file for file in os.listdir(input_folder) if file.lower().endswith(('.jpg', '.jpeg'))]\n",
    "\n",
    "\n",
    "    selected_files = random.sample(files, counts)\n",
    "\n",
    "    for file in tqdm(selected_files):\n",
    "        shutil.move(os.path.join(input_folder, file), os.path.join(output_folder, file))\n",
    "\n"
   ]
  },
  {
   "cell_type": "code",
   "execution_count": 5,
   "metadata": {},
   "outputs": [
    {
     "name": "stderr",
     "output_type": "stream",
     "text": [
      "  0%|          | 0/12000 [00:00<?, ?it/s]"
     ]
    },
    {
     "name": "stderr",
     "output_type": "stream",
     "text": [
      "100%|██████████| 12000/12000 [00:11<00:00, 1088.04it/s]\n"
     ]
    }
   ],
   "source": [
    "before = \"train/6\"\n",
    "after = \"../최종 데이터셋/train/6\"\n",
    "\n",
    "random_undersampling(before,after, counts=12000)"
   ]
  },
  {
   "cell_type": "code",
   "execution_count": 6,
   "metadata": {},
   "outputs": [
    {
     "name": "stderr",
     "output_type": "stream",
     "text": [
      "100%|██████████| 12000/12000 [00:09<00:00, 1266.43it/s]\n"
     ]
    }
   ],
   "source": [
    "before = \"train/5\"\n",
    "after = \"../최종 데이터셋/train/5\"\n",
    "\n",
    "random_undersampling(before,after, counts=12000)"
   ]
  }
 ],
 "metadata": {
  "kernelspec": {
   "display_name": "base",
   "language": "python",
   "name": "python3"
  },
  "language_info": {
   "codemirror_mode": {
    "name": "ipython",
    "version": 3
   },
   "file_extension": ".py",
   "mimetype": "text/x-python",
   "name": "python",
   "nbconvert_exporter": "python",
   "pygments_lexer": "ipython3",
   "version": "3.10.11"
  }
 },
 "nbformat": 4,
 "nbformat_minor": 2
}
