{
 "cells": [
  {
   "cell_type": "code",
   "execution_count": 2,
   "metadata": {},
   "outputs": [
    {
     "name": "stdout",
     "output_type": "stream",
     "text": [
      "Class 0: 13399 files\n",
      "Class 1: 16088 files\n",
      "Class 2: 8163 files\n",
      "Class 3: 4671 files\n",
      "Class 4: 15368 files\n",
      "Class 5: 17892 files\n",
      "Class 6: 20807 files\n",
      "96388\n"
     ]
    }
   ],
   "source": [
    "import os\n",
    "sum =0\n",
    "def count_files_in_classes(folder_path):\n",
    "    class_counts = {str(i): 0 for i in range(7)}\n",
    "    \n",
    "    for filename in os.listdir(folder_path):\n",
    "        if filename[0] in class_counts:\n",
    "            class_counts[filename[0]] += 1\n",
    "\n",
    "    return class_counts\n",
    "\n",
    "counts = count_files_in_classes(\"all\")\n",
    "\n",
    "for class_id, count in counts.items():\n",
    "    sum += count\n",
    "    print(f\"Class {class_id}: {count} files\")\n",
    "print(sum)"
   ]
  }
 ],
 "metadata": {
  "kernelspec": {
   "display_name": "base",
   "language": "python",
   "name": "python3"
  },
  "language_info": {
   "codemirror_mode": {
    "name": "ipython",
    "version": 3
   },
   "file_extension": ".py",
   "mimetype": "text/x-python",
   "name": "python",
   "nbconvert_exporter": "python",
   "pygments_lexer": "ipython3",
   "version": "3.10.11"
  }
 },
 "nbformat": 4,
 "nbformat_minor": 2
}
