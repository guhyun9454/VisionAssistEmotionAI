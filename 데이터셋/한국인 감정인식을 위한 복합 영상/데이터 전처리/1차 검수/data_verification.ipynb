{
 "cells": [
  {
   "cell_type": "code",
   "execution_count": 3,
   "metadata": {},
   "outputs": [
    {
     "name": "stderr",
     "output_type": "stream",
     "text": [
      "100%|██████████| 73506/73506 [02:46<00:00, 440.39it/s]\n"
     ]
    }
   ],
   "source": [
    "import os\n",
    "from shutil import copy2\n",
    "from tqdm import tqdm\n",
    "\n",
    "def save_duplicates(save_path):\n",
    "    path1 = \"Cropped_Images_권구현\"\n",
    "    path2 = \"Cropped_Images_정지성\"\n",
    "    path3 = \"Cropped_Images_정희석\"\n",
    "    folder_paths = [path1,path2,path2] \n",
    "    file_sets = [set(os.listdir(f)) for f in folder_paths]\n",
    "\n",
    "    # 3명의 검수 폴더에서 중복되는 파일\n",
    "    common_files = set.intersection(*file_sets)\n",
    "\n",
    "    os.makedirs(save_path,exist_ok=True)\n",
    "\n",
    "    for file in tqdm(common_files):\n",
    "        src_file = os.path.join(folder_paths[0], file)\n",
    "        copy2(src_file, save_path)\n",
    "\n",
    "\n",
    "folder_path = 'first_verification'\n",
    "save_duplicates(folder_path)\n"
   ]
  },
  {
   "cell_type": "code",
   "execution_count": 4,
   "metadata": {},
   "outputs": [
    {
     "name": "stdout",
     "output_type": "stream",
     "text": [
      "Class 0: 10314 files\n",
      "Class 1: 10117 files\n",
      "Class 2: 10393 files\n",
      "Class 3: 10420 files\n",
      "Class 4: 10665 files\n",
      "Class 5: 10661 files\n",
      "Class 6: 10936 files\n"
     ]
    }
   ],
   "source": [
    "import os\n",
    "\n",
    "def count_files_in_classes(folder_path):\n",
    "    class_counts = {str(i): 0 for i in range(7)}\n",
    "\n",
    "    for filename in os.listdir(folder_path):\n",
    "        if filename[0] in class_counts:\n",
    "            class_counts[filename[0]] += 1\n",
    "\n",
    "    return class_counts\n",
    "\n",
    "counts = count_files_in_classes(folder_path)\n",
    "\n",
    "for class_id, count in counts.items():\n",
    "    print(f\"Class {class_id}: {count} files\")\n"
   ]
  }
 ],
 "metadata": {
  "kernelspec": {
   "display_name": "base",
   "language": "python",
   "name": "python3"
  },
  "language_info": {
   "codemirror_mode": {
    "name": "ipython",
    "version": 3
   },
   "file_extension": ".py",
   "mimetype": "text/x-python",
   "name": "python",
   "nbconvert_exporter": "python",
   "pygments_lexer": "ipython3",
   "version": "3.10.11"
  }
 },
 "nbformat": 4,
 "nbformat_minor": 2
}
