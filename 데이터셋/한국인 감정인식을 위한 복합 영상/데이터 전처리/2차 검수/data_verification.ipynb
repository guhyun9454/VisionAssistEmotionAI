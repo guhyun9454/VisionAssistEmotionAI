{
 "cells": [
  {
   "cell_type": "code",
   "execution_count": 7,
   "metadata": {},
   "outputs": [],
   "source": [
    "import os\n",
    "from shutil import copy2\n",
    "from tqdm import tqdm\n",
    "\n",
    "def tripleCheck(path1,path2,path3,save_path):\n",
    "    \n",
    "    folder_paths = [path1,path2,path3] \n",
    "    file_sets = [set(os.listdir(f)) for f in folder_paths]\n",
    "\n",
    "    # 3명의 검수 폴더에서 중복되는 파일\n",
    "    common_files = set.intersection(*file_sets)\n",
    "\n",
    "    os.makedirs(save_path,exist_ok=True)\n",
    "\n",
    "    for file in tqdm(common_files):\n",
    "        src_file = os.path.join(folder_paths[0], file)\n",
    "        copy2(src_file, save_path)\n"
   ]
  },
  {
   "cell_type": "code",
   "execution_count": 9,
   "metadata": {},
   "outputs": [
    {
     "name": "stderr",
     "output_type": "stream",
     "text": [
      "100%|██████████| 73326/73326 [02:20<00:00, 522.16it/s]\n"
     ]
    }
   ],
   "source": [
    "tripleCheck(path1 = \"2차_검수_권구현\",\n",
    "            path2 = \"2차_검수_정지성\",\n",
    "            path3 = \"2차_검수_정희석\",\n",
    "            save_path = \"2차_검수_종합\")"
   ]
  },
  {
   "cell_type": "code",
   "execution_count": 10,
   "metadata": {},
   "outputs": [
    {
     "name": "stdout",
     "output_type": "stream",
     "text": [
      "Class 0: 10306 files\n",
      "Class 1: 10101 files\n",
      "Class 2: 10365 files\n",
      "Class 3: 10357 files\n",
      "Class 4: 10631 files\n",
      "Class 5: 10637 files\n",
      "Class 6: 10929 files\n"
     ]
    }
   ],
   "source": [
    "import os\n",
    "\n",
    "def count_files_in_classes(folder_path):\n",
    "    class_counts = {str(i): 0 for i in range(7)}\n",
    "    \n",
    "    for filename in os.listdir(folder_path):\n",
    "        if filename[0] in class_counts:\n",
    "            class_counts[filename[0]] += 1\n",
    "\n",
    "    return class_counts\n",
    "\n",
    "counts = count_files_in_classes(\"2차_검수_종합\")\n",
    "\n",
    "for class_id, count in counts.items():\n",
    "    print(f\"Class {class_id}: {count} files\")\n"
   ]
  }
 ],
 "metadata": {
  "kernelspec": {
   "display_name": "base",
   "language": "python",
   "name": "python3"
  },
  "language_info": {
   "codemirror_mode": {
    "name": "ipython",
    "version": 3
   },
   "file_extension": ".py",
   "mimetype": "text/x-python",
   "name": "python",
   "nbconvert_exporter": "python",
   "pygments_lexer": "ipython3",
   "version": "3.10.11"
  }
 },
 "nbformat": 4,
 "nbformat_minor": 2
}
