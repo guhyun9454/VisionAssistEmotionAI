{
 "cells": [
  {
   "cell_type": "code",
   "execution_count": 45,
   "metadata": {},
   "outputs": [],
   "source": [
    "import os\n",
    "import json\n",
    "from PIL import Image\n",
    "from tqdm import tqdm\n",
    "import time"
   ]
  },
  {
   "cell_type": "code",
   "execution_count": 46,
   "metadata": {},
   "outputs": [],
   "source": [
    "def crop_and_resize_and_save_face(json_path, file_dir_path, save_dir, label, cropped_shape = (256,256)):\n",
    "    #target데이터\n",
    "    with open(json_path, 'r') as json_file:\n",
    "        data = json.load(json_file)\n",
    "    \n",
    "    data_dict = {item[\"filename\"]: item for item in data}\n",
    "\n",
    "    #저장 될 폴더가 존재하지 않으면 생성\n",
    "    if not os.path.exists(save_dir):\n",
    "        os.makedirs(save_dir)\n",
    "\n",
    "    processed_count = 0\n",
    "    error_count = 0\n",
    "\n",
    "    for filename in tqdm(os.listdir(file_dir_path),desc=f\"processing label {label}\"):\n",
    "        file_path = os.path.join(file_dir_path, filename)\n",
    "\n",
    "        if filename in data_dict:\n",
    "            item = data_dict[filename]\n",
    "\n",
    "            try:\n",
    "                with Image.open(file_path) as img:\n",
    "                    face_coords = item[\"annot_A\"][\"boxes\"]\n",
    "                    left = face_coords[\"minX\"]\n",
    "                    right = face_coords[\"maxX\"]\n",
    "                    top = face_coords[\"minY\"]\n",
    "                    bottom = face_coords[\"maxY\"]\n",
    "                    #유효성 검사\n",
    "                    if left >= 0 and top >= 0 and right <= img.width and bottom <= img.height and right > left and bottom > top:\n",
    "                        cropped_img = img.crop((left, top, right, bottom))\n",
    "\n",
    "                        if cropped_img.size != (0, 0):\n",
    "                            resized_img = cropped_img.resize(cropped_shape)\n",
    "                            temp_filename = f\"{label}_{filename}\"\n",
    "                            resized_img.save(os.path.join(save_dir,temp_filename))\n",
    "                            processed_count += 1\n",
    "                            # print(f\"{processed_count} - Successfully cropped and saved {temp_filename}\")\n",
    "                        else:\n",
    "                            # print(f\"Empty cropped image for {filename}\")\n",
    "                            error_count += 1\n",
    "                    else:\n",
    "                        # print(f\"Invalid crop coordinates for {filename}\")\n",
    "                        error_count += 1\n",
    "            except Exception as e:\n",
    "                print(f\"Error: {e}\")\n",
    "                error_count += 1\n",
    "    \n",
    "    return processed_count , error_count"
   ]
  },
  {
   "cell_type": "code",
   "execution_count": 47,
   "metadata": {},
   "outputs": [
    {
     "name": "stderr",
     "output_type": "stream",
     "text": [
      "processing label 0: 100%|██████████| 16234/16234 [12:16<00:00, 22.04it/s] \n"
     ]
    },
    {
     "name": "stdout",
     "output_type": "stream",
     "text": [
      "16117 117\n"
     ]
    },
    {
     "name": "stderr",
     "output_type": "stream",
     "text": [
      "processing label 1: 100%|██████████| 15874/15874 [12:10<00:00, 21.74it/s] \n"
     ]
    },
    {
     "name": "stdout",
     "output_type": "stream",
     "text": [
      "15787 87\n"
     ]
    },
    {
     "name": "stderr",
     "output_type": "stream",
     "text": [
      "processing label 2: 100%|██████████| 16133/16133 [12:17<00:00, 21.87it/s] \n"
     ]
    },
    {
     "name": "stdout",
     "output_type": "stream",
     "text": [
      "16046 87\n"
     ]
    },
    {
     "name": "stderr",
     "output_type": "stream",
     "text": [
      "processing label 3: 100%|██████████| 16023/16023 [12:15<00:00, 21.79it/s] \n"
     ]
    },
    {
     "name": "stdout",
     "output_type": "stream",
     "text": [
      "15930 93\n"
     ]
    },
    {
     "name": "stderr",
     "output_type": "stream",
     "text": [
      "processing label 4:  23%|██▎       | 3712/16170 [02:57<09:03, 22.93it/s]"
     ]
    },
    {
     "name": "stdout",
     "output_type": "stream",
     "text": [
      "Error: broken data stream when reading image file\n"
     ]
    },
    {
     "name": "stderr",
     "output_type": "stream",
     "text": [
      "processing label 4: 100%|██████████| 16170/16170 [12:18<00:00, 21.89it/s] \n"
     ]
    },
    {
     "name": "stdout",
     "output_type": "stream",
     "text": [
      "16081 89\n"
     ]
    },
    {
     "name": "stderr",
     "output_type": "stream",
     "text": [
      "processing label 5: 100%|██████████| 16072/16072 [12:19<00:00, 21.74it/s] \n"
     ]
    },
    {
     "name": "stdout",
     "output_type": "stream",
     "text": [
      "15984 88\n"
     ]
    },
    {
     "name": "stderr",
     "output_type": "stream",
     "text": [
      "processing label 6:  54%|█████▎    | 8668/16197 [06:35<04:18, 29.11it/s]  "
     ]
    },
    {
     "name": "stdout",
     "output_type": "stream",
     "text": [
      "Error: broken data stream when reading image file\n"
     ]
    },
    {
     "name": "stderr",
     "output_type": "stream",
     "text": [
      "processing label 6:  57%|█████▋    | 9182/16197 [06:56<06:07, 19.11it/s]"
     ]
    },
    {
     "name": "stdout",
     "output_type": "stream",
     "text": [
      "Error: broken data stream when reading image file\n",
      "Error: broken data stream when reading image file\n"
     ]
    },
    {
     "name": "stderr",
     "output_type": "stream",
     "text": [
      "processing label 6: 100%|██████████| 16197/16197 [12:05<00:00, 22.34it/s]\n"
     ]
    },
    {
     "name": "stdout",
     "output_type": "stream",
     "text": [
      "16074 123\n",
      "걸린 시간: 5151.46s\n",
      "분노 total_count = 16117, error_count = 117\n",
      "슬픔 total_count = 15787, error_count = 87\n",
      "불안 total_count = 16046, error_count = 87\n",
      "상처 total_count = 15930, error_count = 93\n",
      "당황 total_count = 16081, error_count = 89\n",
      "기쁨 total_count = 15984, error_count = 88\n",
      "중립 total_count = 16074, error_count = 123\n"
     ]
    }
   ],
   "source": [
    "classes = [\"분노\",\"슬픔\",\"불안\",\"상처\",\"당황\",\"기쁨\",\"중립\"]\n",
    "processed_list = []\n",
    "error_list = []\n",
    "start = time.time()\n",
    "for class_index,class_ in enumerate(classes):\n",
    "    json_path = f\"Training\\[라벨]EMOIMG_{class_}_TRAIN\\img_emotion_training_data({class_}).json\"\n",
    "    file_dir_path = f\"Training\\[원천]EMOIMG_{class_}_TRAIN_01\"\n",
    "    save_dir = \"Training/Cropped_Images\"\n",
    "    (processed_count, error_count) = crop_and_resize_and_save_face(json_path, file_dir_path, save_dir,label = class_index,cropped_shape=(256,256))\n",
    "    print(processed_count, error_count)\n",
    "    processed_list.append(processed_count)\n",
    "    error_list.append(error_count)\n",
    "end = time.time()\n",
    "\n",
    "print(f\"걸린 시간: {round(end-start,2)}s\")\n",
    "for class_,processed_count,error_count in zip(classes,processed_list,error_list):\n",
    "    print(class_,f\"total_count = {processed_count}, error_count = {error_count}\")"
   ]
  }
 ],
 "metadata": {
  "kernelspec": {
   "display_name": "Python 3",
   "language": "python",
   "name": "python3"
  },
  "language_info": {
   "codemirror_mode": {
    "name": "ipython",
    "version": 3
   },
   "file_extension": ".py",
   "mimetype": "text/x-python",
   "name": "python",
   "nbconvert_exporter": "python",
   "pygments_lexer": "ipython3",
   "version": "3.11.4"
  }
 },
 "nbformat": 4,
 "nbformat_minor": 2
}
