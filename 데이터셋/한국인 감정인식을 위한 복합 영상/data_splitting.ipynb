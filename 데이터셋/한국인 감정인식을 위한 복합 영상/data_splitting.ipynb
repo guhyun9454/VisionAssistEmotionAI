{
 "cells": [
  {
   "cell_type": "code",
   "execution_count": 1,
   "metadata": {},
   "outputs": [],
   "source": [
    "import os\n",
    "import shutil\n",
    "from sklearn.model_selection import train_test_split\n",
    "\n",
    "# 데이터셋 경로 설정\n",
    "base_dir = 'Training/Cropped_Images'\n",
    "train_dir = 'Training/split_data/train'\n",
    "val_dir = 'Training/split_data/val'\n",
    "test_dir = 'Training/split_data/test'\n",
    "\n",
    "# 파일 경로 및 라벨 추출\n",
    "file_paths = []\n",
    "labels = []\n",
    "\n",
    "for file_name in os.listdir(base_dir):\n",
    "    file_paths.append(os.path.join(base_dir, file_name))\n",
    "    labels.append(file_name.split('_')[0])  # 파일명에서 라벨 추출"
   ]
  },
  {
   "cell_type": "code",
   "execution_count": 2,
   "metadata": {},
   "outputs": [
    {
     "name": "stdout",
     "output_type": "stream",
     "text": [
      "112019\n",
      "112019\n"
     ]
    }
   ],
   "source": [
    "print(len(labels))\n",
    "print(len(file_paths))"
   ]
  },
  {
   "cell_type": "code",
   "execution_count": 3,
   "metadata": {},
   "outputs": [],
   "source": [
    "#train, val, test 비율 - 7 : 1.5 : 1.5\n",
    "train_paths, test_paths, train_labels, test_labels = train_test_split(file_paths, labels, test_size=0.3, random_state=42, stratify=labels)\n",
    "val_paths, test_paths, val_labels, test_labels = train_test_split(test_paths, test_labels, test_size=0.5, random_state=42, stratify=test_labels)"
   ]
  },
  {
   "cell_type": "code",
   "execution_count": 4,
   "metadata": {},
   "outputs": [
    {
     "name": "stdout",
     "output_type": "stream",
     "text": [
      "78413\n",
      "16803\n",
      "16803\n"
     ]
    }
   ],
   "source": [
    "print(len(train_paths))\n",
    "print(len(val_paths))\n",
    "print(len(test_paths))"
   ]
  },
  {
   "cell_type": "code",
   "execution_count": 6,
   "metadata": {},
   "outputs": [],
   "source": [
    "def create_and_copy_files(paths, labels, dest_dir):\n",
    "    for path, label in zip(paths, labels):\n",
    "        # 각 클래스별 하위 디렉토리 생성\n",
    "        class_dir = os.path.join(dest_dir, label)\n",
    "        os.makedirs(class_dir, exist_ok=True)\n",
    "\n",
    "        # 파일을 해당 클래스 디렉토리로 복사\n",
    "        shutil.copy(path, class_dir)\n",
    "        \n",
    "create_and_copy_files(train_paths, train_labels, train_dir)\n",
    "create_and_copy_files(val_paths, val_labels, val_dir)\n",
    "create_and_copy_files(test_paths, test_labels, test_dir)"
   ]
  }
 ],
 "metadata": {
  "kernelspec": {
   "display_name": "Python 3",
   "language": "python",
   "name": "python3"
  },
  "language_info": {
   "codemirror_mode": {
    "name": "ipython",
    "version": 3
   },
   "file_extension": ".py",
   "mimetype": "text/x-python",
   "name": "python",
   "nbconvert_exporter": "python",
   "pygments_lexer": "ipython3",
   "version": "3.11.4"
  }
 },
 "nbformat": 4,
 "nbformat_minor": 2
}
