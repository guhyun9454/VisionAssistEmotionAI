{
 "cells": [
  {
   "cell_type": "code",
   "execution_count": 1,
   "metadata": {},
   "outputs": [],
   "source": [
    "import os\n",
    "import shutil\n",
    "from sklearn.model_selection import train_test_split\n",
    "\n",
    "base_dir = \"데이터 전처리/2차 검수/2차_검수_종합\"\n",
    "train_dir = \"1차데이터셋/train\"\n",
    "val_dir = \"1차데이터셋/val\"\n",
    "test_dir = \"1차데이터셋/test\"\n",
    "\n",
    "file_paths = []\n",
    "labels = []\n",
    "\n",
    "for file_name in os.listdir(base_dir):\n",
    "    file_paths.append(os.path.join(base_dir, file_name))\n",
    "    labels.append(file_name.split('_')[0])  # 파일명에서 라벨 추출"
   ]
  },
  {
   "cell_type": "code",
   "execution_count": 2,
   "metadata": {},
   "outputs": [
    {
     "name": "stdout",
     "output_type": "stream",
     "text": [
      "73326\n",
      "73326\n"
     ]
    }
   ],
   "source": [
    "print(len(labels))\n",
    "print(len(file_paths))"
   ]
  },
  {
   "cell_type": "code",
   "execution_count": 3,
   "metadata": {},
   "outputs": [],
   "source": [
    "#train, val, test 비율 - 7 : 1.5 : 1.5\n",
    "train_paths, test_paths, train_labels, test_labels = train_test_split(file_paths, labels, test_size=0.3, random_state=42, stratify=labels)\n",
    "val_paths, test_paths, val_labels, test_labels = train_test_split(test_paths, test_labels, test_size=0.5, random_state=42, stratify=test_labels)"
   ]
  },
  {
   "cell_type": "code",
   "execution_count": 4,
   "metadata": {},
   "outputs": [
    {
     "name": "stdout",
     "output_type": "stream",
     "text": [
      "51328\n",
      "10999\n",
      "10999\n"
     ]
    }
   ],
   "source": [
    "print(len(train_paths))\n",
    "print(len(val_paths))\n",
    "print(len(test_paths))"
   ]
  },
  {
   "cell_type": "code",
   "execution_count": 6,
   "metadata": {},
   "outputs": [
    {
     "name": "stderr",
     "output_type": "stream",
     "text": [
      "100%|██████████| 51328/51328 [01:40<00:00, 510.22it/s]\n",
      "100%|██████████| 10999/10999 [00:22<00:00, 492.19it/s]\n",
      "100%|██████████| 10999/10999 [00:22<00:00, 488.63it/s]\n"
     ]
    }
   ],
   "source": [
    "from tqdm import tqdm\n",
    "\n",
    "def create_and_copy_files(paths, labels, dest_dir):\n",
    "    for (path, label) in tqdm(zip(paths, labels),total = len(labels)):\n",
    "        #각 클래스별 하위 폴더를 생성\n",
    "        class_dir = os.path.join(dest_dir, label)\n",
    "        os.makedirs(class_dir, exist_ok=True)\n",
    "\n",
    "        #파일을 해당 클래스 폴더에 저장\n",
    "        shutil.copy(path, class_dir)\n",
    "        \n",
    "create_and_copy_files(train_paths, train_labels, train_dir)\n",
    "create_and_copy_files(val_paths, val_labels, val_dir)\n",
    "create_and_copy_files(test_paths, test_labels, test_dir)"
   ]
  }
 ],
 "metadata": {
  "kernelspec": {
   "display_name": "Python 3",
   "language": "python",
   "name": "python3"
  },
  "language_info": {
   "codemirror_mode": {
    "name": "ipython",
    "version": 3
   },
   "file_extension": ".py",
   "mimetype": "text/x-python",
   "name": "python",
   "nbconvert_exporter": "python",
   "pygments_lexer": "ipython3",
   "version": "3.11.4"
  }
 },
 "nbformat": 4,
 "nbformat_minor": 2
}
