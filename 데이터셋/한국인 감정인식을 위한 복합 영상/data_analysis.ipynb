{
 "cells": [
  {
   "cell_type": "code",
   "execution_count": 2,
   "metadata": {},
   "outputs": [
    {
     "name": "stdout",
     "output_type": "stream",
     "text": [
      "데이터 전처리\n",
      "|── 데이터 전처리\\1차 검수   files:  5\n",
      "|   |── 1차_검수_권구현   files:  75738\n",
      "|   |── 1차_검수_정지성   files:  74244\n",
      "|   |── 1차_검수_정희석   files:  76962\n",
      "|   |── 1차_검수_종합   files:  73506\n",
      "|── 데이터 전처리\\2차 검수   files:  5\n",
      "|   |── 2차_검수_권구현   files:  73428\n",
      "|   |── 2차_검수_정지성   files:  73372\n",
      "|   |── 2차_검수_정희석   files:  73473\n",
      "|   |── 2차_검수_종합   files:  73326\n",
      "|── 데이터 전처리\\Cropped_Images   files:  112019\n",
      "|── 데이터 전처리\\python_functions   files:  2\n",
      "|── 데이터 전처리\\원천 데이터   files:  14\n",
      "|   |── [라벨]EMOIMG_기쁨_TRAIN   files:  1\n",
      "|   |── [라벨]EMOIMG_당황_TRAIN   files:  1\n",
      "|   |── [라벨]EMOIMG_분노_TRAIN   files:  1\n",
      "|   |── [라벨]EMOIMG_불안_TRAIN   files:  1\n",
      "|   |── [라벨]EMOIMG_상처_TRAIN   files:  1\n",
      "|   |── [라벨]EMOIMG_슬픔_TRAIN   files:  1\n",
      "|   |── [라벨]EMOIMG_중립_TRAIN   files:  1\n",
      "|   |── [원천]EMOIMG_기쁨_TRAIN_01   files:  16072\n",
      "|   |── [원천]EMOIMG_당황_TRAIN_01   files:  16170\n",
      "|   |── [원천]EMOIMG_분노_TRAIN_01   files:  16234\n",
      "|   |── [원천]EMOIMG_불안_TRAIN_01   files:  16133\n",
      "|   |── [원천]EMOIMG_상처_TRAIN_01   files:  16023\n",
      "|   |── [원천]EMOIMG_슬픔_TRAIN_01   files:  15874\n",
      "|   |── [원천]EMOIMG_중립_TRAIN_01   files:  16197\n"
     ]
    }
   ],
   "source": [
    "import os\n",
    "\n",
    "def print_subfolders(datasets):\n",
    "    print(datasets)\n",
    "    for item in os.listdir(datasets):\n",
    "        dataset = os.path.join(dataset_folder, item)\n",
    "        if os.path.isdir(dataset):\n",
    "            print(\"|──\",dataset,\"  files: \",len(os.listdir(dataset)))\n",
    "            \n",
    "            for sub_folder in os.listdir(dataset):\n",
    "                temp = os.path.join(dataset,sub_folder)\n",
    "                if os.path.isdir(temp):\n",
    "                    print(\"|   |──\",sub_folder,\"  files: \",len(os.listdir(temp)))   \n",
    "\n",
    "dataset_folder = \"데이터 전처리\"\n",
    "\n",
    "print_subfolders(dataset_folder)"
   ]
  }
 ],
 "metadata": {
  "kernelspec": {
   "display_name": "Python 3",
   "language": "python",
   "name": "python3"
  },
  "language_info": {
   "codemirror_mode": {
    "name": "ipython",
    "version": 3
   },
   "file_extension": ".py",
   "mimetype": "text/x-python",
   "name": "python",
   "nbconvert_exporter": "python",
   "pygments_lexer": "ipython3",
   "version": "3.10.11"
  }
 },
 "nbformat": 4,
 "nbformat_minor": 2
}
