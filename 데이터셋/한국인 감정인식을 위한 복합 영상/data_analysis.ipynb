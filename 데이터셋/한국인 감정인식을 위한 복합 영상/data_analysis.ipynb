{
 "cells": [
  {
   "cell_type": "code",
   "execution_count": 16,
   "metadata": {},
   "outputs": [
    {
     "name": "stdout",
     "output_type": "stream",
     "text": [
      "Cropped_Images #_of_files: 112019\n",
      "[라벨]EMOIMG_기쁨_TRAIN #_of_files: 1\n",
      "[라벨]EMOIMG_당황_TRAIN #_of_files: 1\n",
      "[라벨]EMOIMG_분노_TRAIN #_of_files: 1\n",
      "[라벨]EMOIMG_불안_TRAIN #_of_files: 1\n",
      "[라벨]EMOIMG_상처_TRAIN #_of_files: 1\n",
      "[라벨]EMOIMG_슬픔_TRAIN #_of_files: 1\n",
      "[라벨]EMOIMG_중립_TRAIN #_of_files: 1\n",
      "[원천]EMOIMG_기쁨_TRAIN_01 #_of_files: 16072\n",
      "[원천]EMOIMG_당황_TRAIN_01 #_of_files: 16170\n",
      "[원천]EMOIMG_분노_TRAIN_01 #_of_files: 16234\n",
      "[원천]EMOIMG_불안_TRAIN_01 #_of_files: 16133\n",
      "[원천]EMOIMG_상처_TRAIN_01 #_of_files: 16023\n",
      "[원천]EMOIMG_슬픔_TRAIN_01 #_of_files: 15874\n",
      "[원천]EMOIMG_중립_TRAIN_01 #_of_files: 16197\n"
     ]
    }
   ],
   "source": [
    "import os\n",
    "\n",
    "def print_subfolders():\n",
    "    current_folder = \"Training\"\n",
    "\n",
    "    for item in os.listdir(current_folder):\n",
    "        sub_folder = os.path.join(current_folder, item)\n",
    "        if os.path.isdir(sub_folder):\n",
    "            print(item,\"#_of_files:\",len(os.listdir(sub_folder)))\n",
    "\n",
    "print_subfolders()\n"
   ]
  },
  {
   "cell_type": "code",
   "execution_count": null,
   "metadata": {},
   "outputs": [],
   "source": []
  }
 ],
 "metadata": {
  "kernelspec": {
   "display_name": "Python 3",
   "language": "python",
   "name": "python3"
  },
  "language_info": {
   "codemirror_mode": {
    "name": "ipython",
    "version": 3
   },
   "file_extension": ".py",
   "mimetype": "text/x-python",
   "name": "python",
   "nbconvert_exporter": "python",
   "pygments_lexer": "ipython3",
   "version": "3.11.4"
  }
 },
 "nbformat": 4,
 "nbformat_minor": 2
}
