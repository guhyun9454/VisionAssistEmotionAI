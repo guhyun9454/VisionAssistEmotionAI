{
 "cells": [
  {
   "cell_type": "code",
   "execution_count": 2,
   "metadata": {},
   "outputs": [],
   "source": [
    "import os\n",
    "import shutil\n",
    "from tqdm import tqdm"
   ]
  },
  {
   "cell_type": "code",
   "execution_count": 3,
   "metadata": {},
   "outputs": [
    {
     "name": "stderr",
     "output_type": "stream",
     "text": [
      "100%|██████████| 96388/96388 [00:00<00:00, 286783.00it/s]\n"
     ]
    }
   ],
   "source": [
    "from sklearn.model_selection import train_test_split\n",
    "\n",
    "base_dir = \"../2차데이터셋/all\"\n",
    "train_dir = \"train\"\n",
    "val_dir = \"val\"\n",
    "test_dir = \"test\"\n",
    "\n",
    "file_paths = []\n",
    "labels = []\n",
    "\n",
    "for file_name in tqdm(os.listdir(base_dir)):\n",
    "    label = file_name.split('_')[0]\n",
    "    if label == \"2\" or label == \"3\":\n",
    "        continue\n",
    "    file_paths.append(os.path.join(base_dir, file_name))\n",
    "    labels.append(file_name.split('_')[0])  "
   ]
  },
  {
   "cell_type": "code",
   "execution_count": 4,
   "metadata": {},
   "outputs": [
    {
     "name": "stdout",
     "output_type": "stream",
     "text": [
      "83554\n",
      "83554\n"
     ]
    }
   ],
   "source": [
    "print(len(labels))\n",
    "print(len(file_paths))"
   ]
  },
  {
   "cell_type": "code",
   "execution_count": 5,
   "metadata": {},
   "outputs": [],
   "source": [
    "#train, val, test 비율 - 7 : 1.5 : 1.5\n",
    "train_paths, test_paths, train_labels, test_labels = train_test_split(file_paths, labels, test_size=0.3, random_state=42, stratify=labels)\n",
    "val_paths, test_paths, val_labels, test_labels = train_test_split(test_paths, test_labels, test_size=0.5, random_state=42, stratify=test_labels)"
   ]
  },
  {
   "cell_type": "code",
   "execution_count": 6,
   "metadata": {},
   "outputs": [
    {
     "name": "stdout",
     "output_type": "stream",
     "text": [
      "58487\n",
      "12533\n",
      "12534\n"
     ]
    }
   ],
   "source": [
    "print(len(train_paths))\n",
    "print(len(val_paths))\n",
    "print(len(test_paths))"
   ]
  },
  {
   "cell_type": "code",
   "execution_count": 7,
   "metadata": {},
   "outputs": [
    {
     "name": "stderr",
     "output_type": "stream",
     "text": [
      "100%|██████████| 58487/58487 [02:09<00:00, 451.06it/s]\n",
      "100%|██████████| 12533/12533 [00:29<00:00, 427.22it/s]\n",
      "100%|██████████| 12534/12534 [00:29<00:00, 428.80it/s]\n"
     ]
    }
   ],
   "source": [
    "def create_and_copy_files(paths, labels, dest_dir):\n",
    "    for (path, label) in tqdm(zip(paths, labels),total = len(labels)):\n",
    "        #각 클래스별 하위 폴더를 생성\n",
    "        class_dir = os.path.join(dest_dir, label)\n",
    "        os.makedirs(class_dir, exist_ok=True)\n",
    "\n",
    "        #파일을 해당 클래스 폴더에 저장\n",
    "        shutil.copy(path, class_dir)\n",
    "        \n",
    "create_and_copy_files(train_paths, train_labels, train_dir)\n",
    "create_and_copy_files(val_paths, val_labels, val_dir)\n",
    "create_and_copy_files(test_paths, test_labels, test_dir)"
   ]
  }
 ],
 "metadata": {
  "kernelspec": {
   "display_name": "Python 3",
   "language": "python",
   "name": "python3"
  },
  "language_info": {
   "codemirror_mode": {
    "name": "ipython",
    "version": 3
   },
   "file_extension": ".py",
   "mimetype": "text/x-python",
   "name": "python",
   "nbconvert_exporter": "python",
   "pygments_lexer": "ipython3",
   "version": "3.10.11"
  }
 },
 "nbformat": 4,
 "nbformat_minor": 2
}
