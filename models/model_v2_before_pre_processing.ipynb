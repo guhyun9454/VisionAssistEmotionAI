{
 "cells": [
  {
   "cell_type": "code",
   "execution_count": 1,
   "metadata": {},
   "outputs": [
    {
     "name": "stdout",
     "output_type": "stream",
     "text": [
      "Found 78413 images belonging to 7 classes.\n",
      "Found 16803 images belonging to 7 classes.\n",
      "Found 16803 images belonging to 7 classes.\n"
     ]
    }
   ],
   "source": [
    "import tensorflow as tf\n",
    "from tensorflow.keras.preprocessing.image import ImageDataGenerator\n",
    "from tensorflow.keras.models import Sequential\n",
    "from tensorflow.keras.layers import Conv2D, MaxPooling2D, Flatten, Dense, Dropout\n",
    "\n",
    "#검수 전 데이터\n",
    "train_dir = '../데이터셋/한국인 감정인식을 위한 복합 영상/Training/split_data/train'\n",
    "val_dir = '../데이터셋/한국인 감정인식을 위한 복합 영상/Training/split_data/val'\n",
    "test_dir = '../데이터셋/한국인 감정인식을 위한 복합 영상/Training/split_data/test'\n",
    "\n",
    "train_datagen = ImageDataGenerator(rescale=1./255)\n",
    "val_datagen = ImageDataGenerator(rescale=1./255)\n",
    "test_datagen = ImageDataGenerator(rescale=1./255)\n",
    "\n",
    "train_generator = train_datagen.flow_from_directory(\n",
    "    train_dir,\n",
    "    target_size=(48, 48),\n",
    "    batch_size=32,\n",
    "    class_mode='categorical',\n",
    "    color_mode='grayscale')\n",
    "\n",
    "val_generator = val_datagen.flow_from_directory(\n",
    "    val_dir,\n",
    "    target_size=(48, 48),\n",
    "    batch_size=32,\n",
    "    class_mode='categorical'\n",
    "    ,color_mode='grayscale')\n",
    "\n",
    "test_generator = test_datagen.flow_from_directory(\n",
    "    test_dir,\n",
    "    target_size=(48, 48),\n",
    "    batch_size=32,\n",
    "    class_mode='categorical',\n",
    "    color_mode='grayscale')\n",
    "\n"
   ]
  },
  {
   "cell_type": "code",
   "execution_count": 2,
   "metadata": {},
   "outputs": [
    {
     "name": "stdout",
     "output_type": "stream",
     "text": [
      "2.10.0\n"
     ]
    }
   ],
   "source": [
    "print(tf.__version__)"
   ]
  },
  {
   "cell_type": "code",
   "execution_count": 3,
   "metadata": {},
   "outputs": [
    {
     "name": "stdout",
     "output_type": "stream",
     "text": [
      "[name: \"/device:CPU:0\"\n",
      "device_type: \"CPU\"\n",
      "memory_limit: 268435456\n",
      "locality {\n",
      "}\n",
      "incarnation: 2144785252953549224\n",
      "xla_global_id: -1\n",
      ", name: \"/device:GPU:0\"\n",
      "device_type: \"GPU\"\n",
      "memory_limit: 5758779392\n",
      "locality {\n",
      "  bus_id: 1\n",
      "  links {\n",
      "  }\n",
      "}\n",
      "incarnation: 1857282685621347587\n",
      "physical_device_desc: \"device: 0, name: NVIDIA GeForce RTX 3060 Ti, pci bus id: 0000:01:00.0, compute capability: 8.6\"\n",
      "xla_global_id: 416903419\n",
      "]\n"
     ]
    }
   ],
   "source": [
    "from tensorflow.python.client import device_lib\n",
    "print(device_lib.list_local_devices())"
   ]
  },
  {
   "cell_type": "code",
   "execution_count": 3,
   "metadata": {},
   "outputs": [
    {
     "data": {
      "text/plain": [
       "True"
      ]
     },
     "execution_count": 3,
     "metadata": {},
     "output_type": "execute_result"
    }
   ],
   "source": [
    "tf.test.is_built_with_cuda()"
   ]
  },
  {
   "cell_type": "code",
   "execution_count": 5,
   "metadata": {},
   "outputs": [
    {
     "name": "stdout",
     "output_type": "stream",
     "text": [
      "Num GPUs Available:  1\n"
     ]
    }
   ],
   "source": [
    "print(\"Num GPUs Available: \", len(tf.config.list_physical_devices('GPU')))\n"
   ]
  },
  {
   "cell_type": "code",
   "execution_count": 6,
   "metadata": {},
   "outputs": [],
   "source": [
    "import os\n",
    "os.environ[\"CUDA_VISIBLE_DEVICES\"] = \"0\"\n"
   ]
  },
  {
   "cell_type": "code",
   "execution_count": 7,
   "metadata": {},
   "outputs": [
    {
     "name": "stdout",
     "output_type": "stream",
     "text": [
      "Model: \"sequential_1\"\n",
      "_________________________________________________________________\n",
      " Layer (type)                Output Shape              Param #   \n",
      "=================================================================\n",
      " conv2d_4 (Conv2D)           (None, 48, 48, 64)        640       \n",
      "                                                                 \n",
      " batch_normalization_6 (Batc  (None, 48, 48, 64)       256       \n",
      " hNormalization)                                                 \n",
      "                                                                 \n",
      " activation_6 (Activation)   (None, 48, 48, 64)        0         \n",
      "                                                                 \n",
      " max_pooling2d_4 (MaxPooling  (None, 24, 24, 64)       0         \n",
      " 2D)                                                             \n",
      "                                                                 \n",
      " dropout_6 (Dropout)         (None, 24, 24, 64)        0         \n",
      "                                                                 \n",
      " conv2d_5 (Conv2D)           (None, 24, 24, 128)       204928    \n",
      "                                                                 \n",
      " batch_normalization_7 (Batc  (None, 24, 24, 128)      512       \n",
      " hNormalization)                                                 \n",
      "                                                                 \n",
      " activation_7 (Activation)   (None, 24, 24, 128)       0         \n",
      "                                                                 \n",
      " max_pooling2d_5 (MaxPooling  (None, 12, 12, 128)      0         \n",
      " 2D)                                                             \n",
      "                                                                 \n",
      " dropout_7 (Dropout)         (None, 12, 12, 128)       0         \n",
      "                                                                 \n",
      " conv2d_6 (Conv2D)           (None, 12, 12, 512)       590336    \n",
      "                                                                 \n",
      " batch_normalization_8 (Batc  (None, 12, 12, 512)      2048      \n",
      " hNormalization)                                                 \n",
      "                                                                 \n",
      " activation_8 (Activation)   (None, 12, 12, 512)       0         \n",
      "                                                                 \n",
      " max_pooling2d_6 (MaxPooling  (None, 6, 6, 512)        0         \n",
      " 2D)                                                             \n",
      "                                                                 \n",
      " dropout_8 (Dropout)         (None, 6, 6, 512)         0         \n",
      "                                                                 \n",
      " conv2d_7 (Conv2D)           (None, 6, 6, 512)         2359808   \n",
      "                                                                 \n",
      " batch_normalization_9 (Batc  (None, 6, 6, 512)        2048      \n",
      " hNormalization)                                                 \n",
      "                                                                 \n",
      " activation_9 (Activation)   (None, 6, 6, 512)         0         \n",
      "                                                                 \n",
      " max_pooling2d_7 (MaxPooling  (None, 3, 3, 512)        0         \n",
      " 2D)                                                             \n",
      "                                                                 \n",
      " dropout_9 (Dropout)         (None, 3, 3, 512)         0         \n",
      "                                                                 \n",
      " flatten_1 (Flatten)         (None, 4608)              0         \n",
      "                                                                 \n",
      " dense_3 (Dense)             (None, 256)               1179904   \n",
      "                                                                 \n",
      " batch_normalization_10 (Bat  (None, 256)              1024      \n",
      " chNormalization)                                                \n",
      "                                                                 \n",
      " activation_10 (Activation)  (None, 256)               0         \n",
      "                                                                 \n",
      " dropout_10 (Dropout)        (None, 256)               0         \n",
      "                                                                 \n",
      " dense_4 (Dense)             (None, 512)               131584    \n",
      "                                                                 \n",
      " batch_normalization_11 (Bat  (None, 512)              2048      \n",
      " chNormalization)                                                \n",
      "                                                                 \n",
      " activation_11 (Activation)  (None, 512)               0         \n",
      "                                                                 \n",
      " dropout_11 (Dropout)        (None, 512)               0         \n",
      "                                                                 \n",
      " dense_5 (Dense)             (None, 7)                 3591      \n",
      "                                                                 \n",
      "=================================================================\n",
      "Total params: 4,478,727\n",
      "Trainable params: 4,474,759\n",
      "Non-trainable params: 3,968\n",
      "_________________________________________________________________\n"
     ]
    }
   ],
   "source": [
    "from keras.layers import Dense, Input, Dropout, GlobalAveragePooling2D, Flatten, Conv2D, BatchNormalization, Activation, MaxPooling2D\n",
    "from keras.models import Model, Sequential\n",
    "\n",
    "\n",
    "model = Sequential()\n",
    "\n",
    "model.add(Conv2D(64,(3,3), padding='same', input_shape=(48, 48,1)))\n",
    "model.add(BatchNormalization())\n",
    "model.add(Activation('relu'))\n",
    "model.add(MaxPooling2D(pool_size=(2, 2)))\n",
    "model.add(Dropout(0.25))\n",
    "\n",
    "model.add(Conv2D(128,(5,5), padding='same'))\n",
    "model.add(BatchNormalization())\n",
    "model.add(Activation('relu'))\n",
    "model.add(MaxPooling2D(pool_size=(2, 2)))\n",
    "model.add(Dropout(0.25))\n",
    "\n",
    "model.add(Conv2D(512,(3,3), padding='same'))\n",
    "model.add(BatchNormalization())\n",
    "model.add(Activation('relu'))\n",
    "model.add(MaxPooling2D(pool_size=(2, 2)))\n",
    "model.add(Dropout(0.25))\n",
    "\n",
    "model.add(Conv2D(512,(3,3), padding='same'))\n",
    "model.add(BatchNormalization())\n",
    "model.add(Activation('relu'))\n",
    "model.add(MaxPooling2D(pool_size=(2, 2)))\n",
    "model.add(Dropout(0.25))\n",
    "\n",
    "model.add(Flatten())\n",
    "\n",
    "model.add(Dense(256))\n",
    "model.add(BatchNormalization())\n",
    "model.add(Activation('relu'))\n",
    "model.add(Dropout(0.25))\n",
    "\n",
    "model.add(Dense(512))\n",
    "model.add(BatchNormalization())\n",
    "model.add(Activation('relu'))\n",
    "model.add(Dropout(0.25))\n",
    "model.add(Dense(7, activation='softmax'))\n",
    "\n",
    "model.compile(optimizer='adam', loss='categorical_crossentropy', metrics=['accuracy'])\n",
    "\n",
    "model.summary()\n",
    "\n"
   ]
  },
  {
   "cell_type": "code",
   "execution_count": 8,
   "metadata": {},
   "outputs": [
    {
     "name": "stdout",
     "output_type": "stream",
     "text": [
      "Epoch 1/25\n",
      "2450/2450 [==============================] - 125s 49ms/step - loss: 1.6660 - accuracy: 0.3467 - val_loss: 1.4195 - val_accuracy: 0.4403\n",
      "Epoch 2/25\n",
      "2450/2450 [==============================] - 113s 46ms/step - loss: 1.3835 - accuracy: 0.4573 - val_loss: 1.2802 - val_accuracy: 0.4951\n",
      "Epoch 3/25\n",
      "2450/2450 [==============================] - 106s 43ms/step - loss: 1.2784 - accuracy: 0.4999 - val_loss: 1.2802 - val_accuracy: 0.5066\n",
      "Epoch 4/25\n",
      "2450/2450 [==============================] - 105s 43ms/step - loss: 1.2035 - accuracy: 0.5334 - val_loss: 1.1468 - val_accuracy: 0.5539\n",
      "Epoch 5/25\n",
      "2450/2450 [==============================] - 103s 42ms/step - loss: 1.1353 - accuracy: 0.5623 - val_loss: 1.1478 - val_accuracy: 0.5685\n",
      "Epoch 6/25\n",
      "2450/2450 [==============================] - 103s 42ms/step - loss: 1.0793 - accuracy: 0.5855 - val_loss: 1.1264 - val_accuracy: 0.5612\n",
      "Epoch 7/25\n",
      "2450/2450 [==============================] - 99s 40ms/step - loss: 1.0294 - accuracy: 0.6054 - val_loss: 1.0479 - val_accuracy: 0.5982\n",
      "Epoch 8/25\n",
      "2450/2450 [==============================] - 106s 43ms/step - loss: 0.9788 - accuracy: 0.6259 - val_loss: 1.0975 - val_accuracy: 0.5920\n",
      "Epoch 9/25\n",
      "2450/2450 [==============================] - 107s 44ms/step - loss: 0.9423 - accuracy: 0.6393 - val_loss: 0.9866 - val_accuracy: 0.6210\n",
      "Epoch 10/25\n",
      "2450/2450 [==============================] - 108s 44ms/step - loss: 0.9072 - accuracy: 0.6542 - val_loss: 1.0452 - val_accuracy: 0.6036\n",
      "Epoch 11/25\n",
      "2450/2450 [==============================] - 107s 44ms/step - loss: 0.8698 - accuracy: 0.6675 - val_loss: 1.0401 - val_accuracy: 0.6042\n",
      "Epoch 12/25\n",
      "2450/2450 [==============================] - 107s 44ms/step - loss: 0.8378 - accuracy: 0.6814 - val_loss: 0.9500 - val_accuracy: 0.6360\n",
      "Epoch 13/25\n",
      "2450/2450 [==============================] - 108s 44ms/step - loss: 0.8103 - accuracy: 0.6925 - val_loss: 0.9458 - val_accuracy: 0.6451\n",
      "Epoch 14/25\n",
      "2450/2450 [==============================] - 107s 44ms/step - loss: 0.7864 - accuracy: 0.7027 - val_loss: 0.9396 - val_accuracy: 0.6452\n",
      "Epoch 15/25\n",
      "2450/2450 [==============================] - 107s 44ms/step - loss: 0.7598 - accuracy: 0.7123 - val_loss: 0.9821 - val_accuracy: 0.6309\n",
      "Epoch 16/25\n",
      "2450/2450 [==============================] - 109s 44ms/step - loss: 0.7362 - accuracy: 0.7228 - val_loss: 0.9870 - val_accuracy: 0.6355\n",
      "Epoch 17/25\n",
      "2450/2450 [==============================] - 108s 44ms/step - loss: 0.7089 - accuracy: 0.7338 - val_loss: 0.9884 - val_accuracy: 0.6357\n",
      "Epoch 18/25\n",
      "2450/2450 [==============================] - 110s 45ms/step - loss: 0.6910 - accuracy: 0.7404 - val_loss: 0.9401 - val_accuracy: 0.6514\n",
      "Epoch 19/25\n",
      "2450/2450 [==============================] - 107s 44ms/step - loss: 0.6734 - accuracy: 0.7482 - val_loss: 0.9329 - val_accuracy: 0.6601\n",
      "Epoch 20/25\n",
      "2450/2450 [==============================] - 107s 44ms/step - loss: 0.6536 - accuracy: 0.7561 - val_loss: 0.9660 - val_accuracy: 0.6359\n",
      "Epoch 21/25\n",
      "2450/2450 [==============================] - 107s 44ms/step - loss: 0.6384 - accuracy: 0.7618 - val_loss: 0.9644 - val_accuracy: 0.6526\n",
      "Epoch 22/25\n",
      "2450/2450 [==============================] - 107s 44ms/step - loss: 0.6180 - accuracy: 0.7692 - val_loss: 0.9556 - val_accuracy: 0.6568\n",
      "Epoch 23/25\n",
      "2450/2450 [==============================] - 108s 44ms/step - loss: 0.6022 - accuracy: 0.7744 - val_loss: 0.9809 - val_accuracy: 0.6554\n",
      "Epoch 24/25\n",
      "2450/2450 [==============================] - 107s 44ms/step - loss: 0.5869 - accuracy: 0.7816 - val_loss: 1.0082 - val_accuracy: 0.6427\n",
      "Epoch 25/25\n",
      "2450/2450 [==============================] - 108s 44ms/step - loss: 0.5722 - accuracy: 0.7872 - val_loss: 1.0144 - val_accuracy: 0.6469\n"
     ]
    }
   ],
   "source": [
    "history = model.fit(\n",
    "    train_generator,\n",
    "    steps_per_epoch=train_generator.samples // train_generator.batch_size,\n",
    "    epochs=25,\n",
    "    validation_data=val_generator,\n",
    "    validation_steps=val_generator.samples // val_generator.batch_size)"
   ]
  },
  {
   "cell_type": "code",
   "execution_count": 9,
   "metadata": {},
   "outputs": [
    {
     "name": "stdout",
     "output_type": "stream",
     "text": [
      "526/526 [==============================] - 24s 45ms/step - loss: 1.0043 - accuracy: 0.6430\n"
     ]
    },
    {
     "data": {
      "text/plain": [
       "[1.004263162612915, 0.6429803967475891]"
      ]
     },
     "execution_count": 9,
     "metadata": {},
     "output_type": "execute_result"
    }
   ],
   "source": [
    "model.evaluate(test_generator)\n"
   ]
  },
  {
   "cell_type": "code",
   "execution_count": 10,
   "metadata": {},
   "outputs": [
    {
     "data": {
      "image/png": "[encoded data removed]",
      "text/plain": [
       "<Figure size 640x480 with 1 Axes>"
      ]
     },
     "metadata": {},
     "output_type": "display_data"
    }
   ],
   "source": [
    "import matplotlib.pyplot as plt\n",
    "plt.plot(history.history[\"loss\"])\n",
    "plt.plot(history.history[\"val_loss\"])\n",
    "plt.xlabel(\"epoch\")\n",
    "plt.ylabel(\"loss\")\n",
    "\n",
    "plt.show()"
   ]
  },
  {
   "cell_type": "code",
   "execution_count": null,
   "metadata": {},
   "outputs": [],
   "source": []
  }
 ],
 "metadata": {
  "kernelspec": {
   "display_name": "Python 3",
   "language": "python",
   "name": "python3"
  },
  "language_info": {
   "codemirror_mode": {
    "name": "ipython",
    "version": 3
   },
   "file_extension": ".py",
   "mimetype": "text/x-python",
   "name": "python",
   "nbconvert_exporter": "python",
   "pygments_lexer": "ipython3",
   "version": "3.10.11"
  }
 },
 "nbformat": 4,
 "nbformat_minor": 2
}
