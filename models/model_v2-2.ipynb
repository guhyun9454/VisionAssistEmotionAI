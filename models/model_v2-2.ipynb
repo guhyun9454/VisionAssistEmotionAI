{
 "cells": [
  {
   "cell_type": "code",
   "execution_count": 1,
   "metadata": {},
   "outputs": [
    {
     "name": "stdout",
     "output_type": "stream",
     "text": [
      "Found 38087 images belonging to 7 classes.\n",
      "Found 8162 images belonging to 7 classes.\n",
      "Found 8162 images belonging to 7 classes.\n"
     ]
    }
   ],
   "source": [
    "import tensorflow as tf\n",
    "from tensorflow.keras.preprocessing.image import ImageDataGenerator\n",
    "from tensorflow.keras.models import Sequential\n",
    "from tensorflow.keras.layers import Conv2D, MaxPooling2D, Flatten, Dense, Dropout\n",
    "\n",
    "train_dir = \"../데이터셋/한국인 감정인식을 위한 복합 영상/최종데이터셋/train\"\n",
    "val_dir = \"../데이터셋/한국인 감정인식을 위한 복합 영상/최종데이터셋/val\"\n",
    "test_dir = \"../데이터셋/한국인 감정인식을 위한 복합 영상/최종데이터셋/test\"\n",
    "\n",
    "train_datagen = ImageDataGenerator(rescale=1./255,\n",
    "                                   horizontal_flip=True)\n",
    "val_datagen = ImageDataGenerator(rescale=1./255)\n",
    "test_datagen = ImageDataGenerator(rescale=1./255)\n",
    "\n",
    "train_generator = train_datagen.flow_from_directory(\n",
    "    train_dir,\n",
    "    target_size=(48, 48),\n",
    "    batch_size=32,\n",
    "    class_mode='categorical',\n",
    "    color_mode='grayscale')\n",
    "\n",
    "val_generator = val_datagen.flow_from_directory(\n",
    "    val_dir,\n",
    "    target_size=(48, 48),\n",
    "    batch_size=32,\n",
    "    class_mode='categorical'\n",
    "    ,color_mode='grayscale')\n",
    "\n",
    "test_generator = test_datagen.flow_from_directory(\n",
    "    test_dir,\n",
    "    target_size=(48, 48),\n",
    "    batch_size=32,\n",
    "    class_mode='categorical',\n",
    "    color_mode='grayscale')"
   ]
  },
  {
   "cell_type": "code",
   "execution_count": 2,
   "metadata": {},
   "outputs": [
    {
     "name": "stdout",
     "output_type": "stream",
     "text": [
      "Num GPUs Available:  1\n"
     ]
    }
   ],
   "source": [
    "print(\"Num GPUs Available: \", len(tf.config.list_physical_devices('GPU')))"
   ]
  },
  {
   "cell_type": "code",
   "execution_count": 1,
   "metadata": {},
   "outputs": [
    {
     "name": "stdout",
     "output_type": "stream",
     "text": [
      "Model: \"sequential\"\n",
      "_________________________________________________________________\n",
      " Layer (type)                Output Shape              Param #   \n",
      "=================================================================\n",
      " conv2d (Conv2D)             (None, 48, 48, 64)        640       \n",
      "                                                                 \n",
      " batch_normalization (BatchN  (None, 48, 48, 64)       256       \n",
      " ormalization)                                                   \n",
      "                                                                 \n",
      " activation (Activation)     (None, 48, 48, 64)        0         \n",
      "                                                                 \n",
      " max_pooling2d (MaxPooling2D  (None, 24, 24, 64)       0         \n",
      " )                                                               \n",
      "                                                                 \n",
      " dropout (Dropout)           (None, 24, 24, 64)        0         \n",
      "                                                                 \n",
      " conv2d_1 (Conv2D)           (None, 24, 24, 128)       204928    \n",
      "                                                                 \n",
      " batch_normalization_1 (Batc  (None, 24, 24, 128)      512       \n",
      " hNormalization)                                                 \n",
      "                                                                 \n",
      " activation_1 (Activation)   (None, 24, 24, 128)       0         \n",
      "                                                                 \n",
      " max_pooling2d_1 (MaxPooling  (None, 12, 12, 128)      0         \n",
      " 2D)                                                             \n",
      "                                                                 \n",
      " dropout_1 (Dropout)         (None, 12, 12, 128)       0         \n",
      "                                                                 \n",
      " conv2d_2 (Conv2D)           (None, 12, 12, 512)       590336    \n",
      "                                                                 \n",
      " batch_normalization_2 (Batc  (None, 12, 12, 512)      2048      \n",
      " hNormalization)                                                 \n",
      "                                                                 \n",
      " activation_2 (Activation)   (None, 12, 12, 512)       0         \n",
      "                                                                 \n",
      " max_pooling2d_2 (MaxPooling  (None, 6, 6, 512)        0         \n",
      " 2D)                                                             \n",
      "                                                                 \n",
      " dropout_2 (Dropout)         (None, 6, 6, 512)         0         \n",
      "                                                                 \n",
      " conv2d_3 (Conv2D)           (None, 6, 6, 512)         2359808   \n",
      "                                                                 \n",
      " batch_normalization_3 (Batc  (None, 6, 6, 512)        2048      \n",
      " hNormalization)                                                 \n",
      "                                                                 \n",
      " activation_3 (Activation)   (None, 6, 6, 512)         0         \n",
      "                                                                 \n",
      " max_pooling2d_3 (MaxPooling  (None, 3, 3, 512)        0         \n",
      " 2D)                                                             \n",
      "                                                                 \n",
      " dropout_3 (Dropout)         (None, 3, 3, 512)         0         \n",
      "                                                                 \n",
      " flatten (Flatten)           (None, 4608)              0         \n",
      "                                                                 \n",
      " dense (Dense)               (None, 256)               1179904   \n",
      "                                                                 \n",
      " batch_normalization_4 (Batc  (None, 256)              1024      \n",
      " hNormalization)                                                 \n",
      "                                                                 \n",
      " activation_4 (Activation)   (None, 256)               0         \n",
      "                                                                 \n",
      " dropout_4 (Dropout)         (None, 256)               0         \n",
      "                                                                 \n",
      " dense_1 (Dense)             (None, 512)               131584    \n",
      "                                                                 \n",
      " batch_normalization_5 (Batc  (None, 512)              2048      \n",
      " hNormalization)                                                 \n",
      "                                                                 \n",
      " activation_5 (Activation)   (None, 512)               0         \n",
      "                                                                 \n",
      " dropout_5 (Dropout)         (None, 512)               0         \n",
      "                                                                 \n",
      " dense_2 (Dense)             (None, 7)                 3591      \n",
      "                                                                 \n",
      "=================================================================\n",
      "Total params: 4,478,727\n",
      "Trainable params: 4,474,759\n",
      "Non-trainable params: 3,968\n",
      "_________________________________________________________________\n"
     ]
    }
   ],
   "source": [
    "from keras.layers import Dense, Input, Dropout, GlobalAveragePooling2D, Flatten, Conv2D, BatchNormalization, Activation, MaxPooling2D\n",
    "from keras.models import Model, Sequential\n",
    "\n",
    "model = Sequential()\n",
    "\n",
    "model.add(Conv2D(64,(3,3), padding='same', input_shape=(48, 48,1)))\n",
    "model.add(BatchNormalization())\n",
    "model.add(Activation('relu'))\n",
    "model.add(MaxPooling2D(pool_size=(2, 2)))\n",
    "model.add(Dropout(0.25))\n",
    "\n",
    "model.add(Conv2D(128,(5,5), padding='same'))\n",
    "model.add(BatchNormalization())\n",
    "model.add(Activation('relu'))\n",
    "model.add(MaxPooling2D(pool_size=(2, 2)))\n",
    "model.add(Dropout(0.25))\n",
    "\n",
    "model.add(Conv2D(512,(3,3), padding='same'))\n",
    "model.add(BatchNormalization())\n",
    "model.add(Activation('relu'))\n",
    "model.add(MaxPooling2D(pool_size=(2, 2)))\n",
    "model.add(Dropout(0.25))\n",
    "\n",
    "model.add(Conv2D(512,(3,3), padding='same'))\n",
    "model.add(BatchNormalization())\n",
    "model.add(Activation('relu'))\n",
    "model.add(MaxPooling2D(pool_size=(2, 2)))\n",
    "model.add(Dropout(0.25))\n",
    "\n",
    "model.add(Flatten())\n",
    "\n",
    "model.add(Dense(256))\n",
    "model.add(BatchNormalization())\n",
    "model.add(Activation('relu'))\n",
    "model.add(Dropout(0.25))\n",
    "\n",
    "model.add(Dense(512))\n",
    "model.add(BatchNormalization())\n",
    "model.add(Activation('relu'))\n",
    "model.add(Dropout(0.25))\n",
    "\n",
    "\n",
    "model.add(Dense(7, activation='softmax'))\n",
    "\n",
    "model.compile(optimizer='adam', loss='categorical_crossentropy', metrics=['accuracy'])\n",
    "\n",
    "model.summary()"
   ]
  },
  {
   "cell_type": "code",
   "execution_count": 4,
   "metadata": {},
   "outputs": [
    {
     "name": "stdout",
     "output_type": "stream",
     "text": [
      "You must install pydot (`pip install pydot`) and install graphviz (see instructions at https://graphviz.gitlab.io/download/) for plot_model to work.\n"
     ]
    }
   ],
   "source": [
    "from keras.utils.vis_utils import plot_model\n",
    "\n",
    "plot_model(model, to_file='../graphs/model_plot.png', show_shapes=True, show_layer_names=True)"
   ]
  },
  {
   "cell_type": "code",
   "execution_count": 4,
   "metadata": {},
   "outputs": [],
   "source": [
    "from keras.callbacks import ModelCheckpoint, EarlyStopping\n",
    "checkpoint_path = \"saved_models/v2_final.hdf5\"\n",
    "checkpoint_cb = ModelCheckpoint(checkpoint_path, verbose=1, save_best_only=True,monitor='val_loss')\n",
    "early_stop_cb = EarlyStopping(patience=10,restore_best_weights=True)"
   ]
  },
  {
   "cell_type": "code",
   "execution_count": 5,
   "metadata": {},
   "outputs": [
    {
     "name": "stdout",
     "output_type": "stream",
     "text": [
      "Epoch 1/50\n",
      "1189/1190 [============================>.] - ETA: 0s - loss: 1.2253 - accuracy: 0.5729\n",
      "Epoch 1: val_loss improved from inf to 1.00266, saving model to saved_models\\v2_final.hdf5\n",
      "1190/1190 [==============================] - 53s 41ms/step - loss: 1.2249 - accuracy: 0.5731 - val_loss: 1.0027 - val_accuracy: 0.6607\n",
      "Epoch 2/50\n",
      "1189/1190 [============================>.] - ETA: 0s - loss: 0.8982 - accuracy: 0.6916\n",
      "Epoch 2: val_loss did not improve from 1.00266\n",
      "1190/1190 [==============================] - 48s 40ms/step - loss: 0.8983 - accuracy: 0.6915 - val_loss: 1.0180 - val_accuracy: 0.6498\n",
      "Epoch 3/50\n",
      "1189/1190 [============================>.] - ETA: 0s - loss: 0.8128 - accuracy: 0.7209\n",
      "Epoch 3: val_loss improved from 1.00266 to 0.69910, saving model to saved_models\\v2_final.hdf5\n",
      "1190/1190 [==============================] - 51s 43ms/step - loss: 0.8124 - accuracy: 0.7210 - val_loss: 0.6991 - val_accuracy: 0.7619\n",
      "Epoch 4/50\n",
      "1189/1190 [============================>.] - ETA: 0s - loss: 0.7599 - accuracy: 0.7412\n",
      "Epoch 4: val_loss did not improve from 0.69910\n",
      "1190/1190 [==============================] - 49s 41ms/step - loss: 0.7600 - accuracy: 0.7412 - val_loss: 0.9091 - val_accuracy: 0.6826\n",
      "Epoch 5/50\n",
      "1190/1190 [==============================] - ETA: 0s - loss: 0.7178 - accuracy: 0.7572\n",
      "Epoch 5: val_loss improved from 0.69910 to 0.69334, saving model to saved_models\\v2_final.hdf5\n",
      "1190/1190 [==============================] - 48s 41ms/step - loss: 0.7178 - accuracy: 0.7572 - val_loss: 0.6933 - val_accuracy: 0.7630\n",
      "Epoch 6/50\n",
      "1189/1190 [============================>.] - ETA: 0s - loss: 0.6816 - accuracy: 0.7684\n",
      "Epoch 6: val_loss did not improve from 0.69334\n",
      "1190/1190 [==============================] - 49s 41ms/step - loss: 0.6819 - accuracy: 0.7683 - val_loss: 0.7290 - val_accuracy: 0.7569\n",
      "Epoch 7/50\n",
      "1190/1190 [==============================] - ETA: 0s - loss: 0.6547 - accuracy: 0.7765\n",
      "Epoch 7: val_loss did not improve from 0.69334\n",
      "1190/1190 [==============================] - 48s 40ms/step - loss: 0.6547 - accuracy: 0.7765 - val_loss: 0.8715 - val_accuracy: 0.7051\n",
      "Epoch 8/50\n",
      "1190/1190 [==============================] - ETA: 0s - loss: 0.6266 - accuracy: 0.7893\n",
      "Epoch 8: val_loss improved from 0.69334 to 0.65203, saving model to saved_models\\v2_final.hdf5\n",
      "1190/1190 [==============================] - 48s 40ms/step - loss: 0.6266 - accuracy: 0.7893 - val_loss: 0.6520 - val_accuracy: 0.7809\n",
      "Epoch 9/50\n",
      "1190/1190 [==============================] - ETA: 0s - loss: 0.6080 - accuracy: 0.7939\n",
      "Epoch 9: val_loss did not improve from 0.65203\n",
      "1190/1190 [==============================] - 48s 41ms/step - loss: 0.6080 - accuracy: 0.7939 - val_loss: 0.6556 - val_accuracy: 0.7772\n",
      "Epoch 10/50\n",
      "1189/1190 [============================>.] - ETA: 0s - loss: 0.5852 - accuracy: 0.7992\n",
      "Epoch 10: val_loss improved from 0.65203 to 0.59999, saving model to saved_models\\v2_final.hdf5\n",
      "1190/1190 [==============================] - 49s 41ms/step - loss: 0.5853 - accuracy: 0.7992 - val_loss: 0.6000 - val_accuracy: 0.7995\n",
      "Epoch 11/50\n",
      "1189/1190 [============================>.] - ETA: 0s - loss: 0.5682 - accuracy: 0.8066\n",
      "Epoch 11: val_loss improved from 0.59999 to 0.59878, saving model to saved_models\\v2_final.hdf5\n",
      "1190/1190 [==============================] - 48s 41ms/step - loss: 0.5681 - accuracy: 0.8067 - val_loss: 0.5988 - val_accuracy: 0.8002\n",
      "Epoch 12/50\n",
      "1190/1190 [==============================] - ETA: 0s - loss: 0.5482 - accuracy: 0.8130\n",
      "Epoch 12: val_loss did not improve from 0.59878\n",
      "1190/1190 [==============================] - 48s 41ms/step - loss: 0.5482 - accuracy: 0.8130 - val_loss: 0.6160 - val_accuracy: 0.7933\n",
      "Epoch 13/50\n",
      "1189/1190 [============================>.] - ETA: 0s - loss: 0.5319 - accuracy: 0.8187\n",
      "Epoch 13: val_loss improved from 0.59878 to 0.56400, saving model to saved_models\\v2_final.hdf5\n",
      "1190/1190 [==============================] - 50s 42ms/step - loss: 0.5319 - accuracy: 0.8188 - val_loss: 0.5640 - val_accuracy: 0.8107\n",
      "Epoch 14/50\n",
      "1190/1190 [==============================] - ETA: 0s - loss: 0.5190 - accuracy: 0.8212\n",
      "Epoch 14: val_loss did not improve from 0.56400\n",
      "1190/1190 [==============================] - 50s 42ms/step - loss: 0.5190 - accuracy: 0.8212 - val_loss: 0.6092 - val_accuracy: 0.8002\n",
      "Epoch 15/50\n",
      "1190/1190 [==============================] - ETA: 0s - loss: 0.5068 - accuracy: 0.8252\n",
      "Epoch 15: val_loss did not improve from 0.56400\n",
      "1190/1190 [==============================] - 48s 41ms/step - loss: 0.5068 - accuracy: 0.8252 - val_loss: 0.7289 - val_accuracy: 0.7566\n",
      "Epoch 16/50\n",
      "1189/1190 [============================>.] - ETA: 0s - loss: 0.4902 - accuracy: 0.8309\n",
      "Epoch 16: val_loss did not improve from 0.56400\n",
      "1190/1190 [==============================] - 49s 41ms/step - loss: 0.4901 - accuracy: 0.8309 - val_loss: 0.7113 - val_accuracy: 0.7705\n",
      "Epoch 17/50\n",
      "1190/1190 [==============================] - ETA: 0s - loss: 0.4713 - accuracy: 0.8368\n",
      "Epoch 17: val_loss improved from 0.56400 to 0.55893, saving model to saved_models\\v2_final.hdf5\n",
      "1190/1190 [==============================] - 48s 40ms/step - loss: 0.4713 - accuracy: 0.8368 - val_loss: 0.5589 - val_accuracy: 0.8205\n",
      "Epoch 18/50\n",
      "1190/1190 [==============================] - ETA: 0s - loss: 0.4624 - accuracy: 0.8391\n",
      "Epoch 18: val_loss did not improve from 0.55893\n",
      "1190/1190 [==============================] - 48s 41ms/step - loss: 0.4624 - accuracy: 0.8391 - val_loss: 0.6199 - val_accuracy: 0.8027\n",
      "Epoch 19/50\n",
      "1190/1190 [==============================] - ETA: 0s - loss: 0.4500 - accuracy: 0.8423\n",
      "Epoch 19: val_loss did not improve from 0.55893\n",
      "1190/1190 [==============================] - 48s 41ms/step - loss: 0.4500 - accuracy: 0.8423 - val_loss: 0.6046 - val_accuracy: 0.8032\n",
      "Epoch 20/50\n",
      "1189/1190 [============================>.] - ETA: 0s - loss: 0.4348 - accuracy: 0.8495\n",
      "Epoch 20: val_loss did not improve from 0.55893\n",
      "1190/1190 [==============================] - 49s 41ms/step - loss: 0.4347 - accuracy: 0.8496 - val_loss: 0.5970 - val_accuracy: 0.8126\n",
      "Epoch 21/50\n",
      "1189/1190 [============================>.] - ETA: 0s - loss: 0.4267 - accuracy: 0.8490\n",
      "Epoch 21: val_loss did not improve from 0.55893\n",
      "1190/1190 [==============================] - 49s 41ms/step - loss: 0.4266 - accuracy: 0.8490 - val_loss: 0.5709 - val_accuracy: 0.8172\n",
      "Epoch 22/50\n",
      "1189/1190 [============================>.] - ETA: 0s - loss: 0.4097 - accuracy: 0.8572\n",
      "Epoch 22: val_loss did not improve from 0.55893\n",
      "1190/1190 [==============================] - 48s 41ms/step - loss: 0.4098 - accuracy: 0.8572 - val_loss: 0.6189 - val_accuracy: 0.8110\n",
      "Epoch 23/50\n",
      "1189/1190 [============================>.] - ETA: 0s - loss: 0.4074 - accuracy: 0.8579\n",
      "Epoch 23: val_loss did not improve from 0.55893\n",
      "1190/1190 [==============================] - 49s 41ms/step - loss: 0.4073 - accuracy: 0.8579 - val_loss: 0.5870 - val_accuracy: 0.8183\n",
      "Epoch 24/50\n",
      "1190/1190 [==============================] - ETA: 0s - loss: 0.3952 - accuracy: 0.8609\n",
      "Epoch 24: val_loss did not improve from 0.55893\n",
      "1190/1190 [==============================] - 50s 42ms/step - loss: 0.3952 - accuracy: 0.8609 - val_loss: 0.6898 - val_accuracy: 0.7819\n",
      "Epoch 25/50\n",
      "1190/1190 [==============================] - ETA: 0s - loss: 0.3901 - accuracy: 0.8639\n",
      "Epoch 25: val_loss did not improve from 0.55893\n",
      "1190/1190 [==============================] - 50s 42ms/step - loss: 0.3901 - accuracy: 0.8639 - val_loss: 0.5737 - val_accuracy: 0.8206\n",
      "Epoch 26/50\n",
      "1189/1190 [============================>.] - ETA: 0s - loss: 0.3700 - accuracy: 0.8687\n",
      "Epoch 26: val_loss did not improve from 0.55893\n",
      "1190/1190 [==============================] - 50s 42ms/step - loss: 0.3701 - accuracy: 0.8687 - val_loss: 0.6377 - val_accuracy: 0.8135\n",
      "Epoch 27/50\n",
      "1190/1190 [==============================] - ETA: 0s - loss: 0.3706 - accuracy: 0.8692\n",
      "Epoch 27: val_loss did not improve from 0.55893\n",
      "1190/1190 [==============================] - 49s 42ms/step - loss: 0.3706 - accuracy: 0.8692 - val_loss: 0.5952 - val_accuracy: 0.8145\n"
     ]
    }
   ],
   "source": [
    "history = model.fit(\n",
    "    train_generator,\n",
    "    steps_per_epoch=train_generator.samples // train_generator.batch_size,\n",
    "    epochs=50,\n",
    "    validation_data=val_generator,\n",
    "    validation_steps=val_generator.samples // val_generator.batch_size,\n",
    "    callbacks=[checkpoint_cb,early_stop_cb])"
   ]
  },
  {
   "cell_type": "code",
   "execution_count": 6,
   "metadata": {},
   "outputs": [
    {
     "name": "stdout",
     "output_type": "stream",
     "text": [
      "256/256 [==============================] - 9s 34ms/step - loss: 0.5447 - accuracy: 0.8200\n"
     ]
    },
    {
     "data": {
      "text/plain": [
       "[0.5446684956550598, 0.8200196027755737]"
      ]
     },
     "execution_count": 6,
     "metadata": {},
     "output_type": "execute_result"
    }
   ],
   "source": [
    "model.evaluate(test_generator)\n"
   ]
  },
  {
   "cell_type": "code",
   "execution_count": 7,
   "metadata": {},
   "outputs": [
    {
     "data": {
      "image/png": "[encoded data removed]",
      "text/plain": [
       "<Figure size 640x480 with 1 Axes>"
      ]
     },
     "metadata": {},
     "output_type": "display_data"
    }
   ],
   "source": [
    "import matplotlib.pyplot as plt\n",
    "plt.plot(history.history[\"loss\"])\n",
    "plt.plot(history.history[\"val_loss\"])\n",
    "plt.xlabel(\"epoch\")\n",
    "plt.ylabel(\"loss\")\n",
    "\n",
    "plt.show()"
   ]
  },
  {
   "cell_type": "code",
   "execution_count": 8,
   "metadata": {},
   "outputs": [
    {
     "data": {
      "image/png": "[encoded data removed]",
      "text/plain": [
       "<Figure size 640x480 with 1 Axes>"
      ]
     },
     "metadata": {},
     "output_type": "display_data"
    }
   ],
   "source": [
    "plt.plot(history.history[\"accuracy\"])\n",
    "plt.plot(history.history[\"val_accuracy\"])\n",
    "plt.xlabel(\"epoch\")\n",
    "plt.ylabel(\"acc\")\n",
    "\n",
    "plt.show()"
   ]
  },
  {
   "cell_type": "code",
   "execution_count": null,
   "metadata": {},
   "outputs": [],
   "source": []
  }
 ],
 "metadata": {
  "kernelspec": {
   "display_name": "Python 3",
   "language": "python",
   "name": "python3"
  },
  "language_info": {
   "codemirror_mode": {
    "name": "ipython",
    "version": 3
   },
   "file_extension": ".py",
   "mimetype": "text/x-python",
   "name": "python",
   "nbconvert_exporter": "python",
   "pygments_lexer": "ipython3",
   "version": "3.10.11"
  }
 },
 "nbformat": 4,
 "nbformat_minor": 2
}
