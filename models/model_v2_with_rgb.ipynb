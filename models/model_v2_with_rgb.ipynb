{
 "cells": [
  {
   "cell_type": "code",
   "execution_count": 1,
   "metadata": {},
   "outputs": [
    {
     "name": "stdout",
     "output_type": "stream",
     "text": [
      "Found 51328 images belonging to 7 classes.\n",
      "Found 10999 images belonging to 7 classes.\n",
      "Found 10999 images belonging to 7 classes.\n"
     ]
    }
   ],
   "source": [
    "import tensorflow as tf\n",
    "from tensorflow.keras.preprocessing.image import ImageDataGenerator\n",
    "from tensorflow.keras.models import Sequential\n",
    "from tensorflow.keras.layers import Conv2D, MaxPooling2D, Flatten, Dense, Dropout\n",
    "\n",
    "train_dir = \"../데이터셋/한국인 감정인식을 위한 복합 영상/최종데이터셋/train\"\n",
    "val_dir = \"../데이터셋/한국인 감정인식을 위한 복합 영상/최종데이터셋/val\"\n",
    "test_dir = \"../데이터셋/한국인 감정인식을 위한 복합 영상/최종데이터셋/test\"\n",
    "\n",
    "train_datagen = ImageDataGenerator(rescale=1./255)\n",
    "val_datagen = ImageDataGenerator(rescale=1./255)\n",
    "test_datagen = ImageDataGenerator(rescale=1./255)\n",
    "\n",
    "train_generator = train_datagen.flow_from_directory(\n",
    "    train_dir,\n",
    "    target_size=(48, 48),\n",
    "    batch_size=32,\n",
    "    class_mode='categorical')\n",
    "\n",
    "val_generator = val_datagen.flow_from_directory(\n",
    "    val_dir,\n",
    "    target_size=(48, 48),\n",
    "    batch_size=32,\n",
    "    class_mode='categorical')\n",
    "\n",
    "test_generator = test_datagen.flow_from_directory(\n",
    "    test_dir,\n",
    "    target_size=(48, 48),\n",
    "    batch_size=32,\n",
    "    class_mode='categorical')"
   ]
  },
  {
   "cell_type": "code",
   "execution_count": 2,
   "metadata": {},
   "outputs": [
    {
     "name": "stdout",
     "output_type": "stream",
     "text": [
      "Num GPUs Available:  1\n"
     ]
    }
   ],
   "source": [
    "print(\"Num GPUs Available: \", len(tf.config.list_physical_devices('GPU')))\n"
   ]
  },
  {
   "cell_type": "code",
   "execution_count": 3,
   "metadata": {},
   "outputs": [
    {
     "name": "stdout",
     "output_type": "stream",
     "text": [
      "Model: \"sequential\"\n",
      "_________________________________________________________________\n",
      " Layer (type)                Output Shape              Param #   \n",
      "=================================================================\n",
      " conv2d (Conv2D)             (None, 48, 48, 64)        1792      \n",
      "                                                                 \n",
      " batch_normalization (BatchN  (None, 48, 48, 64)       256       \n",
      " ormalization)                                                   \n",
      "                                                                 \n",
      " activation (Activation)     (None, 48, 48, 64)        0         \n",
      "                                                                 \n",
      " max_pooling2d (MaxPooling2D  (None, 24, 24, 64)       0         \n",
      " )                                                               \n",
      "                                                                 \n",
      " dropout (Dropout)           (None, 24, 24, 64)        0         \n",
      "                                                                 \n",
      " conv2d_1 (Conv2D)           (None, 24, 24, 128)       204928    \n",
      "                                                                 \n",
      " batch_normalization_1 (Batc  (None, 24, 24, 128)      512       \n",
      " hNormalization)                                                 \n",
      "                                                                 \n",
      " activation_1 (Activation)   (None, 24, 24, 128)       0         \n",
      "                                                                 \n",
      " max_pooling2d_1 (MaxPooling  (None, 12, 12, 128)      0         \n",
      " 2D)                                                             \n",
      "                                                                 \n",
      " dropout_1 (Dropout)         (None, 12, 12, 128)       0         \n",
      "                                                                 \n",
      " conv2d_2 (Conv2D)           (None, 12, 12, 512)       590336    \n",
      "                                                                 \n",
      " batch_normalization_2 (Batc  (None, 12, 12, 512)      2048      \n",
      " hNormalization)                                                 \n",
      "                                                                 \n",
      " activation_2 (Activation)   (None, 12, 12, 512)       0         \n",
      "                                                                 \n",
      " max_pooling2d_2 (MaxPooling  (None, 6, 6, 512)        0         \n",
      " 2D)                                                             \n",
      "                                                                 \n",
      " dropout_2 (Dropout)         (None, 6, 6, 512)         0         \n",
      "                                                                 \n",
      " conv2d_3 (Conv2D)           (None, 6, 6, 512)         2359808   \n",
      "                                                                 \n",
      " batch_normalization_3 (Batc  (None, 6, 6, 512)        2048      \n",
      " hNormalization)                                                 \n",
      "                                                                 \n",
      " activation_3 (Activation)   (None, 6, 6, 512)         0         \n",
      "                                                                 \n",
      " max_pooling2d_3 (MaxPooling  (None, 3, 3, 512)        0         \n",
      " 2D)                                                             \n",
      "                                                                 \n",
      " dropout_3 (Dropout)         (None, 3, 3, 512)         0         \n",
      "                                                                 \n",
      " flatten (Flatten)           (None, 4608)              0         \n",
      "                                                                 \n",
      " dense (Dense)               (None, 256)               1179904   \n",
      "                                                                 \n",
      " batch_normalization_4 (Batc  (None, 256)              1024      \n",
      " hNormalization)                                                 \n",
      "                                                                 \n",
      " activation_4 (Activation)   (None, 256)               0         \n",
      "                                                                 \n",
      " dropout_4 (Dropout)         (None, 256)               0         \n",
      "                                                                 \n",
      " dense_1 (Dense)             (None, 512)               131584    \n",
      "                                                                 \n",
      " batch_normalization_5 (Batc  (None, 512)              2048      \n",
      " hNormalization)                                                 \n",
      "                                                                 \n",
      " activation_5 (Activation)   (None, 512)               0         \n",
      "                                                                 \n",
      " dropout_5 (Dropout)         (None, 512)               0         \n",
      "                                                                 \n",
      " dense_2 (Dense)             (None, 7)                 3591      \n",
      "                                                                 \n",
      "=================================================================\n",
      "Total params: 4,479,879\n",
      "Trainable params: 4,475,911\n",
      "Non-trainable params: 3,968\n",
      "_________________________________________________________________\n"
     ]
    }
   ],
   "source": [
    "from keras.layers import Dense, Input, Dropout, GlobalAveragePooling2D, Flatten, Conv2D, BatchNormalization, Activation, MaxPooling2D\n",
    "from keras.models import Model, Sequential\n",
    "\n",
    "\n",
    "# CNN 모델 구성\n",
    "model = Sequential()\n",
    "\n",
    "model.add(Conv2D(64,(3,3), padding='same', input_shape=(48, 48,3)))\n",
    "model.add(BatchNormalization())\n",
    "model.add(Activation('relu'))\n",
    "model.add(MaxPooling2D(pool_size=(2, 2)))\n",
    "model.add(Dropout(0.25))\n",
    "\n",
    "model.add(Conv2D(128,(5,5), padding='same'))\n",
    "model.add(BatchNormalization())\n",
    "model.add(Activation('relu'))\n",
    "model.add(MaxPooling2D(pool_size=(2, 2)))\n",
    "model.add(Dropout(0.25))\n",
    "\n",
    "model.add(Conv2D(512,(3,3), padding='same'))\n",
    "model.add(BatchNormalization())\n",
    "model.add(Activation('relu'))\n",
    "model.add(MaxPooling2D(pool_size=(2, 2)))\n",
    "model.add(Dropout(0.25))\n",
    "\n",
    "model.add(Conv2D(512,(3,3), padding='same'))\n",
    "model.add(BatchNormalization())\n",
    "model.add(Activation('relu'))\n",
    "model.add(MaxPooling2D(pool_size=(2, 2)))\n",
    "model.add(Dropout(0.25))\n",
    "\n",
    "model.add(Flatten())\n",
    "\n",
    "model.add(Dense(256))\n",
    "model.add(BatchNormalization())\n",
    "model.add(Activation('relu'))\n",
    "model.add(Dropout(0.25))\n",
    "\n",
    "model.add(Dense(512))\n",
    "model.add(BatchNormalization())\n",
    "model.add(Activation('relu'))\n",
    "model.add(Dropout(0.25))\n",
    "\n",
    "\n",
    "model.add(Dense(7, activation='softmax'))\n",
    "\n",
    "model.compile(optimizer='adam', loss='categorical_crossentropy', metrics=['accuracy'])\n",
    "\n",
    "model.summary()"
   ]
  },
  {
   "cell_type": "code",
   "execution_count": 4,
   "metadata": {},
   "outputs": [],
   "source": [
    "from keras.callbacks import ModelCheckpoint, EarlyStopping\n",
    "checkpoint_path = \"saved_models/v2_rgb_best_model.hdf5\"\n",
    "checkpoint_cb = ModelCheckpoint(checkpoint_path, verbose=1, save_best_only=True,monitor='val_loss')\n",
    "early_stop_cb = EarlyStopping(patience=15,restore_best_weights=True)"
   ]
  },
  {
   "cell_type": "code",
   "execution_count": 5,
   "metadata": {},
   "outputs": [
    {
     "name": "stdout",
     "output_type": "stream",
     "text": [
      "Epoch 1/300\n",
      "1603/1604 [============================>.] - ETA: 0s - loss: 1.4780 - accuracy: 0.4381\n",
      "Epoch 1: val_loss improved from inf to 1.33912, saving model to saved_models\\v2_rgb_best_model.hdf5\n",
      "1604/1604 [==============================] - 82s 49ms/step - loss: 1.4778 - accuracy: 0.4381 - val_loss: 1.3391 - val_accuracy: 0.4919\n",
      "Epoch 2/300\n",
      "1603/1604 [============================>.] - ETA: 0s - loss: 1.1202 - accuracy: 0.5817\n",
      "Epoch 2: val_loss improved from 1.33912 to 1.16007, saving model to saved_models\\v2_rgb_best_model.hdf5\n",
      "1604/1604 [==============================] - 69s 43ms/step - loss: 1.1202 - accuracy: 0.5817 - val_loss: 1.1601 - val_accuracy: 0.5672\n",
      "Epoch 3/300\n",
      "1604/1604 [==============================] - ETA: 0s - loss: 1.0143 - accuracy: 0.6214\n",
      "Epoch 3: val_loss improved from 1.16007 to 0.93079, saving model to saved_models\\v2_rgb_best_model.hdf5\n",
      "1604/1604 [==============================] - 81s 50ms/step - loss: 1.0143 - accuracy: 0.6214 - val_loss: 0.9308 - val_accuracy: 0.6585\n",
      "Epoch 4/300\n",
      "1604/1604 [==============================] - ETA: 0s - loss: 0.9463 - accuracy: 0.6508\n",
      "Epoch 4: val_loss improved from 0.93079 to 0.89780, saving model to saved_models\\v2_rgb_best_model.hdf5\n",
      "1604/1604 [==============================] - 70s 43ms/step - loss: 0.9463 - accuracy: 0.6508 - val_loss: 0.8978 - val_accuracy: 0.6676\n",
      "Epoch 5/300\n",
      "1604/1604 [==============================] - ETA: 0s - loss: 0.8874 - accuracy: 0.6704\n",
      "Epoch 5: val_loss improved from 0.89780 to 0.85292, saving model to saved_models\\v2_rgb_best_model.hdf5\n",
      "1604/1604 [==============================] - 80s 50ms/step - loss: 0.8874 - accuracy: 0.6704 - val_loss: 0.8529 - val_accuracy: 0.6835\n",
      "Epoch 6/300\n",
      "1603/1604 [============================>.] - ETA: 0s - loss: 0.8221 - accuracy: 0.6993\n",
      "Epoch 6: val_loss did not improve from 0.85292\n",
      "1604/1604 [==============================] - 67s 42ms/step - loss: 0.8220 - accuracy: 0.6993 - val_loss: 1.0133 - val_accuracy: 0.6186\n",
      "Epoch 7/300\n",
      "1603/1604 [============================>.] - ETA: 0s - loss: 0.7747 - accuracy: 0.7144\n",
      "Epoch 7: val_loss improved from 0.85292 to 0.77562, saving model to saved_models\\v2_rgb_best_model.hdf5\n",
      "1604/1604 [==============================] - 68s 42ms/step - loss: 0.7746 - accuracy: 0.7145 - val_loss: 0.7756 - val_accuracy: 0.7157\n",
      "Epoch 8/300\n",
      "1603/1604 [============================>.] - ETA: 0s - loss: 0.7225 - accuracy: 0.7344\n",
      "Epoch 8: val_loss did not improve from 0.77562\n",
      "1604/1604 [==============================] - 68s 42ms/step - loss: 0.7225 - accuracy: 0.7344 - val_loss: 0.8600 - val_accuracy: 0.6880\n",
      "Epoch 9/300\n",
      "1603/1604 [============================>.] - ETA: 0s - loss: 0.6857 - accuracy: 0.7497\n",
      "Epoch 9: val_loss improved from 0.77562 to 0.69959, saving model to saved_models\\v2_rgb_best_model.hdf5\n",
      "1604/1604 [==============================] - 72s 45ms/step - loss: 0.6858 - accuracy: 0.7496 - val_loss: 0.6996 - val_accuracy: 0.7433\n",
      "Epoch 10/300\n",
      "1603/1604 [============================>.] - ETA: 0s - loss: 0.6471 - accuracy: 0.7613\n",
      "Epoch 10: val_loss improved from 0.69959 to 0.68377, saving model to saved_models\\v2_rgb_best_model.hdf5\n",
      "1604/1604 [==============================] - 68s 43ms/step - loss: 0.6471 - accuracy: 0.7612 - val_loss: 0.6838 - val_accuracy: 0.7545\n",
      "Epoch 11/300\n",
      "1604/1604 [==============================] - ETA: 0s - loss: 0.6111 - accuracy: 0.7776\n",
      "Epoch 11: val_loss did not improve from 0.68377\n",
      "1604/1604 [==============================] - 76s 47ms/step - loss: 0.6111 - accuracy: 0.7776 - val_loss: 0.8448 - val_accuracy: 0.6993\n",
      "Epoch 12/300\n",
      "1603/1604 [============================>.] - ETA: 0s - loss: 0.5741 - accuracy: 0.7903\n",
      "Epoch 12: val_loss did not improve from 0.68377\n",
      "1604/1604 [==============================] - 68s 42ms/step - loss: 0.5742 - accuracy: 0.7903 - val_loss: 0.6975 - val_accuracy: 0.7518\n",
      "Epoch 13/300\n",
      "1603/1604 [============================>.] - ETA: 0s - loss: 0.5508 - accuracy: 0.7962\n",
      "Epoch 13: val_loss did not improve from 0.68377\n",
      "1604/1604 [==============================] - 72s 45ms/step - loss: 0.5509 - accuracy: 0.7962 - val_loss: 0.8238 - val_accuracy: 0.7117\n",
      "Epoch 14/300\n",
      "1603/1604 [============================>.] - ETA: 0s - loss: 0.5181 - accuracy: 0.8095\n",
      "Epoch 14: val_loss improved from 0.68377 to 0.66353, saving model to saved_models\\v2_rgb_best_model.hdf5\n",
      "1604/1604 [==============================] - 68s 42ms/step - loss: 0.5180 - accuracy: 0.8096 - val_loss: 0.6635 - val_accuracy: 0.7648\n",
      "Epoch 15/300\n",
      "1604/1604 [==============================] - ETA: 0s - loss: 0.5002 - accuracy: 0.8187\n",
      "Epoch 15: val_loss did not improve from 0.66353\n",
      "1604/1604 [==============================] - 126s 78ms/step - loss: 0.5002 - accuracy: 0.8187 - val_loss: 0.6872 - val_accuracy: 0.7557\n",
      "Epoch 16/300\n",
      "1604/1604 [==============================] - ETA: 0s - loss: 0.4706 - accuracy: 0.8279\n",
      "Epoch 16: val_loss did not improve from 0.66353\n",
      "1604/1604 [==============================] - 77s 48ms/step - loss: 0.4706 - accuracy: 0.8279 - val_loss: 0.7161 - val_accuracy: 0.7539\n",
      "Epoch 17/300\n",
      "1603/1604 [============================>.] - ETA: 0s - loss: 0.4499 - accuracy: 0.8351\n",
      "Epoch 17: val_loss did not improve from 0.66353\n",
      "1604/1604 [==============================] - 71s 45ms/step - loss: 0.4500 - accuracy: 0.8350 - val_loss: 0.6745 - val_accuracy: 0.7662\n",
      "Epoch 18/300\n",
      "1604/1604 [==============================] - ETA: 0s - loss: 0.4353 - accuracy: 0.8419\n",
      "Epoch 18: val_loss did not improve from 0.66353\n",
      "1604/1604 [==============================] - 75s 46ms/step - loss: 0.4353 - accuracy: 0.8419 - val_loss: 0.7353 - val_accuracy: 0.7549\n",
      "Epoch 19/300\n",
      "1603/1604 [============================>.] - ETA: 0s - loss: 0.4163 - accuracy: 0.8477\n",
      "Epoch 19: val_loss did not improve from 0.66353\n",
      "1604/1604 [==============================] - 67s 42ms/step - loss: 0.4162 - accuracy: 0.8478 - val_loss: 0.6651 - val_accuracy: 0.7774\n",
      "Epoch 20/300\n",
      "1604/1604 [==============================] - ETA: 0s - loss: 0.3983 - accuracy: 0.8534\n",
      "Epoch 20: val_loss did not improve from 0.66353\n",
      "1604/1604 [==============================] - 65s 40ms/step - loss: 0.3983 - accuracy: 0.8534 - val_loss: 0.6970 - val_accuracy: 0.7704\n",
      "Epoch 21/300\n",
      "1603/1604 [============================>.] - ETA: 0s - loss: 0.3816 - accuracy: 0.8597\n",
      "Epoch 21: val_loss did not improve from 0.66353\n",
      "1604/1604 [==============================] - 64s 40ms/step - loss: 0.3815 - accuracy: 0.8598 - val_loss: 0.7228 - val_accuracy: 0.7660\n",
      "Epoch 22/300\n",
      "1603/1604 [============================>.] - ETA: 0s - loss: 0.3663 - accuracy: 0.8647\n",
      "Epoch 22: val_loss did not improve from 0.66353\n",
      "1604/1604 [==============================] - 68s 43ms/step - loss: 0.3664 - accuracy: 0.8647 - val_loss: 0.6948 - val_accuracy: 0.7736\n",
      "Epoch 23/300\n",
      "1603/1604 [============================>.] - ETA: 0s - loss: 0.3564 - accuracy: 0.8684\n",
      "Epoch 23: val_loss did not improve from 0.66353\n",
      "1604/1604 [==============================] - 75s 46ms/step - loss: 0.3566 - accuracy: 0.8683 - val_loss: 0.7121 - val_accuracy: 0.7693\n",
      "Epoch 24/300\n",
      "1604/1604 [==============================] - ETA: 0s - loss: 0.3409 - accuracy: 0.8757\n",
      "Epoch 24: val_loss did not improve from 0.66353\n",
      "1604/1604 [==============================] - 65s 41ms/step - loss: 0.3409 - accuracy: 0.8757 - val_loss: 0.7704 - val_accuracy: 0.7551\n",
      "Epoch 25/300\n",
      "1603/1604 [============================>.] - ETA: 0s - loss: 0.3323 - accuracy: 0.8773\n",
      "Epoch 25: val_loss did not improve from 0.66353\n",
      "1604/1604 [==============================] - 64s 40ms/step - loss: 0.3326 - accuracy: 0.8772 - val_loss: 0.7653 - val_accuracy: 0.7606\n",
      "Epoch 26/300\n",
      "1603/1604 [============================>.] - ETA: 0s - loss: 0.3254 - accuracy: 0.8818\n",
      "Epoch 26: val_loss did not improve from 0.66353\n",
      "1604/1604 [==============================] - 65s 40ms/step - loss: 0.3253 - accuracy: 0.8818 - val_loss: 0.7422 - val_accuracy: 0.7597\n",
      "Epoch 27/300\n",
      "1604/1604 [==============================] - ETA: 0s - loss: 0.3115 - accuracy: 0.8864\n",
      "Epoch 27: val_loss did not improve from 0.66353\n",
      "1604/1604 [==============================] - 78s 48ms/step - loss: 0.3115 - accuracy: 0.8864 - val_loss: 0.7382 - val_accuracy: 0.7782\n",
      "Epoch 28/300\n",
      "1604/1604 [==============================] - ETA: 0s - loss: 0.3018 - accuracy: 0.8885\n",
      "Epoch 28: val_loss did not improve from 0.66353\n",
      "1604/1604 [==============================] - 67s 42ms/step - loss: 0.3018 - accuracy: 0.8885 - val_loss: 0.7903 - val_accuracy: 0.7626\n",
      "Epoch 29/300\n",
      "1604/1604 [==============================] - ETA: 0s - loss: 0.2919 - accuracy: 0.8946\n",
      "Epoch 29: val_loss did not improve from 0.66353\n",
      "1604/1604 [==============================] - 84s 52ms/step - loss: 0.2919 - accuracy: 0.8946 - val_loss: 0.7768 - val_accuracy: 0.7573\n"
     ]
    }
   ],
   "source": [
    "history = model.fit(\n",
    "    train_generator,\n",
    "    steps_per_epoch=train_generator.samples // train_generator.batch_size,\n",
    "    epochs=300,\n",
    "    validation_data=val_generator,\n",
    "    validation_steps=val_generator.samples // val_generator.batch_size,\n",
    "    callbacks=[checkpoint_cb,early_stop_cb])"
   ]
  },
  {
   "cell_type": "code",
   "execution_count": 9,
   "metadata": {},
   "outputs": [
    {
     "name": "stdout",
     "output_type": "stream",
     "text": [
      "344/344 [==============================] - 13s 39ms/step - loss: 0.6536 - accuracy: 0.7644\n"
     ]
    },
    {
     "data": {
      "text/plain": [
       "[0.6535956859588623, 0.7644331455230713]"
      ]
     },
     "execution_count": 9,
     "metadata": {},
     "output_type": "execute_result"
    }
   ],
   "source": [
    "model.evaluate(test_generator)\n"
   ]
  },
  {
   "cell_type": "code",
   "execution_count": 10,
   "metadata": {},
   "outputs": [
    {
     "data": {
      "image/png": "[encoded data removed]",
      "text/plain": [
       "<Figure size 640x480 with 1 Axes>"
      ]
     },
     "metadata": {},
     "output_type": "display_data"
    }
   ],
   "source": [
    "import matplotlib.pyplot as plt\n",
    "plt.plot(history.history[\"loss\"])\n",
    "plt.plot(history.history[\"val_loss\"])\n",
    "plt.xlabel(\"epoch\")\n",
    "plt.ylabel(\"loss\")\n",
    "\n",
    "plt.show()"
   ]
  },
  {
   "cell_type": "code",
   "execution_count": 11,
   "metadata": {},
   "outputs": [
    {
     "data": {
      "image/png": "[encoded data removed]",
      "text/plain": [
       "<Figure size 640x480 with 1 Axes>"
      ]
     },
     "metadata": {},
     "output_type": "display_data"
    }
   ],
   "source": [
    "plt.plot(history.history[\"accuracy\"])\n",
    "plt.plot(history.history[\"val_accuracy\"])\n",
    "plt.xlabel(\"epoch\")\n",
    "plt.ylabel(\"accuracy\")\n",
    "\n",
    "plt.show()"
   ]
  }
 ],
 "metadata": {
  "kernelspec": {
   "display_name": "Python 3",
   "language": "python",
   "name": "python3"
  },
  "language_info": {
   "codemirror_mode": {
    "name": "ipython",
    "version": 3
   },
   "file_extension": ".py",
   "mimetype": "text/x-python",
   "name": "python",
   "nbconvert_exporter": "python",
   "pygments_lexer": "ipython3",
   "version": "3.10.11"
  }
 },
 "nbformat": 4,
 "nbformat_minor": 2
}
