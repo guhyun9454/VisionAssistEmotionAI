{
 "cells": [
  {
   "cell_type": "code",
   "execution_count": 6,
   "metadata": {},
   "outputs": [
    {
     "name": "stdout",
     "output_type": "stream",
     "text": [
      "Found 78413 images belonging to 7 classes.\n",
      "Found 16803 images belonging to 7 classes.\n",
      "Found 16803 images belonging to 7 classes.\n"
     ]
    }
   ],
   "source": [
    "import tensorflow as tf\n",
    "from tensorflow.keras.preprocessing.image import ImageDataGenerator\n",
    "from tensorflow.keras.models import Sequential\n",
    "from tensorflow.keras.layers import Conv2D, MaxPooling2D, Flatten, Dense, Dropout\n",
    "\n",
    "train_dir = '../데이터셋/한국인 감정인식을 위한 복합 영상/Training/split_data/train'\n",
    "val_dir = '../데이터셋/한국인 감정인식을 위한 복합 영상/Training/split_data/val'\n",
    "test_dir = '../데이터셋/한국인 감정인식을 위한 복합 영상/Training/split_data/test'\n",
    "\n",
    "train_datagen = ImageDataGenerator(rescale=1./255)\n",
    "val_datagen = ImageDataGenerator(rescale=1./255)\n",
    "test_datagen = ImageDataGenerator(rescale=1./255)\n",
    "\n",
    "train_generator = train_datagen.flow_from_directory(\n",
    "    train_dir,\n",
    "    target_size=(256, 256),\n",
    "    batch_size=32,\n",
    "    class_mode='categorical')\n",
    "\n",
    "val_generator = val_datagen.flow_from_directory(\n",
    "    val_dir,\n",
    "    target_size=(256, 256),\n",
    "    batch_size=32,\n",
    "    class_mode='categorical')\n",
    "\n",
    "test_generator = test_datagen.flow_from_directory(\n",
    "    test_dir,\n",
    "    target_size=(256, 256),\n",
    "    batch_size=32,\n",
    "    class_mode='categorical')\n",
    "\n"
   ]
  },
  {
   "cell_type": "code",
   "execution_count": 7,
   "metadata": {},
   "outputs": [
    {
     "name": "stdout",
     "output_type": "stream",
     "text": [
      "2.10.0\n"
     ]
    }
   ],
   "source": [
    "print(tf.__version__)"
   ]
  },
  {
   "cell_type": "code",
   "execution_count": 8,
   "metadata": {},
   "outputs": [
    {
     "name": "stdout",
     "output_type": "stream",
     "text": [
      "[name: \"/device:CPU:0\"\n",
      "device_type: \"CPU\"\n",
      "memory_limit: 268435456\n",
      "locality {\n",
      "}\n",
      "incarnation: 15456538177108028626\n",
      "xla_global_id: -1\n",
      ", name: \"/device:GPU:0\"\n",
      "device_type: \"GPU\"\n",
      "memory_limit: 5758779392\n",
      "locality {\n",
      "  bus_id: 1\n",
      "  links {\n",
      "  }\n",
      "}\n",
      "incarnation: 4119326416522053438\n",
      "physical_device_desc: \"device: 0, name: NVIDIA GeForce RTX 3060 Ti, pci bus id: 0000:01:00.0, compute capability: 8.6\"\n",
      "xla_global_id: 416903419\n",
      "]\n"
     ]
    }
   ],
   "source": [
    "from tensorflow.python.client import device_lib\n",
    "print(device_lib.list_local_devices())"
   ]
  },
  {
   "cell_type": "code",
   "execution_count": 9,
   "metadata": {},
   "outputs": [
    {
     "data": {
      "text/plain": [
       "True"
      ]
     },
     "execution_count": 9,
     "metadata": {},
     "output_type": "execute_result"
    }
   ],
   "source": [
    "tf.test.is_built_with_cuda()"
   ]
  },
  {
   "cell_type": "code",
   "execution_count": 5,
   "metadata": {},
   "outputs": [
    {
     "name": "stdout",
     "output_type": "stream",
     "text": [
      "Num GPUs Available:  1\n"
     ]
    }
   ],
   "source": [
    "print(\"Num GPUs Available: \", len(tf.config.list_physical_devices('GPU')))\n"
   ]
  },
  {
   "cell_type": "code",
   "execution_count": 6,
   "metadata": {},
   "outputs": [],
   "source": [
    "import os\n",
    "os.environ[\"CUDA_VISIBLE_DEVICES\"] = \"0\"\n"
   ]
  },
  {
   "cell_type": "code",
   "execution_count": 7,
   "metadata": {},
   "outputs": [
    {
     "name": "stdout",
     "output_type": "stream",
     "text": [
      "Model: \"sequential\"\n",
      "_________________________________________________________________\n",
      " Layer (type)                Output Shape              Param #   \n",
      "=================================================================\n",
      " conv2d (Conv2D)             (None, 254, 254, 32)      896       \n",
      "                                                                 \n",
      " max_pooling2d (MaxPooling2D  (None, 127, 127, 32)     0         \n",
      " )                                                               \n",
      "                                                                 \n",
      " conv2d_1 (Conv2D)           (None, 125, 125, 64)      18496     \n",
      "                                                                 \n",
      " max_pooling2d_1 (MaxPooling  (None, 62, 62, 64)       0         \n",
      " 2D)                                                             \n",
      "                                                                 \n",
      " conv2d_2 (Conv2D)           (None, 60, 60, 128)       73856     \n",
      "                                                                 \n",
      " max_pooling2d_2 (MaxPooling  (None, 30, 30, 128)      0         \n",
      " 2D)                                                             \n",
      "                                                                 \n",
      " flatten (Flatten)           (None, 115200)            0         \n",
      "                                                                 \n",
      " dense (Dense)               (None, 512)               58982912  \n",
      "                                                                 \n",
      " dropout (Dropout)           (None, 512)               0         \n",
      "                                                                 \n",
      " dense_1 (Dense)             (None, 7)                 3591      \n",
      "                                                                 \n",
      "=================================================================\n",
      "Total params: 59,079,751\n",
      "Trainable params: 59,079,751\n",
      "Non-trainable params: 0\n",
      "_________________________________________________________________\n"
     ]
    }
   ],
   "source": [
    "\n",
    "model = Sequential([\n",
    "    Conv2D(32, (3, 3), activation='relu', input_shape=(256, 256, 3)),\n",
    "    MaxPooling2D(2, 2),\n",
    "    Conv2D(64, (3, 3), activation='relu'),\n",
    "    MaxPooling2D(2, 2),\n",
    "    Conv2D(128, (3, 3), activation='relu'),\n",
    "    MaxPooling2D(2, 2),\n",
    "    Flatten(),\n",
    "    Dense(512, activation='relu'),\n",
    "    Dropout(0.5),\n",
    "    Dense(7, activation='softmax')\n",
    "])\n",
    "\n",
    "model.compile(optimizer='adam', loss='categorical_crossentropy', metrics=['accuracy'])\n",
    "\n",
    "model.summary()\n",
    "\n"
   ]
  },
  {
   "cell_type": "code",
   "execution_count": 12,
   "metadata": {},
   "outputs": [
    {
     "name": "stdout",
     "output_type": "stream",
     "text": [
      "Epoch 1/25\n",
      "2450/2450 [==============================] - 275s 112ms/step - loss: 1.2487 - accuracy: 0.5210 - val_loss: 1.2734 - val_accuracy: 0.5017\n",
      "Epoch 2/25\n",
      "2450/2450 [==============================] - 268s 109ms/step - loss: 1.1237 - accuracy: 0.5731 - val_loss: 1.2767 - val_accuracy: 0.5096\n",
      "Epoch 3/25\n",
      "2450/2450 [==============================] - 271s 110ms/step - loss: 0.9862 - accuracy: 0.6311 - val_loss: 1.3111 - val_accuracy: 0.5065\n",
      "Epoch 4/25\n",
      "2450/2450 [==============================] - 272s 111ms/step - loss: 0.8509 - accuracy: 0.6858 - val_loss: 1.4014 - val_accuracy: 0.5115\n",
      "Epoch 5/25\n",
      "2450/2450 [==============================] - 246s 100ms/step - loss: 0.7308 - accuracy: 0.7312 - val_loss: 1.4294 - val_accuracy: 0.5118\n",
      "Epoch 6/25\n",
      "2450/2450 [==============================] - 222s 91ms/step - loss: 0.6404 - accuracy: 0.7653 - val_loss: 1.6229 - val_accuracy: 0.5076\n",
      "Epoch 7/25\n",
      "2450/2450 [==============================] - 179s 73ms/step - loss: 0.5533 - accuracy: 0.7989 - val_loss: 1.7460 - val_accuracy: 0.5102\n",
      "Epoch 8/25\n",
      "2450/2450 [==============================] - 186s 76ms/step - loss: 0.4941 - accuracy: 0.8200 - val_loss: 1.7423 - val_accuracy: 0.5033\n",
      "Epoch 9/25\n",
      "2450/2450 [==============================] - 185s 76ms/step - loss: 0.4523 - accuracy: 0.8371 - val_loss: 1.7767 - val_accuracy: 0.5059\n",
      "Epoch 10/25\n",
      "2450/2450 [==============================] - 182s 74ms/step - loss: 0.4132 - accuracy: 0.8504 - val_loss: 1.9996 - val_accuracy: 0.5042\n",
      "Epoch 11/25\n",
      "2450/2450 [==============================] - 185s 75ms/step - loss: 0.3800 - accuracy: 0.8638 - val_loss: 2.0351 - val_accuracy: 0.5015\n",
      "Epoch 12/25\n",
      "2450/2450 [==============================] - 179s 73ms/step - loss: 0.3550 - accuracy: 0.8746 - val_loss: 2.1302 - val_accuracy: 0.5030\n",
      "Epoch 13/25\n",
      "2450/2450 [==============================] - 185s 75ms/step - loss: 0.3314 - accuracy: 0.8812 - val_loss: 2.1886 - val_accuracy: 0.5037\n",
      "Epoch 14/25\n",
      "2450/2450 [==============================] - 183s 75ms/step - loss: 0.3092 - accuracy: 0.8914 - val_loss: 2.3316 - val_accuracy: 0.4960\n",
      "Epoch 15/25\n",
      "2450/2450 [==============================] - 175s 72ms/step - loss: 0.2912 - accuracy: 0.8972 - val_loss: 2.5350 - val_accuracy: 0.4998\n",
      "Epoch 16/25\n",
      "2450/2450 [==============================] - 177s 72ms/step - loss: 0.2753 - accuracy: 0.9033 - val_loss: 2.2987 - val_accuracy: 0.5036\n",
      "Epoch 17/25\n",
      "2450/2450 [==============================] - 174s 71ms/step - loss: 0.2732 - accuracy: 0.9060 - val_loss: 2.4853 - val_accuracy: 0.5070\n",
      "Epoch 18/25\n",
      "2450/2450 [==============================] - 180s 73ms/step - loss: 0.2564 - accuracy: 0.9115 - val_loss: 2.6280 - val_accuracy: 0.4986\n",
      "Epoch 19/25\n",
      "2450/2450 [==============================] - 175s 71ms/step - loss: 0.2470 - accuracy: 0.9145 - val_loss: 2.9278 - val_accuracy: 0.5057\n",
      "Epoch 20/25\n",
      "2450/2450 [==============================] - 175s 71ms/step - loss: 0.2438 - accuracy: 0.9153 - val_loss: 2.6841 - val_accuracy: 0.5036\n",
      "Epoch 21/25\n",
      "2450/2450 [==============================] - 176s 72ms/step - loss: 0.2316 - accuracy: 0.9213 - val_loss: 2.3544 - val_accuracy: 0.5027\n",
      "Epoch 22/25\n",
      "2450/2450 [==============================] - 177s 72ms/step - loss: 0.2234 - accuracy: 0.9229 - val_loss: 2.6557 - val_accuracy: 0.5042\n",
      "Epoch 23/25\n",
      "2450/2450 [==============================] - 181s 74ms/step - loss: 0.2167 - accuracy: 0.9256 - val_loss: 2.7920 - val_accuracy: 0.4972\n",
      "Epoch 24/25\n",
      "2450/2450 [==============================] - 184s 75ms/step - loss: 0.2058 - accuracy: 0.9300 - val_loss: 2.5235 - val_accuracy: 0.4954\n",
      "Epoch 25/25\n",
      "2450/2450 [==============================] - 181s 74ms/step - loss: 0.2030 - accuracy: 0.9304 - val_loss: 3.1828 - val_accuracy: 0.5030\n"
     ]
    }
   ],
   "source": [
    "history = model.fit(\n",
    "    train_generator,\n",
    "    steps_per_epoch=train_generator.samples // train_generator.batch_size,\n",
    "    epochs=25,\n",
    "    validation_data=val_generator,\n",
    "    validation_steps=val_generator.samples // val_generator.batch_size)"
   ]
  },
  {
   "cell_type": "code",
   "execution_count": 13,
   "metadata": {},
   "outputs": [
    {
     "name": "stdout",
     "output_type": "stream",
     "text": [
      "526/526 [==============================] - 39s 73ms/step - loss: 3.1729 - accuracy: 0.5051\n"
     ]
    },
    {
     "data": {
      "text/plain": [
       "[3.1729114055633545, 0.5051478743553162]"
      ]
     },
     "execution_count": 13,
     "metadata": {},
     "output_type": "execute_result"
    }
   ],
   "source": [
    "model.evaluate(test_generator)\n"
   ]
  }
 ],
 "metadata": {
  "kernelspec": {
   "display_name": "Python 3",
   "language": "python",
   "name": "python3"
  },
  "language_info": {
   "codemirror_mode": {
    "name": "ipython",
    "version": 3
   },
   "file_extension": ".py",
   "mimetype": "text/x-python",
   "name": "python",
   "nbconvert_exporter": "python",
   "pygments_lexer": "ipython3",
   "version": "3.10.11"
  }
 },
 "nbformat": 4,
 "nbformat_minor": 2
}
