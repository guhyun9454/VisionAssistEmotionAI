{
 "cells": [
  {
   "cell_type": "code",
   "execution_count": 7,
   "metadata": {},
   "outputs": [],
   "source": [
    "import cv2\n",
    "import mediapipe as mp\n",
    "import os\n",
    "import numpy as np\n",
    "\n",
    "face_cascade = cv2.CascadeClassifier(cv2.data.haarcascades + 'haarcascade_frontalface_default.xml')\n",
    "\n",
    "mp_face_detection = mp.solutions.face_detection\n",
    "mp_drawing = mp.solutions.drawing_utils\n",
    "\n",
    "image_folder = 'test images'\n",
    "\n",
    "haar_output_folder = 'haar'\n",
    "mp_output_folder = 'mediapipe'\n",
    "\n",
    "for filename in os.listdir(image_folder):\n",
    "    if filename.endswith(('.png', '.jpg', '.jpeg')):\n",
    "        image_path = os.path.join(image_folder, filename)\n",
    "        original_image = cv2.imread(image_path)\n",
    "\n",
    "        #HaarCascade\n",
    "        gray = cv2.cvtColor(original_image, cv2.COLOR_BGR2GRAY)\n",
    "        faces = face_cascade.detectMultiScale(gray, 1.1, 4)\n",
    "        haar_image = original_image.copy()\n",
    "        for (x, y, w, h) in faces:\n",
    "            cv2.rectangle(haar_image, (x, y), (x+w, y+h), (255, 0, 0), 5)\n",
    "        cv2.imwrite(os.path.join(haar_output_folder, filename), haar_image)\n",
    "\n",
    "        #MediaPipe\n",
    "        mp_image = original_image.copy()\n",
    "        with mp_face_detection.FaceDetection(min_detection_confidence=0.3) as face_detection:\n",
    "            results = face_detection.process(cv2.cvtColor(mp_image, cv2.COLOR_BGR2RGB))\n",
    "            if results.detections:\n",
    "                for detection in results.detections:\n",
    "                    bboxC = detection.location_data.relative_bounding_box\n",
    "                    ih, iw, _ = mp_image.shape\n",
    "                    x, y, w, h = int(bboxC.xmin * iw), int(bboxC.ymin * ih), \\\n",
    "                                 int(bboxC.width * iw), int(bboxC.height * ih)\n",
    "                    cv2.rectangle(mp_image, (x, y), (x+w, y+h), (0, 255, 0), 5)  \n",
    "            cv2.imwrite(os.path.join(mp_output_folder, filename), mp_image)\n"
   ]
  },
  {
   "cell_type": "code",
   "execution_count": 4,
   "metadata": {},
   "outputs": [],
   "source": [
    "import cv2\n",
    "\n",
    "cap = cv2.VideoCapture(0)\n",
    "\n",
    "if not cap.isOpened():\n",
    "    print(\"Cannot open camera\")\n",
    "    exit()\n",
    "\n",
    "while True:\n",
    "    ret, frame = cap.read()\n",
    "\n",
    "    if not ret:\n",
    "        break\n",
    "\n",
    "    cv2.imshow('Webcam', frame)\n",
    "\n",
    "    if cv2.waitKey(1) == ord('q'):\n",
    "        break\n",
    "\n",
    "cap.release()\n",
    "cv2.destroyAllWindows()"
   ]
  }
 ],
 "metadata": {
  "kernelspec": {
   "display_name": "base",
   "language": "python",
   "name": "python3"
  },
  "language_info": {
   "codemirror_mode": {
    "name": "ipython",
    "version": 3
   },
   "file_extension": ".py",
   "mimetype": "text/x-python",
   "name": "python",
   "nbconvert_exporter": "python",
   "pygments_lexer": "ipython3",
   "version": "3.10.11"
  }
 },
 "nbformat": 4,
 "nbformat_minor": 2
}
