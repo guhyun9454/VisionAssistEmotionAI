{
 "cells": [
  {
   "cell_type": "code",
   "execution_count": 2,
   "metadata": {},
   "outputs": [],
   "source": [
    "import matplotlib.font_manager as fm\n",
    "font_path = \"models/korean_font/NanumGothic.ttf\"\n",
    "font_prop = fm.FontProperties(fname=font_path, size=15)\n"
   ]
  },
  {
   "cell_type": "code",
   "execution_count": 5,
   "metadata": {},
   "outputs": [],
   "source": [
    "import cv2\n",
    "import mediapipe as mp\n",
    "import numpy as np\n",
    "from keras.models import load_model\n",
    "import os\n",
    "from PIL import Image, ImageDraw, ImageFont\n",
    "import matplotlib.pyplot as plt\n",
    "\n",
    "\n",
    "emotions_korean = [\"분노\", \"슬픔\", \"당황\", \"기쁨\", \"중립\"]\n",
    "\n",
    "\n",
    "\n",
    "mp_face_detection = mp.solutions.face_detection\n",
    "mp_drawing = mp.solutions.drawing_utils\n",
    "face_detection = mp_face_detection.FaceDetection(min_detection_confidence=0.3)\n",
    "\n",
    "\n",
    "\n",
    "def find_and_classify(image_dir, save_dir, image_filename,model_path = \"v2_with_new_data_best_model.hdf5\",input_shape=(48,48),is_grey=True):\n",
    "    model = load_model(model_path)  \n",
    "    image_path = os.path.join(image_dir,image_filename)\n",
    "    save_path = os.path.join(save_dir,image_filename)\n",
    "\n",
    "    frame = cv2.imread(image_path)\n",
    "    if frame is None:\n",
    "        print(\"이미지가 존재하지 않습니다!\")\n",
    "        return\n",
    "    font_size = int(frame.shape[0]/12)\n",
    "    font = ImageFont.truetype(\"models/korean_font/NanumGothic.ttf\", font_size)\n",
    "\n",
    "    pil_image = Image.fromarray(cv2.cvtColor(frame, cv2.COLOR_BGR2RGB))\n",
    "    draw = ImageDraw.Draw(pil_image)\n",
    "\n",
    "    rgb_frame = cv2.cvtColor(frame, cv2.COLOR_BGR2RGB)\n",
    "    results = face_detection.process(rgb_frame)\n",
    "\n",
    "    if results.detections:\n",
    "        for detection in results.detections:\n",
    "            bboxC = detection.location_data.relative_bounding_box\n",
    "            ih, iw, ic = frame.shape\n",
    "            x, y, w, h = int(bboxC.xmin * iw), int(bboxC.ymin * ih), int(bboxC.width * iw), int(bboxC.height * ih)\n",
    "\n",
    "            # 얼굴 부분 자르기\n",
    "            face = frame[y:y+h, x:x+w]\n",
    "            try:\n",
    "                face = cv2.resize(face, input_shape) #리사이징\n",
    "                if is_grey: #흑백\n",
    "                    face = cv2.cvtColor(face, cv2.COLOR_BGR2GRAY)\n",
    "                face = face / 255.0 #정규화\n",
    "                face = np.expand_dims(face, axis=0)\n",
    "                face = np.expand_dims(face, axis=-1)\n",
    "\n",
    "\n",
    "                #모델을 사용한 감정 예측\n",
    "                prediction = model.predict(face) #모델 추론\n",
    "                text_on_img = emotions_korean[np.argmax(prediction)] +\" \"+ str(round(np.max(prediction),2))\n",
    "\n",
    "                #시각화\n",
    "                plt.imshow(face[0,:,:,0])\n",
    "                plt.axis('off')\n",
    "                plt.title(emotions_korean[np.argmax(prediction)], fontproperties=font_prop)\n",
    "                plt.show()\n",
    "\n",
    "                #각 감정별 확률 출력              \n",
    "                for emotion_prob, class_ in zip(prediction[0],emotions_korean):\n",
    "                    print(f\"{class_} : {round(float(emotion_prob),2)}\")\n",
    "                \n",
    "                draw.text((x, y - font_size), text_on_img, font=font, fill=\"white\")\n",
    "\n",
    "                draw.rectangle([(x, y), (x + w, y + h)], outline=\"white\", width=font_size//10)\n",
    "\n",
    "            except Exception as e:\n",
    "                print(e)\n",
    "                continue\n",
    "    else:\n",
    "        print(\"얼굴이 탐지되지 않았습니다!\")\n",
    "    frame_with_text = cv2.cvtColor(np.array(pil_image), cv2.COLOR_RGB2BGR)\n",
    "\n",
    "    #결과 이미지 저장\n",
    "    cv2.imwrite(os.path.join(save_path), frame_with_text)\n",
    "\n",
    "\n",
    "\n"
   ]
  },
  {
   "cell_type": "code",
   "execution_count": 4,
   "metadata": {},
   "outputs": [
    {
     "name": "stdout",
     "output_type": "stream",
     "text": [
      "1/1 [==============================] - 2s 2s/step\n"
     ]
    },
    {
     "data": {
      "image/png": "[encoded data removed]",
      "text/plain": [
       "<Figure size 640x480 with 1 Axes>"
      ]
     },
     "metadata": {},
     "output_type": "display_data"
    },
    {
     "name": "stdout",
     "output_type": "stream",
     "text": [
      "분노 : 0.06\n",
      "슬픔 : 0.33\n",
      "당황 : 0.03\n",
      "기쁨 : 0.46\n",
      "중립 : 0.12\n"
     ]
    }
   ],
   "source": [
    "find_and_classify(image_dir=\"models/test_images\",\n",
    "                  save_dir=\"models/test_images/model_inference2\",\n",
    "                  image_filename=\"test5.jpg\",\n",
    "                  model_path= \"v2_final.hdf5\",\n",
    "                  input_shape=(48,48),\n",
    "                  is_grey=True)"
   ]
  }
 ],
 "metadata": {
  "kernelspec": {
   "display_name": "base",
   "language": "python",
   "name": "python3"
  },
  "language_info": {
   "codemirror_mode": {
    "name": "ipython",
    "version": 3
   },
   "file_extension": ".py",
   "mimetype": "text/x-python",
   "name": "python",
   "nbconvert_exporter": "python",
   "pygments_lexer": "ipython3",
   "version": "3.10.11"
  }
 },
 "nbformat": 4,
 "nbformat_minor": 2
}
